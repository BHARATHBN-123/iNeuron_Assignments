{
 "cells": [
  {
   "cell_type": "markdown",
   "metadata": {
    "colab_type": "text",
    "id": "view-in-github"
   },
   "source": [
    "<a href=\"https://colab.research.google.com/github/BHARATHBN-123/iNeuron_Assignments/blob/main/Untitled0.ipynb\" target=\"_parent\"><img src=\"https://colab.research.google.com/assets/colab-badge.svg\" alt=\"Open In Colab\"/></a>"
   ]
  },
  {
   "cell_type": "markdown",
   "metadata": {
    "colab": {
     "base_uri": "https://localhost:8080/"
    },
    "id": "a1hag6p6Ch1W",
    "outputId": "49266227-2f40-4e79-ecfe-4ee2d8f9b003"
   },
   "source": [
    "**1. Write a Python program to print (Hello Python)?**"
   ]
  },
  {
   "cell_type": "code",
   "execution_count": 2,
   "metadata": {
    "colab": {
     "base_uri": "https://localhost:8080/"
    },
    "id": "xA7M_e9juIaz",
    "outputId": "d4403bb9-6db5-4be2-9ae9-4b0bc7c08d8f"
   },
   "outputs": [
    {
     "name": "stdout",
     "output_type": "stream",
     "text": [
      "Hello Python\n"
     ]
    }
   ],
   "source": [
    "print(\"Hello Python\")"
   ]
  },
  {
   "cell_type": "markdown",
   "metadata": {},
   "source": [
    "**2. Write a Python program to do arithmetical operations addition and division.?**"
   ]
  },
  {
   "cell_type": "code",
   "execution_count": 6,
   "metadata": {},
   "outputs": [
    {
     "name": "stdout",
     "output_type": "stream",
     "text": [
      "Addition: 7\n",
      "division: 2.5\n"
     ]
    }
   ],
   "source": [
    "def addition(a ,b):\n",
    "    return \"Addition: \"+str(a+b)\n",
    "def division (a ,b):\n",
    "    return \"division: \"+str(a/b)\n",
    "print(addition(5,2))\n",
    "print(division(5,2))"
   ]
  },
  {
   "cell_type": "markdown",
   "metadata": {},
   "source": [
    "**3. Write a Python program to find the area of a triangle?**"
   ]
  },
  {
   "cell_type": "code",
   "execution_count": 11,
   "metadata": {},
   "outputs": [
    {
     "name": "stdout",
     "output_type": "stream",
     "text": [
      "area_of_triangle:  5.0\n"
     ]
    }
   ],
   "source": [
    "def area_of_triangle(b,h):\n",
    "    return \"area_of_triangle:  \"+str((0.5)*b*h)\n",
    "print(area_of_triangle(5,2))"
   ]
  },
  {
   "cell_type": "markdown",
   "metadata": {},
   "source": [
    "**4. Write a Python program to swap two variables?**"
   ]
  },
  {
   "cell_type": "code",
   "execution_count": 17,
   "metadata": {},
   "outputs": [
    {
     "name": "stdout",
     "output_type": "stream",
     "text": [
      "varables before swapping a = 5 ,  b = 1\n",
      "\n",
      "varables after swapping a = 1 ,  b = 5\n"
     ]
    }
   ],
   "source": [
    "def var_swap(a,b):\n",
    "    print(f\"varables before swapping a = {a} ,  b = {b}\")\n",
    "    print()\n",
    "    temp = a\n",
    "    a = b\n",
    "    b = temp\n",
    "    return f\"varables after swapping a = {a} ,  b = {b}\"\n",
    "print(var_swap(5,1))"
   ]
  },
  {
   "cell_type": "markdown",
   "metadata": {},
   "source": [
    "**5. Write a Python program to generate a random number?**"
   ]
  },
  {
   "cell_type": "code",
   "execution_count": 24,
   "metadata": {},
   "outputs": [
    {
     "name": "stdout",
     "output_type": "stream",
     "text": [
      "[4, 5, 5, 9, 3, 9, 4, 6, 6, 5]\n"
     ]
    }
   ],
   "source": [
    "import random\n",
    "print([random.randint(3, 9) for i in range(0,10) ])"
   ]
  }
 ],
 "metadata": {
  "colab": {
   "authorship_tag": "ABX9TyNd3FtICMbA2ju6WUnZMzS2",
   "include_colab_link": true,
   "mount_file_id": "1EgEaSd7vipZi7h-OatcQeKnJ23U0WCaw",
   "provenance": []
  },
  "kernelspec": {
   "display_name": "Python 3 (ipykernel)",
   "language": "python",
   "name": "python3"
  },
  "language_info": {
   "codemirror_mode": {
    "name": "ipython",
    "version": 3
   },
   "file_extension": ".py",
   "mimetype": "text/x-python",
   "name": "python",
   "nbconvert_exporter": "python",
   "pygments_lexer": "ipython3",
   "version": "3.9.13"
  }
 },
 "nbformat": 4,
 "nbformat_minor": 1
}
