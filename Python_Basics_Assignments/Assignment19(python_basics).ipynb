{
 "cells": [
  {
   "cell_type": "markdown",
   "id": "ad013273",
   "metadata": {},
   "source": [
    "# 1. Make a class called Thing with no contents and print it. Then, create an object called example\n",
    "from this class and also print it. Are the printed values the same or different?"
   ]
  },
  {
   "cell_type": "code",
   "execution_count": null,
   "id": "32a43820",
   "metadata": {},
   "outputs": [],
   "source": [
    "class Thing:\n",
    "  pass\n",
    "\n",
    "print(Thing)\n",
    "\n",
    "example = Thing()\n",
    "print(example)"
   ]
  },
  {
   "cell_type": "markdown",
   "id": "2282aad4",
   "metadata": {},
   "source": [
    "# 2. Create a new class called Thing2 and add the value &#39;abc&#39; to the letters class attribute. Letters\n",
    "should be printed."
   ]
  },
  {
   "cell_type": "code",
   "execution_count": null,
   "id": "9fa9d8ea",
   "metadata": {},
   "outputs": [],
   "source": [
    "class Thing2:\n",
    "  letters = 'abc'\n",
    "\n",
    "print(Thing2.letters)"
   ]
  },
  {
   "cell_type": "markdown",
   "id": "fa3483f6",
   "metadata": {},
   "source": [
    "# 3. Make yet another class called, of course, Thing3. This time, assign the value &#39;xyz&#39; to an instance\n",
    "(object) attribute called letters. Print letters. Do you need to make an object from the class to do\n",
    "this?"
   ]
  },
  {
   "cell_type": "code",
   "execution_count": null,
   "id": "b462e9f1",
   "metadata": {},
   "outputs": [],
   "source": [
    "class Thing3:\n",
    "\n",
    "    def __init__(self):\n",
    "        self.letters = 'xyz'\n",
    "\n",
    "\n",
    "thing3 = Thing3()\n",
    "\n",
    "print(thing3.letters)"
   ]
  },
  {
   "cell_type": "markdown",
   "id": "174f59da",
   "metadata": {},
   "source": [
    "# 4. Create an Element class with the instance attributes name, symbol, and number. Create a class\n",
    "object with the values &#39;Hydrogen,&#39; &#39;H,&#39; and 1."
   ]
  },
  {
   "cell_type": "code",
   "execution_count": null,
   "id": "48d833aa",
   "metadata": {},
   "outputs": [],
   "source": [
    "class Element:\n",
    "\n",
    "    def __init__(self, name, symbol, number):\n",
    "        self.name = name\n",
    "        self.symbol = symbol\n",
    "        self.number = number\n",
    "\n",
    "\n",
    "hydrogen = Element('Hydrogen', 'H', 1)\n",
    "\n",
    "print(hydrogen.name)\n",
    "print(hydrogen.symbol)\n",
    "print(hydrogen.number)"
   ]
  },
  {
   "cell_type": "markdown",
   "id": "70d3e34c",
   "metadata": {},
   "source": [
    "# 5. Make a dictionary with these keys and values: &#39;name&#39;: &#39;Hydrogen&#39;, &#39;symbol&#39;: &#39;H&#39;, &#39;number&#39;: 1. Then,\n",
    "create an object called hydrogen from class Element using this dictionary."
   ]
  },
  {
   "cell_type": "code",
   "execution_count": null,
   "id": "649b97fe",
   "metadata": {},
   "outputs": [],
   "source": [
    "element_dict = {\n",
    "    \"name\": \"Hydrogen\",\n",
    "    \"symbol\": \"H\",\n",
    "    \"number\": 1\n",
    "}\n",
    "\n",
    "hydrogen = Element(**element_dict)\n",
    "\n",
    "print(hydrogen.name)\n",
    "print(hydrogen.symbol)\n",
    "print(hydrogen.number)"
   ]
  },
  {
   "cell_type": "markdown",
   "id": "e94b5ebf",
   "metadata": {},
   "source": [
    "# 6. For the Element class, define a method called dump() that prints the values of the object’s\n",
    "attributes (name, symbol, and number). Create the hydrogen object from this new definition and\n",
    "use dump() to print its attributes."
   ]
  },
  {
   "cell_type": "code",
   "execution_count": null,
   "id": "97c22f58",
   "metadata": {},
   "outputs": [],
   "source": [
    "class Element:\n",
    "\n",
    "    def __init__(self, name, symbol, number):\n",
    "        self.name = name\n",
    "        self.symbol = symbol\n",
    "        self.number = number\n",
    "\n",
    "    def dump(self):\n",
    "        print(f\"Name: {self.name}\")\n",
    "        print(f\"Symbol: {self.symbol}\")\n",
    "        print(f\"Number: {self.number}\")\n",
    "\n",
    "\n",
    "hydrogen = Element('Hydrogen', 'H', 1)\n",
    "\n",
    "hydrogen.dump()"
   ]
  },
  {
   "cell_type": "markdown",
   "id": "266b0d9a",
   "metadata": {},
   "source": [
    "# 7. Call print(hydrogen). In the definition of Element, change the name of method dump to __str__,\n",
    "create a new hydrogen object, and call print(hydrogen) again."
   ]
  },
  {
   "cell_type": "code",
   "execution_count": null,
   "id": "c7b33cde",
   "metadata": {},
   "outputs": [],
   "source": [
    "class Element:\n",
    "\n",
    "    def __init__(self, name, symbol, number):\n",
    "        self.name = name\n",
    "        self.symbol = symbol\n",
    "        self.number = number\n",
    "\n",
    "    def __str__(self):\n",
    "        return f\"Name: {self.name}\\nSymbol: {self.symbol}\\nNumber: {self.number}\"\n",
    "\n",
    "\n",
    "hydrogen = Element('Hydrogen', 'H', 1)\n",
    "\n",
    "print(hydrogen)\n",
    "\n",
    "hydrogen2 = Element('Helium', 'He', 2)\n",
    "\n",
    "print(hydrogen2)"
   ]
  },
  {
   "cell_type": "markdown",
   "id": "6c792464",
   "metadata": {},
   "source": [
    "# 8. Modify Element to make the attributes name, symbol, and number private. Define a getter\n",
    "property for each to return its value."
   ]
  },
  {
   "cell_type": "code",
   "execution_count": null,
   "id": "08a05378",
   "metadata": {},
   "outputs": [],
   "source": [
    "class Element:\n",
    "    def __init__(self,name,symbol,number):\n",
    "        self.__name=name\n",
    "        self.__symbol=symbol\n",
    "        self.__number=number\n",
    "    \n",
    "    def get_name(self):\n",
    "        return self.__name\n",
    "    \n",
    "    def get_symbol(self):\n",
    "        return self.__symbol\n",
    "    \n",
    "    def get_number(self):\n",
    "        return self.__number\n",
    "hydrogen=Element(**element_dict)\n",
    "hydrogen.get_symbol()"
   ]
  },
  {
   "cell_type": "markdown",
   "id": "b87ce294",
   "metadata": {},
   "source": [
    "# 9. Define three classes: Bear, Rabbit, and Octothorpe. For each, define only one method: eats(). This\n",
    "should return &#39;berries&#39; (Bear), &#39;clover&#39; (Rabbit), or &#39;campers&#39; (Octothorpe). Create one object from\n",
    "each and print what it eats."
   ]
  },
  {
   "cell_type": "code",
   "execution_count": null,
   "id": "2098471d",
   "metadata": {},
   "outputs": [],
   "source": [
    "class Bear:\n",
    "    def eats(self):\n",
    "        return 'berries'\n",
    "    \n",
    "class Rabbit:\n",
    "    def eats(self):\n",
    "        return 'clover'\n",
    "    \n",
    "class Octothorpe:\n",
    "    def eats(self):\n",
    "        return 'campers'"
   ]
  },
  {
   "cell_type": "markdown",
   "id": "06609d7d",
   "metadata": {},
   "source": [
    "# 10. Define these classes: Laser, Claw, and SmartPhone. Each has only one method: does(). This\n",
    "returns &#39;disintegrate&#39; (Laser), &#39;crush&#39; (Claw), or &#39;ring&#39; (SmartPhone). Then, define the class Robot that\n",
    "has one instance (object) of each of these. Define a does() method for the Robot that prints what its\n",
    "component objects do."
   ]
  },
  {
   "cell_type": "code",
   "execution_count": null,
   "id": "3ffb2edb",
   "metadata": {},
   "outputs": [],
   "source": [
    "class Laser:\n",
    "    def does(self):\n",
    "        return 'disintegrate'\n",
    "    \n",
    "class Claw:\n",
    "    def does(self):\n",
    "        return 'crush'\n",
    "    \n",
    "class SmartPhone:\n",
    "    def does(self):\n",
    "        return 'ring'\n",
    "    \n",
    "class Robot:\n",
    "    def __init__(self,laser,claw,smartphone):\n",
    "        self.laser=laser\n",
    "        self.claw=claw\n",
    "        self.smartphone=smartphone\n",
    "    \n",
    "    def does(self):\n",
    "        print(f'laser : {self.laser.does()},claw : {self.claw.does()},smartphone : {self.smartphone.does()}')\n",
    "        \n",
    "l=Laser()\n",
    "c=Claw()\n",
    "s=SmartPhone()\n",
    "r=Robot(l,c,s)\n",
    "r.does()"
   ]
  }
 ],
 "metadata": {
  "kernelspec": {
   "display_name": "Python 3 (ipykernel)",
   "language": "python",
   "name": "python3"
  },
  "language_info": {
   "codemirror_mode": {
    "name": "ipython",
    "version": 3
   },
   "file_extension": ".py",
   "mimetype": "text/x-python",
   "name": "python",
   "nbconvert_exporter": "python",
   "pygments_lexer": "ipython3",
   "version": "3.10.11"
  }
 },
 "nbformat": 4,
 "nbformat_minor": 5
}
