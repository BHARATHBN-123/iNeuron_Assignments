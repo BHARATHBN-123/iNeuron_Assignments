{
 "cells": [
  {
   "cell_type": "code",
   "execution_count": 1,
   "id": "f308bc47",
   "metadata": {},
   "outputs": [
    {
     "data": {
      "text/plain": [
       "'Question1\\nCreate a function that takes a list of strings and integers, and filters out the list so that it\\nreturns a list of integers only.\\nExamples\\nfilter_list([1, 2, 3, &quot;a&quot;, &quot;b&quot;, 4]) ➞ [1, 2, 3, 4]\\nfilter_list([&quot;A&quot;, 0, &quot;Edabit&quot;, 1729, &quot;Python&quot;, &quot;1729&quot;]) ➞ [0, 1729]\\nfilter_list([&quot;Nothing&quot;, &quot;here&quot;]) ➞ []'"
      ]
     },
     "execution_count": 1,
     "metadata": {},
     "output_type": "execute_result"
    }
   ],
   "source": [
    "'''Question1\n",
    "Create a function that takes a list of strings and integers, and filters out the list so that it\n",
    "returns a list of integers only.\n",
    "Examples\n",
    "filter_list([1, 2, 3, &quot;a&quot;, &quot;b&quot;, 4]) ➞ [1, 2, 3, 4]\n",
    "filter_list([&quot;A&quot;, 0, &quot;Edabit&quot;, 1729, &quot;Python&quot;, &quot;1729&quot;]) ➞ [0, 1729]\n",
    "filter_list([&quot;Nothing&quot;, &quot;here&quot;]) ➞ []'''"
   ]
  },
  {
   "cell_type": "code",
   "execution_count": 2,
   "id": "42c9c98f",
   "metadata": {},
   "outputs": [
    {
     "data": {
      "text/plain": [
       "[1, 3, 5]"
      ]
     },
     "execution_count": 2,
     "metadata": {},
     "output_type": "execute_result"
    }
   ],
   "source": [
    "def filter_list(li):\n",
    "    for ele in li:\n",
    "        if type(ele) != int:\n",
    "            li.remove(ele)\n",
    "    return li\n",
    "li =  [1, 'two', 3, 'four', 5]\n",
    "\n",
    "filter_list(li) "
   ]
  },
  {
   "cell_type": "code",
   "execution_count": 4,
   "id": "fe322ce9",
   "metadata": {},
   "outputs": [
    {
     "data": {
      "text/plain": [
       "'**Question2\\nGiven a list of numbers, create a function which returns the list but with each element&#39;s\\nindex in the list added to itself. This means you add 0 to the number at index 0, add 1 to the\\nnumber at index 1, etc...\\nExamples\\nadd_indexes([0, 0, 0, 0, 0]) ➞ [0, 1, 2, 3, 4]\\nadd_indexes([1, 2, 3, 4, 5]) ➞ [1, 3, 5, 7, 9]\\nadd_indexes([5, 4, 3, 2, 1]) ➞ [5, 5, 5, 5, 5]'"
      ]
     },
     "execution_count": 4,
     "metadata": {},
     "output_type": "execute_result"
    }
   ],
   "source": [
    "'''**Question2\n",
    "Given a list of numbers, create a function which returns the list but with each element&#39;s\n",
    "index in the list added to itself. This means you add 0 to the number at index 0, add 1 to the\n",
    "number at index 1, etc...\n",
    "Examples\n",
    "add_indexes([0, 0, 0, 0, 0]) ➞ [0, 1, 2, 3, 4]\n",
    "add_indexes([1, 2, 3, 4, 5]) ➞ [1, 3, 5, 7, 9]\n",
    "add_indexes([5, 4, 3, 2, 1]) ➞ [5, 5, 5, 5, 5]'''"
   ]
  },
  {
   "cell_type": "code",
   "execution_count": 6,
   "id": "a832ae13",
   "metadata": {},
   "outputs": [
    {
     "data": {
      "text/plain": [
       "[1, 3, 5, 7, 9]"
      ]
     },
     "execution_count": 6,
     "metadata": {},
     "output_type": "execute_result"
    }
   ],
   "source": [
    "def add_indexes(li):\n",
    "    final_list = []\n",
    "    for index , num in enumerate(li):\n",
    "        final_list.append(index+num)\n",
    "    return final_list\n",
    "add_indexes([1, 2, 3, 4, 5])"
   ]
  },
  {
   "cell_type": "code",
   "execution_count": null,
   "id": "ac6a584e",
   "metadata": {},
   "outputs": [],
   "source": [
    "'''Question3\n",
    "Create a function that takes the height and radius of a cone as arguments and returns the\n",
    "volume of the cone rounded to the nearest hundredth. See the resources tab for the formula.\n",
    "\n",
    "Examples\n",
    "cone_volume(3, 2) ➞ 12.57\n",
    "\n",
    "cone_volume(15, 6) ➞ 565.49\n",
    "cone_volume(18, 0) ➞ 0'''"
   ]
  },
  {
   "cell_type": "code",
   "execution_count": 9,
   "id": "da5c194c",
   "metadata": {},
   "outputs": [
    {
     "data": {
      "text/plain": [
       "12.57"
      ]
     },
     "execution_count": 9,
     "metadata": {},
     "output_type": "execute_result"
    }
   ],
   "source": [
    "import math\n",
    "\n",
    "def volume_of_cone(h , r):\n",
    "    volume = (1/3)*math.pi*(r**2)*h\n",
    "    return round(volume,2)\n",
    "volume_of_cone(3 , 2)"
   ]
  },
  {
   "cell_type": "code",
   "execution_count": 10,
   "id": "565f8a61",
   "metadata": {},
   "outputs": [
    {
     "data": {
      "text/plain": [
       "'Question4\\nThis Triangular Number Sequence is generated from a pattern of dots that form a triangle.\\nThe first 5 numbers of the sequence, or dots, are:\\n1, 3, 6, 10, 15\\nThis means that the first triangle has just one dot, the second one has three dots, the third one\\nhas 6 dots and so on.\\nWrite a function that gives the number of dots with its corresponding triangle number of the\\nsequence.\\nExamples\\ntriangle(1) ➞ 1\\ntriangle(6) ➞ 21\\ntriangle(215) ➞ 23220'"
      ]
     },
     "execution_count": 10,
     "metadata": {},
     "output_type": "execute_result"
    }
   ],
   "source": [
    "'''Question4\n",
    "This Triangular Number Sequence is generated from a pattern of dots that form a triangle.\n",
    "The first 5 numbers of the sequence, or dots, are:\n",
    "1, 3, 6, 10, 15\n",
    "This means that the first triangle has just one dot, the second one has three dots, the third one\n",
    "has 6 dots and so on.\n",
    "Write a function that gives the number of dots with its corresponding triangle number of the\n",
    "sequence.\n",
    "Examples\n",
    "triangle(1) ➞ 1\n",
    "triangle(6) ➞ 21\n",
    "triangle(215) ➞ 23220'''"
   ]
  },
  {
   "cell_type": "code",
   "execution_count": 14,
   "id": "8b5002e1",
   "metadata": {},
   "outputs": [
    {
     "data": {
      "text/plain": [
       "23220"
      ]
     },
     "execution_count": 14,
     "metadata": {},
     "output_type": "execute_result"
    }
   ],
   "source": [
    "def triangle(N):\n",
    "    S = 0\n",
    "    for i in range(N+1):\n",
    "        S +=i\n",
    "    return S\n",
    "triangle(215)\n",
    "        "
   ]
  },
  {
   "cell_type": "code",
   "execution_count": 15,
   "id": "71d2f9c9",
   "metadata": {},
   "outputs": [
    {
     "data": {
      "text/plain": [
       "'Question5\\nCreate a function that takes a list of numbers between 1 and 10 (excluding one number) and\\nreturns the missing number.\\nExamples\\nmissing_num([1, 2, 3, 4, 6, 7, 8, 9, 10]) ➞ 5\\nmissing_num([7, 2, 3, 6, 5, 9, 1, 4, 8]) ➞ 10\\nmissing_num([10, 5, 1, 2, 4, 6, 8, 3, 9]) ➞ 7'"
      ]
     },
     "execution_count": 15,
     "metadata": {},
     "output_type": "execute_result"
    }
   ],
   "source": [
    "'''Question5\n",
    "Create a function that takes a list of numbers between 1 and 10 (excluding one number) and\n",
    "returns the missing number.\n",
    "Examples\n",
    "missing_num([1, 2, 3, 4, 6, 7, 8, 9, 10]) ➞ 5\n",
    "missing_num([7, 2, 3, 6, 5, 9, 1, 4, 8]) ➞ 10\n",
    "missing_num([10, 5, 1, 2, 4, 6, 8, 3, 9]) ➞ 7'''"
   ]
  },
  {
   "cell_type": "code",
   "execution_count": null,
   "id": "e34894f5",
   "metadata": {},
   "outputs": [],
   "source": [
    "def missing_num(M):\n",
    "    for i in range(0,11):\n",
    "        if M[i] != i+1:\n",
    "            return f\"{M[i]} is mising\"\n",
    "        "
   ]
  },
  {
   "cell_type": "code",
   "execution_count": null,
   "id": "15b58a11",
   "metadata": {},
   "outputs": [],
   "source": []
  }
 ],
 "metadata": {
  "kernelspec": {
   "display_name": "Python 3 (ipykernel)",
   "language": "python",
   "name": "python3"
  },
  "language_info": {
   "codemirror_mode": {
    "name": "ipython",
    "version": 3
   },
   "file_extension": ".py",
   "mimetype": "text/x-python",
   "name": "python",
   "nbconvert_exporter": "python",
   "pygments_lexer": "ipython3",
   "version": "3.9.13"
  }
 },
 "nbformat": 4,
 "nbformat_minor": 5
}
