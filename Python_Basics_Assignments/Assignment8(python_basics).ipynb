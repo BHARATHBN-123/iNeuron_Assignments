{
 "cells": [
  {
   "cell_type": "markdown",
   "id": "b6b2d054",
   "metadata": {},
   "source": [
    "#  1. Is the Python Standard Library included with PyInputPlus?"
   ]
  },
  {
   "cell_type": "markdown",
   "id": "c97646b9",
   "metadata": {},
   "source": [
    "No, the Python Standard Library is not included with PyInputPlus. PyInputPlus is a third-party library that provides additional input validation features to Python."
   ]
  },
  {
   "cell_type": "markdown",
   "id": "a870360f",
   "metadata": {},
   "source": [
    "# 2. Why is PyInputPlus commonly imported with import pyinputplus as pypi?"
   ]
  },
  {
   "cell_type": "markdown",
   "id": "da6679d4",
   "metadata": {},
   "source": [
    "PyInputPlus is commonly imported with import pyinputplus as pypi because it makes the code more concise and easier to read."
   ]
  },
  {
   "cell_type": "markdown",
   "id": "61af5d27",
   "metadata": {},
   "source": [
    "# 3. How do you distinguish between inputInt() and inputFloat()?"
   ]
  },
  {
   "cell_type": "markdown",
   "id": "a86022d2",
   "metadata": {},
   "source": [
    "inputInt() and inputFloat() are both functions in PyInputPlus that allow the user to enter a number. The difference between the two functions is that inputInt() only accepts whole numbers, while inputFloat() accepts both whole numbers and decimal numbers."
   ]
  },
  {
   "cell_type": "markdown",
   "id": "eedde973",
   "metadata": {},
   "source": [
    "# 4. Using PyInputPlus, how do you ensure that the user enters a whole number between 0 and 99?"
   ]
  },
  {
   "cell_type": "markdown",
   "id": "b85517ae",
   "metadata": {},
   "source": [
    "To ensure that the user enters a whole number between 0 and 99, you can use the inputInt() function with the min and max parameters. For example, the following code will ensure that the user enters a whole number between 0 and 99:\n",
    "\n",
    "number = inputInt(min=0, max=99)"
   ]
  },
  {
   "cell_type": "markdown",
   "id": "e70f2e59",
   "metadata": {},
   "source": [
    "# 5. What is transferred to the keyword arguments allowRegexes and blockRegexes?"
   ]
  },
  {
   "cell_type": "markdown",
   "id": "265b686c",
   "metadata": {},
   "source": [
    "The allowRegexes and blockRegexes keyword arguments are used to specify regular expressions that are allowed or blocked, respectively. For example, the following code will only allow the user to enter numbers:\n",
    "\n",
    "number = inputInt(allowRegexes='\\d+')"
   ]
  },
  {
   "cell_type": "markdown",
   "id": "4c36bcc5",
   "metadata": {},
   "source": [
    "# 6. If a blank input is entered three times, what does inputStr(limit=3) do?"
   ]
  },
  {
   "cell_type": "markdown",
   "id": "55bebf51",
   "metadata": {},
   "source": [
    "If a blank input is entered three times, inputStr(limit=3) will raise a ValueError exception."
   ]
  },
  {
   "cell_type": "markdown",
   "id": "4de4862d",
   "metadata": {},
   "source": [
    "# 7. If blank input is entered three times, what does inputStr(limit=3, default=&#39;hello&#39;) do?"
   ]
  },
  {
   "cell_type": "markdown",
   "id": "8d805df5",
   "metadata": {},
   "source": [
    "If a blank input is entered three times, inputStr(limit=3, default='hello') will return the default value of 'hello'."
   ]
  }
 ],
 "metadata": {
  "kernelspec": {
   "display_name": "Python 3 (ipykernel)",
   "language": "python",
   "name": "python3"
  },
  "language_info": {
   "codemirror_mode": {
    "name": "ipython",
    "version": 3
   },
   "file_extension": ".py",
   "mimetype": "text/x-python",
   "name": "python",
   "nbconvert_exporter": "python",
   "pygments_lexer": "ipython3",
   "version": "3.10.11"
  }
 },
 "nbformat": 4,
 "nbformat_minor": 5
}
