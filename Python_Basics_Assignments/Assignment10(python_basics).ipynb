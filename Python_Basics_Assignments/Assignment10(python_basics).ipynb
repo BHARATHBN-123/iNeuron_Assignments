{
 "cells": [
  {
   "cell_type": "markdown",
   "id": "f1290783",
   "metadata": {},
   "source": [
    "# 1. How do you distinguish between shutil.copy() and shutil.copytree()?"
   ]
  },
  {
   "cell_type": "markdown",
   "id": "7955e936",
   "metadata": {},
   "source": [
    "shutil.copy() copies a single file, while shutil.copytree() copies an entire directory tree, including all of its contents."
   ]
  },
  {
   "cell_type": "markdown",
   "id": "2361ed7c",
   "metadata": {},
   "source": [
    "# 2. What function is used to rename files??"
   ]
  },
  {
   "cell_type": "markdown",
   "id": "e50c113e",
   "metadata": {},
   "source": [
    "The os.rename() function is used to rename files."
   ]
  },
  {
   "cell_type": "markdown",
   "id": "680a5f31",
   "metadata": {},
   "source": [
    "# 3. What is the difference between the delete functions in the send2trash and shutil modules?"
   ]
  },
  {
   "cell_type": "markdown",
   "id": "fad5f0ac",
   "metadata": {},
   "source": [
    "The send2trash modules move files to the recycle bin, while the shutil modules permanently delete files."
   ]
  },
  {
   "cell_type": "markdown",
   "id": "25365ce9",
   "metadata": {},
   "source": [
    "# 4.ZipFile objects have a close() method just like File objects’ close() method. What ZipFile method is equivalent to File objects’ open() method?"
   ]
  },
  {
   "cell_type": "markdown",
   "id": "541ffe92",
   "metadata": {},
   "source": [
    "The ZipFile.open() method is equivalent to the File.open() method."
   ]
  },
  {
   "cell_type": "markdown",
   "id": "1882d6aa",
   "metadata": {},
   "source": [
    "# 5. Create a programme that searches a folder tree for files with a certain file extension (such as .pdf or .jpg). Copy these files from whatever location they are in to a new folder."
   ]
  },
  {
   "cell_type": "code",
   "execution_count": 2,
   "id": "40773d88",
   "metadata": {},
   "outputs": [
    {
     "data": {
      "text/plain": [
       "\"\\nimport os\\nimport shutil\\n\\ndef search_and_copy(folder, extension, new_folder):\\n  for root, dirs, files in os.walk(folder):\\n    for file in files:\\n      if file.endswith(extension):\\n        shutil.copy(os.path.join(root, file), new_folder)\\n\\nif __name__ == '__main__':\\n  folder = input('Enter the folder to search: ')\\n  extension = input('Enter the file extension: ')\\n  new_folder = input('Enter the name of the new folder: ')\\n\\n  search_and_copy(folder, extension, new_folder)\\n\""
      ]
     },
     "execution_count": 2,
     "metadata": {},
     "output_type": "execute_result"
    }
   ],
   "source": [
    "\n",
    "'''\n",
    "import os\n",
    "import shutil\n",
    "\n",
    "def search_and_copy(folder, extension, new_folder):\n",
    "  for root, dirs, files in os.walk(folder):\n",
    "    for file in files:\n",
    "      if file.endswith(extension):\n",
    "        shutil.copy(os.path.join(root, file), new_folder)\n",
    "\n",
    "if __name__ == '__main__':\n",
    "  folder = input('Enter the folder to search: ')\n",
    "  extension = input('Enter the file extension: ')\n",
    "  new_folder = input('Enter the name of the new folder: ')\n",
    "\n",
    "  search_and_copy(folder, extension, new_folder)\n",
    "'''"
   ]
  }
 ],
 "metadata": {
  "kernelspec": {
   "display_name": "Python 3 (ipykernel)",
   "language": "python",
   "name": "python3"
  },
  "language_info": {
   "codemirror_mode": {
    "name": "ipython",
    "version": 3
   },
   "file_extension": ".py",
   "mimetype": "text/x-python",
   "name": "python",
   "nbconvert_exporter": "python",
   "pygments_lexer": "ipython3",
   "version": "3.10.11"
  }
 },
 "nbformat": 4,
 "nbformat_minor": 5
}
