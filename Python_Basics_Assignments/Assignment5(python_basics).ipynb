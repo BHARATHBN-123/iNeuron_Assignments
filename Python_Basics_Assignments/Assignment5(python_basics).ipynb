{
 "cells": [
  {
   "cell_type": "markdown",
   "id": "9794cc75",
   "metadata": {},
   "source": [
    "# 1. What does an empty dictionary&#39;s code look like?"
   ]
  },
  {
   "cell_type": "markdown",
   "id": "f8349572",
   "metadata": {},
   "source": [
    "my_dict = {}"
   ]
  },
  {
   "cell_type": "markdown",
   "id": "8f70e26c",
   "metadata": {},
   "source": [
    "# 2. What is the value of a dictionary value with the key &#39;foo&#39; and the value 42?"
   ]
  },
  {
   "cell_type": "markdown",
   "id": "2d90c8e4",
   "metadata": {},
   "source": [
    "my_dict = {\"foo\": 42}"
   ]
  },
  {
   "cell_type": "markdown",
   "id": "71bf91f7",
   "metadata": {},
   "source": [
    "# 3. What is the most significant distinction between a dictionary and a list?"
   ]
  },
  {
   "cell_type": "markdown",
   "id": "dc5c260c",
   "metadata": {},
   "source": [
    "The most significant difference between a dictionary and a list is that a dictionary stores data in key-value pairs, while a list stores data in a linear order. This means that you can access a value in a dictionary using its key, but you can only access a value in a list using its index."
   ]
  },
  {
   "cell_type": "markdown",
   "id": "012c4d7c",
   "metadata": {},
   "source": [
    "# 4. What happens if you try to access spam[&#39;foo&#39;] if spam is {&#39;bar&#39;: 100}?"
   ]
  },
  {
   "cell_type": "markdown",
   "id": "9cf15dca",
   "metadata": {},
   "source": [
    "spam = {'bar': 100}\n",
    "\n",
    "try:\n",
    "\n",
    "  print(spam['foo'])\n",
    "  \n",
    "except KeyError:\n",
    "\n",
    "  print(\"The key 'foo' does not exist in the dictionary\")"
   ]
  },
  {
   "cell_type": "markdown",
   "id": "2af5b963",
   "metadata": {},
   "source": [
    "# 5. If a dictionary is stored in spam, what is the difference between the expressions &#39;cat&#39; in spam and &#39;cat&#39; in spam.keys()?"
   ]
  },
  {
   "cell_type": "markdown",
   "id": "f5640589",
   "metadata": {},
   "source": [
    "The in operator is used to check whether a value exists in a collection. In the case of a dictionary, the collection is the set of keys. The keys() method returns a list of the keys in a dictionary. So, 'cat' in spam and 'cat' in spam.keys() are equivalent expressions."
   ]
  },
  {
   "cell_type": "markdown",
   "id": "40634b5d",
   "metadata": {},
   "source": [
    "# 6. If a dictionary is stored in spam, what is the difference between the expressions &#39;cat&#39; in spam and &#39;cat&#39; in spam.values()?"
   ]
  },
  {
   "cell_type": "markdown",
   "id": "6c8e69b0",
   "metadata": {},
   "source": [
    "\n",
    "There is no difference between the expressions 'cat' in spam and 'cat' in spam.values(). The in operator checks whether a value exists as a key in the dictionary. In both cases, the expression will return True if the dictionary has a key 'cat', and False otherwise.\n",
    "\n",
    "The values() method returns a list of all the values in the dictionary. In this case, the list will contain one element, the value associated with the key 'cat'. However, the in operator does not care about the value, only whether the key exists. Therefore, the expression 'cat' in spam.values() will return the same result as 'cat' in spam"
   ]
  },
  {
   "cell_type": "markdown",
   "id": "ae20b2b5",
   "metadata": {},
   "source": [
    "# 7. What is a shortcut for the following code? if &#39;color&#39; not in spam:spam[&#39;color&#39;] = &#39;black&#39;"
   ]
  },
  {
   "cell_type": "markdown",
   "id": "1ec8c6d4",
   "metadata": {},
   "source": [
    "The setdefault() method is a built-in method in Python that sets the value of a key in a dictionary if the key does not already exist. In this case, the key 'color' does not exist in the dictionary spam, so the setdefault() method will set the value of 'color' to 'black'."
   ]
  },
  {
   "cell_type": "markdown",
   "id": "9715fe9d",
   "metadata": {},
   "source": [
    "# 8. How do you &quot;pretty print&quot; dictionary values using which module and function?"
   ]
  },
  {
   "cell_type": "markdown",
   "id": "de7671b0",
   "metadata": {},
   "source": [
    "To pretty print dictionary values in Python, you can use the pprint() function from the pprint module. The pprint() function takes a dictionary as its input and returns a string representation of the dictionary with appropriate indentation and line breaks."
   ]
  }
 ],
 "metadata": {
  "kernelspec": {
   "display_name": "Python 3 (ipykernel)",
   "language": "python",
   "name": "python3"
  },
  "language_info": {
   "codemirror_mode": {
    "name": "ipython",
    "version": 3
   },
   "file_extension": ".py",
   "mimetype": "text/x-python",
   "name": "python",
   "nbconvert_exporter": "python",
   "pygments_lexer": "ipython3",
   "version": "3.10.11"
  }
 },
 "nbformat": 4,
 "nbformat_minor": 5
}
