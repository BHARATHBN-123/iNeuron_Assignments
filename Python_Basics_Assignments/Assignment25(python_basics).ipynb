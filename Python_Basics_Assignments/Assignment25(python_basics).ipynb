{
 "cells": [
  {
   "cell_type": "markdown",
   "id": "29a549ad",
   "metadata": {},
   "source": [
    "# 1) . What is the difference between enclosing a list comprehension in square brackets and parentheses?"
   ]
  },
  {
   "cell_type": "markdown",
   "id": "d1c72f97",
   "metadata": {},
   "source": [
    "The main difference between enclosing a list comprehension in square brackets and parentheses is that a list comprehension in square brackets creates a list, while a list comprehension in parentheses creates a generator. A list is a data structure that stores a collection of objects, while a generator is a function that produces a sequence of values one at a time."
   ]
  },
  {
   "cell_type": "markdown",
   "id": "63b64cc4",
   "metadata": {},
   "source": [
    "# 2) What is the relationship between generators and iterators?"
   ]
  },
  {
   "cell_type": "markdown",
   "id": "39b29c97",
   "metadata": {},
   "source": [
    "Generators and iterators are closely related. A generator is a function that produces a sequence of values one at a time, while an iterator is an object that can be used to iterate over a sequence of values. Generators are created using the yield statement, while iterators are created using the iter() function.\n"
   ]
  },
  {
   "cell_type": "markdown",
   "id": "30bde52f",
   "metadata": {},
   "source": [
    "# 3) What are the signs that a function is a generator function?"
   ]
  },
  {
   "cell_type": "markdown",
   "id": "dd09cc8b",
   "metadata": {},
   "source": [
    "There are a few signs that a function is a generator function. First, the function must contain a yield statement. Second, the function must not return anything. Third, the function must be called using the () syntax, not the [] syntax."
   ]
  },
  {
   "cell_type": "markdown",
   "id": "77ef3bac",
   "metadata": {},
   "source": [
    "# 4) What is the purpose of a yield statement?"
   ]
  },
  {
   "cell_type": "markdown",
   "id": "da9fd62f",
   "metadata": {},
   "source": [
    "The purpose of a yield statement is to return a value from a generator function without consuming the rest of the generator. This allows the generator to be used in a for loop, where each iteration of the loop will yield the next value from the generator."
   ]
  },
  {
   "cell_type": "markdown",
   "id": "f72112f1",
   "metadata": {},
   "source": [
    "# 5) What is the relationship between map calls and list comprehensions? Make a comparison and contrast between the two."
   ]
  },
  {
   "cell_type": "markdown",
   "id": "2d8b9153",
   "metadata": {},
   "source": [
    "Map calls and list comprehensions are both used to create a new list from an existing list. However, there are some key differences between the two. Map calls use the map() function, while list comprehensions use the [] syntax. Map calls are more efficient than list comprehensions, but they are also less flexible. List comprehensions can be used to create more complex lists, while map calls can only be used to create lists of the same type as the input list."
   ]
  }
 ],
 "metadata": {
  "kernelspec": {
   "display_name": "Python 3 (ipykernel)",
   "language": "python",
   "name": "python3"
  },
  "language_info": {
   "codemirror_mode": {
    "name": "ipython",
    "version": 3
   },
   "file_extension": ".py",
   "mimetype": "text/x-python",
   "name": "python",
   "nbconvert_exporter": "python",
   "pygments_lexer": "ipython3",
   "version": "3.10.11"
  }
 },
 "nbformat": 4,
 "nbformat_minor": 5
}
