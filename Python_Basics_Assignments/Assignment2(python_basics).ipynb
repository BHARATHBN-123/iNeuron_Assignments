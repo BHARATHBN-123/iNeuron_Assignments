{
 "cells": [
  {
   "cell_type": "markdown",
   "metadata": {},
   "source": [
    "1.What are the two values of the Boolean data type? How do you write them?"
   ]
  },
  {
   "cell_type": "markdown",
   "metadata": {},
   "source": [
    "The two values of the Boolean data type are true and false. They can be written in a variety of ways, including:\n",
    "\n",
    "true or 1\n",
    "\n",
    "false or 0\n",
    "\n",
    "\n",
    "The Boolean data type is a binary data type, which means that it can only store one of two values. This makes it ideal for representing logical values, such as whether a condition is met or not."
   ]
  },
  {
   "cell_type": "markdown",
   "metadata": {},
   "source": [
    "2. What are the three different types of Boolean operators?"
   ]
  },
  {
   "cell_type": "markdown",
   "metadata": {},
   "source": [
    "AND,\n",
    "OR,\n",
    "NOT,"
   ]
  },
  {
   "cell_type": "markdown",
   "metadata": {},
   "source": [
    "3. Make a list of each Boolean operator&#39;s truth tables (i.e. every possible combination of Boolean values for the operator and what it evaluate )."
   ]
  },
  {
   "attachments": {
    "image.png": {
     "image/png": "[encoded data removed]"
    }
   },
   "cell_type": "markdown",
   "metadata": {},
   "source": [
    "![image.png](attachment:image.png)"
   ]
  },
  {
   "cell_type": "markdown",
   "metadata": {},
   "source": [
    "4. What are the values of the following expressions?\n",
    "(5 &gt; 4) and (3 == 5)\n",
    "not (5 &gt; 4)\n",
    "(5 &gt; 4) or (3 == 5)\n",
    "not ((5 &gt; 4) or (3 == 5))\n",
    "(True and True) and (True == False)\n",
    "(not False) or (not True)"
   ]
  },
  {
   "cell_type": "markdown",
   "metadata": {},
   "source": [
    "(5 > 4) and (3 == 5) | False\n",
    "not (5 > 4) | False\n",
    "(5 > 4) or (3 == 5) | True\n",
    "not ((5 > 4) or (3 == 5)) | False\n",
    "(True and True) and (True == False) | False\n",
    "(not False) or (not True) | True"
   ]
  },
  {
   "cell_type": "markdown",
   "metadata": {},
   "source": [
    "5. What are the six comparison operators?"
   ]
  },
  {
   "cell_type": "markdown",
   "metadata": {},
   "source": [
    "Less than (<)\n",
    "\n",
    "Less than or equal to (<=)\n",
    "\n",
    "Greater than (>)\n",
    "\n",
    "Greater than or equal to (>=)\n",
    "\n",
    "Equal to (==)\n",
    "\n",
    "Not equal to (!=)"
   ]
  },
  {
   "cell_type": "markdown",
   "metadata": {},
   "source": [
    "6. How do you tell the difference between the equal to and assignment operators?Describe a\n",
    "condition and when you would use one."
   ]
  },
  {
   "cell_type": "markdown",
   "metadata": {},
   "source": [
    "\n",
    "The equal to operator (==) is used to compare two values and return a Boolean value, either True or False. The assignment operator (=) is used to assign a value to a variable."
   ]
  },
  {
   "cell_type": "markdown",
   "metadata": {},
   "source": [
    "\n",
    "7. Identify the three blocks in this code:\n",
    "spam = 0\n",
    "if spam == 10:\n",
    "print(&#39;eggs&#39;)\n",
    "if spam &gt; 5:\n",
    "print(&#39;bacon&#39;)\n",
    "else:\n",
    "print(&#39;ham&#39;)\n",
    "print(&#39;spam&#39;)\n",
    "print(&#39;spam&#39;)\n"
   ]
  },
  {
   "cell_type": "markdown",
   "metadata": {},
   "source": [
    "The first block is the assignment statement spam = 0. This statement assigns the value 0 to the variable spam.\n",
    "\n",
    "The second block is the if statement if spam == 10:. This statement checks if the value of spam is equal to 10. If it is, the print() statement print(\"eggs\") will be executed.\n",
    "\n",
    "The third block is the else statement else:. This statement will be executed if the condition in the if statement is false. In this case, the print() statement print(\"ham\") will be executed."
   ]
  },
  {
   "cell_type": "markdown",
   "metadata": {},
   "source": [
    "8. Write code that prints Hello if 1 is stored in spam, prints Howdy if 2 is stored in spam, and prints\n",
    "Greetings! if anything else is stored in spam.\n"
   ]
  },
  {
   "cell_type": "markdown",
   "metadata": {},
   "source": [
    "spam = int(input(\"What is stored in spam? \"))\n",
    "\n",
    "if spam == 1:\n",
    "\n",
    "    print(\"Hello\")\n",
    "    \n",
    "elif spam == 2:\n",
    "\n",
    "    print(\"Howdy\")\n",
    "    \n",
    "else:\n",
    "\n",
    "    print(\"Greetings!\")"
   ]
  },
  {
   "cell_type": "markdown",
   "metadata": {},
   "source": [
    "9.If your programme is stuck in an endless loop, what keys you’ll press?"
   ]
  },
  {
   "cell_type": "markdown",
   "metadata": {},
   "source": [
    "Ctrl+C"
   ]
  },
  {
   "cell_type": "markdown",
   "metadata": {},
   "source": [
    "\n",
    "10. How can you tell the difference between break and continue?"
   ]
  },
  {
   "cell_type": "markdown",
   "metadata": {},
   "source": [
    "\n",
    "The break and continue statements are both used to control the flow of a program, but they do different things. The break statement terminates the current loop, while the continue statement skips the current iteration of the loop and continues with the next iteration."
   ]
  },
  {
   "cell_type": "markdown",
   "metadata": {},
   "source": [
    "11. In a for loop, what is the difference between range(10), range(0, 10), and range(0, 10, 1)?"
   ]
  },
  {
   "cell_type": "markdown",
   "metadata": {},
   "source": [
    "\n",
    "The difference between range(10), range(0, 10), and range(0, 10, 1) is the start, stop, and step values.\n",
    "\n",
    "range(10) generates a sequence of numbers from 0 to 9, inclusive.\n",
    "\n",
    "range(0, 10) generates a sequence of numbers from 0 to 9, exclusive.\n",
    "\n",
    "range(0, 10, 1) generates a sequence of numbers from 0 to 9, inclusive, with a step size of 1."
   ]
  },
  {
   "cell_type": "markdown",
   "metadata": {},
   "source": [
    "12. Write a short program that prints the numbers 1 to 10 using a for loop. Then write an equivalent\n",
    "program that prints the numbers 1 to 10 using a while loop."
   ]
  },
  {
   "cell_type": "markdown",
   "metadata": {},
   "source": [
    "# For loop\n",
    "\n",
    "for i in range(1, 11):\n",
    "\n",
    "    print(i)\n",
    "    \n",
    "\n",
    "# While loop\n",
    "\n",
    "i = 1\n",
    "\n",
    "while i <= 10:\n",
    "\n",
    "    print(i)\n",
    "    \n",
    "    i += 1"
   ]
  },
  {
   "cell_type": "markdown",
   "metadata": {},
   "source": [
    "13. If you had a function named bacon() inside a module named spam, how would you call it after\n",
    "importing spam?"
   ]
  },
  {
   "cell_type": "markdown",
   "metadata": {},
   "source": [
    "import spam\n",
    "\n",
    "spam.bacon()"
   ]
  }
 ],
 "metadata": {
  "colab": {
   "authorship_tag": "ABX9TyMVQcnkEaPiwZgdCT2iMJbv",
   "include_colab_link": true,
   "mount_file_id": "1EgEaSd7vipZi7h-OatcQeKnJ23U0WCaw",
   "provenance": []
  },
  "kernelspec": {
   "display_name": "Python 3 (ipykernel)",
   "language": "python",
   "name": "python3"
  },
  "language_info": {
   "codemirror_mode": {
    "name": "ipython",
    "version": 3
   },
   "file_extension": ".py",
   "mimetype": "text/x-python",
   "name": "python",
   "nbconvert_exporter": "python",
   "pygments_lexer": "ipython3",
   "version": "3.10.11"
  }
 },
 "nbformat": 4,
 "nbformat_minor": 1
}
