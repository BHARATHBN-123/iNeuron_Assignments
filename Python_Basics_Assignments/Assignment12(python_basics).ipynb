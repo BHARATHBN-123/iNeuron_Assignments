{
 "cells": [
  {
   "cell_type": "markdown",
   "id": "e1ce64e6",
   "metadata": {},
   "source": [
    "# 1. In what modes should the PdfFileReader() and PdfFileWriter() File objects will be opened?"
   ]
  },
  {
   "cell_type": "markdown",
   "id": "fe59af37",
   "metadata": {},
   "source": [
    "The PdfFileReader() and PdfFileWriter() File objects should be opened in binary mode. This is because PDF files are binary files, and opening them in text mode will cause errors."
   ]
  },
  {
   "cell_type": "markdown",
   "id": "d05be32f",
   "metadata": {},
   "source": [
    "# 2. From a PdfFileReader object, how do you get a Page object for page 5?"
   ]
  },
  {
   "cell_type": "markdown",
   "id": "e93d15ff",
   "metadata": {},
   "source": [
    "page = reader.getPage(5)"
   ]
  },
  {
   "cell_type": "markdown",
   "id": "d29250e2",
   "metadata": {},
   "source": [
    "# 3. What PdfFileReader variable stores the number of pages in the PDF document?"
   ]
  },
  {
   "cell_type": "markdown",
   "id": "4e416b6f",
   "metadata": {},
   "source": [
    "The numPages variable stores the number of pages in the PDF document."
   ]
  },
  {
   "cell_type": "markdown",
   "id": "9b6bdd57",
   "metadata": {},
   "source": [
    "# 4. If a PdfFileReader object’s PDF is encrypted with the password swordfish, what must you do\n",
    "before you can obtain Page objects from it?"
   ]
  },
  {
   "cell_type": "markdown",
   "id": "892f7e79",
   "metadata": {},
   "source": [
    "reader.decrypt('swordfish')"
   ]
  },
  {
   "cell_type": "markdown",
   "id": "816d0dc9",
   "metadata": {},
   "source": [
    "# 5. What methods do you use to rotate a page?"
   ]
  },
  {
   "cell_type": "markdown",
   "id": "8eb12618",
   "metadata": {},
   "source": [
    "page.rotate(90)\n"
   ]
  },
  {
   "cell_type": "markdown",
   "id": "d3e494b4",
   "metadata": {},
   "source": [
    "# 6. What is the difference between a Run object and a Paragraph object?"
   ]
  },
  {
   "cell_type": "markdown",
   "id": "0a388903",
   "metadata": {},
   "source": [
    "The main difference between a Run object and a Paragraph object is that a Run object represents a single run of text, while a Paragraph object represents a collection of Run objects."
   ]
  },
  {
   "cell_type": "markdown",
   "id": "4f4f6fd5",
   "metadata": {},
   "source": [
    "# 7. How do you obtain a list of Paragraph objects for a Document object that’s stored in a variable named doc?"
   ]
  },
  {
   "cell_type": "markdown",
   "id": "896d1358",
   "metadata": {},
   "source": [
    "paragraphs = doc.paragraphs"
   ]
  },
  {
   "cell_type": "markdown",
   "id": "3ad420e7",
   "metadata": {},
   "source": [
    "# 8. What type of object has bold, underline, italic, strike, and outline variables?"
   ]
  },
  {
   "cell_type": "markdown",
   "id": "8f3b9e52",
   "metadata": {},
   "source": [
    "A Run object has bold, underline, italic, strike, and outline variables. These variables are used to specify the formatting of the text in the Run object."
   ]
  },
  {
   "cell_type": "markdown",
   "id": "f0d4ffbc",
   "metadata": {},
   "source": [
    "# "
   ]
  },
  {
   "cell_type": "markdown",
   "id": "58025a54",
   "metadata": {},
   "source": []
  },
  {
   "cell_type": "markdown",
   "id": "04ac2e7a",
   "metadata": {},
   "source": []
  },
  {
   "cell_type": "markdown",
   "id": "3d587966",
   "metadata": {},
   "source": []
  },
  {
   "cell_type": "markdown",
   "id": "8f3762a6",
   "metadata": {},
   "source": []
  },
  {
   "cell_type": "markdown",
   "id": "67a21b40",
   "metadata": {},
   "source": []
  },
  {
   "cell_type": "markdown",
   "id": "66118c98",
   "metadata": {},
   "source": []
  },
  {
   "cell_type": "markdown",
   "id": "a91d30dd",
   "metadata": {},
   "source": []
  }
 ],
 "metadata": {
  "kernelspec": {
   "display_name": "Python 3 (ipykernel)",
   "language": "python",
   "name": "python3"
  },
  "language_info": {
   "codemirror_mode": {
    "name": "ipython",
    "version": 3
   },
   "file_extension": ".py",
   "mimetype": "text/x-python",
   "name": "python",
   "nbconvert_exporter": "python",
   "pygments_lexer": "ipython3",
   "version": "3.10.11"
  }
 },
 "nbformat": 4,
 "nbformat_minor": 5
}
