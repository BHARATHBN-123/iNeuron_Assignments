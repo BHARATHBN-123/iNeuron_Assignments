{
 "cells": [
  {
   "cell_type": "markdown",
   "id": "cf5a6007",
   "metadata": {},
   "source": [
    "# 1. In what modes should the PdfFileReader() and PdfFileWriter() File objects will be opened?"
   ]
  },
  {
   "cell_type": "markdown",
   "id": "35bf0fda",
   "metadata": {},
   "source": [
    "The PdfFileReader() and PdfFileWriter() File objects should be opened in binary mode. This is because PDF files are binary files, and opening them in text mode will cause errors."
   ]
  },
  {
   "cell_type": "markdown",
   "id": "b250e245",
   "metadata": {},
   "source": [
    "# 2. From a PdfFileReader object, how do you get a Page object for page 5?"
   ]
  },
  {
   "cell_type": "markdown",
   "id": "fa6a8840",
   "metadata": {},
   "source": [
    "page = reader.getPage(5)"
   ]
  },
  {
   "cell_type": "markdown",
   "id": "b17787f2",
   "metadata": {},
   "source": [
    "# 3. What PdfFileReader variable stores the number of pages in the PDF document?"
   ]
  },
  {
   "cell_type": "markdown",
   "id": "3584038a",
   "metadata": {},
   "source": [
    "The numPages variable stores the number of pages in the PDF document."
   ]
  },
  {
   "cell_type": "markdown",
   "id": "9b7fefc6",
   "metadata": {},
   "source": [
    "# 4. If a PdfFileReader object’s PDF is encrypted with the password swordfish, what must you do\n",
    "before you can obtain Page objects from it?"
   ]
  },
  {
   "cell_type": "markdown",
   "id": "940a7143",
   "metadata": {},
   "source": [
    "reader.decrypt('swordfish')"
   ]
  },
  {
   "cell_type": "markdown",
   "id": "8f8c3e97",
   "metadata": {},
   "source": [
    "# 5. What methods do you use to rotate a page?"
   ]
  },
  {
   "cell_type": "markdown",
   "id": "5de3e116",
   "metadata": {},
   "source": [
    "page.rotate(90)\n"
   ]
  },
  {
   "cell_type": "markdown",
   "id": "3928a446",
   "metadata": {},
   "source": [
    "# 6. What is the difference between a Run object and a Paragraph object?"
   ]
  },
  {
   "cell_type": "markdown",
   "id": "5c841dd1",
   "metadata": {},
   "source": [
    "The main difference between a Run object and a Paragraph object is that a Run object represents a single run of text, while a Paragraph object represents a collection of Run objects."
   ]
  },
  {
   "cell_type": "markdown",
   "id": "f2499af2",
   "metadata": {},
   "source": [
    "# 7. How do you obtain a list of Paragraph objects for a Document object that’s stored in a variable named doc?"
   ]
  },
  {
   "cell_type": "markdown",
   "id": "a8f390d8",
   "metadata": {},
   "source": [
    "paragraphs = doc.paragraphs"
   ]
  },
  {
   "cell_type": "markdown",
   "id": "7be40cc7",
   "metadata": {},
   "source": [
    "# 8. What type of object has bold, underline, italic, strike, and outline variables?"
   ]
  },
  {
   "cell_type": "markdown",
   "id": "0bc1ad0b",
   "metadata": {},
   "source": [
    "A Run object has bold, underline, italic, strike, and outline variables. These variables are used to specify the formatting of the text in the Run object."
   ]
  },
  {
   "cell_type": "markdown",
   "id": "2dbb770e",
   "metadata": {},
   "source": [
    "# 9. What is the difference between False, True, and None for the bold variable?"
   ]
  },
  {
   "cell_type": "markdown",
   "id": "8369530f",
   "metadata": {},
   "source": [
    "False, True, and None are all different values for the bold variable. False means that the text is not bold, True means that the text is bold, and None means that the bold formatting is not specified."
   ]
  },
  {
   "cell_type": "markdown",
   "id": "1fd19c9c",
   "metadata": {},
   "source": [
    "# 10. How do you create a Document object for a new Word document?"
   ]
  },
  {
   "cell_type": "markdown",
   "id": "221a8f72",
   "metadata": {},
   "source": [
    "doc = Document()"
   ]
  },
  {
   "cell_type": "markdown",
   "id": "5ea2ba96",
   "metadata": {},
   "source": [
    "# 11. How do you add a paragraph with the text &#39;Hello, there!&#39; to a Document object stored in a variable named doc?"
   ]
  },
  {
   "cell_type": "markdown",
   "id": "a94ac188",
   "metadata": {},
   "source": [
    "doc.addParagraph(\"Hello, there!\")"
   ]
  },
  {
   "cell_type": "markdown",
   "id": "dfc2c5d9",
   "metadata": {},
   "source": [
    "# 12. What integers represent the levels of headings available in Word documents?"
   ]
  },
  {
   "cell_type": "markdown",
   "id": "3ca17523",
   "metadata": {},
   "source": [
    "The integers that represent the levels of headings available in Word documents are 1, 2, 3, 4, and 5. Headings of level 1 are the most important, and headings of level 5 are the least important."
   ]
  }
 ],
 "metadata": {
  "kernelspec": {
   "display_name": "Python 3 (ipykernel)",
   "language": "python",
   "name": "python3"
  },
  "language_info": {
   "codemirror_mode": {
    "name": "ipython",
    "version": 3
   },
   "file_extension": ".py",
   "mimetype": "text/x-python",
   "name": "python",
   "nbconvert_exporter": "python",
   "pygments_lexer": "ipython3",
   "version": "3.10.11"
  }
 },
 "nbformat": 4,
 "nbformat_minor": 5
}
