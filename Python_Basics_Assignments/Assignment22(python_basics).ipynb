{
 "cells": [
  {
   "cell_type": "markdown",
   "id": "5b96910d",
   "metadata": {},
   "source": [
    "# 1. What is the result of the code, and explain?\n",
    "\n",
    "&gt;&gt;&gt; X = &#39;iNeuron&#39;\n",
    "&gt;&gt;&gt; def func():\n",
    "print(X)\n",
    "\n",
    "&gt;&gt;&gt; func()"
   ]
  },
  {
   "cell_type": "markdown",
   "id": "f56f9be9",
   "metadata": {},
   "source": [
    "The result of the code is iNeuron. The variable X is defined in the global scope, so it is accessible from within the function func(). When the function func() is called, the value of X is printed to the console."
   ]
  },
  {
   "cell_type": "markdown",
   "id": "1e7b37e1",
   "metadata": {},
   "source": [
    "# 2. What is the result of the code, and explain?\n",
    "\n",
    "&gt;&gt;&gt; X = &#39;iNeuron&#39;\n",
    "&gt;&gt;&gt; def func():\n",
    "X = &#39;NI!&#39;\n",
    "\n",
    "&gt;&gt;&gt; func()\n",
    "&gt;&gt;&gt; print(X)"
   ]
  },
  {
   "cell_type": "markdown",
   "id": "1d12333c",
   "metadata": {},
   "source": [
    "The result of the code is NI!. The variable X is defined inside the function func(), so it is not accessible from outside the function. When the function func() is called, the value of X is changed to NI!. This change is not reflected in the global scope, so the value of X outside the function is still iNeuron."
   ]
  },
  {
   "cell_type": "markdown",
   "id": "230bd6d9",
   "metadata": {},
   "source": [
    "# 3. What does this code print, and why?\n",
    "\n",
    "&gt;&gt;&gt; X = &#39;iNeuron&#39;\n",
    "&gt;&gt;&gt; def func():\n",
    "X = &#39;NI&#39;\n",
    "print(X)\n",
    "\n",
    "&gt;&gt;&gt; func()\n",
    "&gt;&gt;&gt; print(X)"
   ]
  },
  {
   "cell_type": "markdown",
   "id": "f3653103",
   "metadata": {},
   "source": [
    "The code prints iNeuron and then NI. The variable X is defined in the global scope, so it is accessible from within the function func(). When the function func() is called, the value of X is printed to the console. The value of X is then changed to NI inside the function, but this change is not reflected in the global scope. When the function func() exits, the value of X is restored to its original value of iNeuron."
   ]
  },
  {
   "cell_type": "markdown",
   "id": "02867dcb",
   "metadata": {},
   "source": [
    "# 4. What output does this code produce? Why?\n",
    "\n",
    "&gt;&gt;&gt; X = &#39;iNeuron&#39;\n",
    "&gt;&gt;&gt; def func():\n",
    "global X\n",
    "X = &#39;NI&#39;\n",
    "\n",
    "&gt;&gt;&gt; func()\n",
    "&gt;&gt;&gt; print(X)"
   ]
  },
  {
   "cell_type": "markdown",
   "id": "1a8eca3c",
   "metadata": {},
   "source": [
    "The output of the code is NI. The variable X is defined inside the function func(), but the global keyword is used to make it a global variable. This means that the value of X can be changed inside the function and the change will be reflected in the global scope. When the function func() is called, the value of X is changed to NI. This change is reflected in the global scope, so the value of X outside the function is also NI."
   ]
  },
  {
   "cell_type": "markdown",
   "id": "bbf1eb8d",
   "metadata": {},
   "source": [
    "# 5. What about this code—what’s the output, and why?\n",
    "\n",
    "&gt;&gt;&gt; X = &#39;iNeuron&#39;\n",
    "&gt;&gt;&gt; def func():\n",
    "X = &#39;NI&#39;\n",
    "def nested():\n",
    "print(X)\n",
    "nested()\n",
    "\n",
    "&gt;&gt;&gt; func()\n",
    "&gt;&gt;&gt; X"
   ]
  },
  {
   "cell_type": "markdown",
   "id": "b1c721c3",
   "metadata": {},
   "source": [
    "The output of the code is NI. The variable X is defined inside the function func(), but the nested() function is nested inside the func() function. This means that the variable X is local to the nested() function and cannot be accessed from outside the nested() function. When the nested() function is called, the value of X is printed to the console. This change is not reflected in the func() function or the global scope."
   ]
  },
  {
   "cell_type": "markdown",
   "id": "c739ca1b",
   "metadata": {},
   "source": [
    "# 6. How about this code: what is its output in Python 3, and explain?\n",
    "\n",
    "&gt;&gt;&gt; def func():\n",
    "X = &#39;NI&#39;\n",
    "def nested():\n",
    "nonlocal X\n",
    "X = &#39;Spam&#39;\n",
    "nested()\n",
    "print(X)\n",
    "\n",
    "&gt;&gt;&gt; func()"
   ]
  },
  {
   "cell_type": "markdown",
   "id": "758dc0a0",
   "metadata": {},
   "source": [
    "The output of the code is Spam. The variable X is defined inside the function func(), but the nonlocal keyword is used to make it a nonlocal variable. This means that the value of X can be changed inside the function and the change will be reflected in the local scope of the nested() function. When the nested() function is called, the value of X is changed to Spam. This change is reflected in the local scope of the nested() function, so the value of X printed to the console is Spam."
   ]
  }
 ],
 "metadata": {
  "kernelspec": {
   "display_name": "Python 3 (ipykernel)",
   "language": "python",
   "name": "python3"
  },
  "language_info": {
   "codemirror_mode": {
    "name": "ipython",
    "version": 3
   },
   "file_extension": ".py",
   "mimetype": "text/x-python",
   "name": "python",
   "nbconvert_exporter": "python",
   "pygments_lexer": "ipython3",
   "version": "3.10.11"
  }
 },
 "nbformat": 4,
 "nbformat_minor": 5
}
