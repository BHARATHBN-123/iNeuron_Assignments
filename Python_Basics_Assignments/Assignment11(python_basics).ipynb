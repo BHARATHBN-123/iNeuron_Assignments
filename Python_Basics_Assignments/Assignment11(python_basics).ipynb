{
 "cells": [
  {
   "cell_type": "markdown",
   "id": "4d02e4c6",
   "metadata": {},
   "source": [
    "# 1. Create an assert statement that throws an AssertionError if the variable spam is a negative integer."
   ]
  },
  {
   "cell_type": "markdown",
   "id": "05ff21cf",
   "metadata": {},
   "source": [
    "assert spam >= 0, \"spam must be a non-negative integer\""
   ]
  },
  {
   "cell_type": "markdown",
   "id": "6d82653a",
   "metadata": {},
   "source": [
    "# 2. Write an assert statement that triggers an AssertionError if the variables eggs and bacon contain strings that are the same as each other, even if their cases are different (that is, &#39;hello&#39; and &#39;hello&#39; are considered the same, and &#39;goodbye&#39; and &#39;GOODbye&#39; are also considered the same)."
   ]
  },
  {
   "cell_type": "markdown",
   "id": "6140245b",
   "metadata": {},
   "source": [
    "assert eggs.lower() == bacon.lower(), \"eggs and bacon must contain the same string, even if their cases are different\""
   ]
  },
  {
   "cell_type": "markdown",
   "id": "4afbb80a",
   "metadata": {},
   "source": [
    "# 3. Create an assert statement that throws an AssertionError every time."
   ]
  },
  {
   "cell_type": "markdown",
   "id": "b083dad5",
   "metadata": {},
   "source": [
    "assert False, \"This assertion always fails\""
   ]
  },
  {
   "cell_type": "markdown",
   "id": "da9769ec",
   "metadata": {},
   "source": [
    "# 4. What are the two lines that must be present in your software in order to call logging.debug()?"
   ]
  },
  {
   "cell_type": "markdown",
   "id": "8d7d4f1c",
   "metadata": {},
   "source": [
    "logging.debug(\"This is a debug message\")5.import logging\n",
    "logging.basicConfig(filename=\"programLog.txt\", level=logging.DEBUG)\n",
    "logging.debug(\"This is a debug message\")```"
   ]
  },
  {
   "cell_type": "markdown",
   "id": "72f64673",
   "metadata": {},
   "source": [
    "# 5. What are the two lines that your program must have in order to have logging.debug() send a logging message to a file named programLog.txt?"
   ]
  },
  {
   "cell_type": "markdown",
   "id": "07cfed71",
   "metadata": {},
   "source": [
    "import logging\n",
    "logging.basicConfig(filename=\"programLog.txt\", level=logging.DEBUG)"
   ]
  },
  {
   "cell_type": "markdown",
   "id": "20dcad70",
   "metadata": {},
   "source": [
    "# 6. What are the five levels of logging?"
   ]
  },
  {
   "cell_type": "markdown",
   "id": "3a4aba85",
   "metadata": {},
   "source": [
    " The five levels of logging are:\n",
    " \n",
    "* DEBUG: The most detailed level of logging.\n",
    "\n",
    "* INFO: General information about the program's execution.\n",
    "\n",
    "* WARNING: Potential problems that may cause errors.\n",
    "\n",
    "* ERROR: Errors that have occurred.\n",
    "\n",
    "* CRITICAL: Critical errors that may cause the program to fail."
   ]
  },
  {
   "cell_type": "markdown",
   "id": "d5df776e",
   "metadata": {},
   "source": [
    "# 7. What line of code would you add to your software to disable all logging messages?"
   ]
  },
  {
   "cell_type": "markdown",
   "id": "23d9b0e4",
   "metadata": {},
   "source": [
    "logging.disable(logging.CRITICAL)"
   ]
  },
  {
   "cell_type": "markdown",
   "id": "2fda7938",
   "metadata": {},
   "source": [
    "# 8.Why is using logging messages better than using print() to display the same message?"
   ]
  },
  {
   "cell_type": "markdown",
   "id": "5f6ac59b",
   "metadata": {},
   "source": [
    "Using logging messages is better than using print() to display the same message because logging messages can be turned on and off, and they can be sent to a file or to a database. This makes it easier to track down errors in your program."
   ]
  },
  {
   "cell_type": "markdown",
   "id": "72334129",
   "metadata": {},
   "source": [
    "# 9. What are the differences between the Step Over, Step In, and Step Out buttons in the debugger?"
   ]
  },
  {
   "cell_type": "markdown",
   "id": "3386d3f5",
   "metadata": {},
   "source": [
    "The Step Over button in the debugger executes the next line of code, without stepping into any functions. The Step In button executes the next line of code, and if that line of code calls a function, it will step into the function. The Step Out button executes the current function until it returns to the calling function."
   ]
  },
  {
   "cell_type": "markdown",
   "id": "6f2c6ea1",
   "metadata": {},
   "source": [
    "# 10.After you click Continue, when will the debugger stop ?"
   ]
  },
  {
   "cell_type": "markdown",
   "id": "27b0ebd9",
   "metadata": {},
   "source": [
    "After you click Continue, the debugger will stop when it reaches the end of the program, or when it encounters a breakpoint."
   ]
  },
  {
   "cell_type": "markdown",
   "id": "2815f2fc",
   "metadata": {},
   "source": [
    "# 11. What is the concept of a breakpoint?"
   ]
  },
  {
   "cell_type": "markdown",
   "id": "f9431696",
   "metadata": {},
   "source": [
    "A breakpoint is a line of code that tells the debugger to stop execution. You can set breakpoints by clicking on the line of code in the editor, or by using the Toggle Breakpoint button in the debugger."
   ]
  },
  {
   "cell_type": "markdown",
   "id": "66927b60",
   "metadata": {},
   "source": []
  }
 ],
 "metadata": {
  "kernelspec": {
   "display_name": "Python 3 (ipykernel)",
   "language": "python",
   "name": "python3"
  },
  "language_info": {
   "codemirror_mode": {
    "name": "ipython",
    "version": 3
   },
   "file_extension": ".py",
   "mimetype": "text/x-python",
   "name": "python",
   "nbconvert_exporter": "python",
   "pygments_lexer": "ipython3",
   "version": "3.10.11"
  }
 },
 "nbformat": 4,
 "nbformat_minor": 5
}
