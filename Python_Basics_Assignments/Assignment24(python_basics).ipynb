{
 "cells": [
  {
   "cell_type": "markdown",
   "id": "bd17e0c7",
   "metadata": {},
   "source": [
    "# 1. What is the relationship between def statements and lambda expressions ?"
   ]
  },
  {
   "cell_type": "markdown",
   "id": "d63b8695",
   "metadata": {},
   "source": [
    "Def statements and lambda expressions are both ways to create functions in Python. However, they have different syntax and use cases. Def statements are used to create named functions, while lambda expressions are used to create anonymous functions. Named functions can be called multiple times, while anonymous functions can only be called once.\n",
    "\n"
   ]
  },
  {
   "cell_type": "markdown",
   "id": "41f1bfef",
   "metadata": {},
   "source": [
    "#  2. What is the benefit of lambda?"
   ]
  },
  {
   "cell_type": "markdown",
   "id": "1d1794a9",
   "metadata": {},
   "source": [
    "The benefit of lambda expressions is that they are concise and easy to write. They can be used to create simple functions that are only needed for a short period of time. For example, you could use a lambda expression to sort a list of numbers, but you would not want to create a named function for this task."
   ]
  },
  {
   "cell_type": "markdown",
   "id": "4ba7a059",
   "metadata": {},
   "source": [
    "# 3. Compare and contrast map, filter, and reduce."
   ]
  },
  {
   "cell_type": "markdown",
   "id": "d388ba6e",
   "metadata": {},
   "source": [
    "**Map, filter, and reduce** are all higher-order functions in Python. This means that they can take other functions as arguments. Map takes a function and an iterable as arguments, and it applies the function to each element of the iterable. Filter takes a function and an iterable as arguments, and it returns an iterable that contains only the elements of the original iterable for which the function returns True. Reduce takes a function and an iterable as arguments, and it reduces the iterable to a single value by repeatedly applying the function."
   ]
  },
  {
   "cell_type": "markdown",
   "id": "a68ed744",
   "metadata": {},
   "source": [
    "# 4. What are function annotations, and how are they used?"
   ]
  },
  {
   "cell_type": "markdown",
   "id": "bdc0879b",
   "metadata": {},
   "source": [
    "**Function annotations** are a way to add metadata to functions in Python. They are used to provide additional information about the function, such as its arguments and return value. Annotations are not used by the Python interpreter, but they can be used by IDEs and other tools to provide better code completion and documentation.\n",
    "\n"
   ]
  },
  {
   "cell_type": "markdown",
   "id": "f128a5c1",
   "metadata": {},
   "source": [
    "# 5. What are recursive functions, and how are they used?"
   ]
  },
  {
   "cell_type": "markdown",
   "id": "71f4577c",
   "metadata": {},
   "source": [
    "**Recursive functions are functions** that call themselves. They can be used to solve problems that would be difficult or impossible to solve with iterative code. For example, a recursive function can be used to calculate the factorial of a number."
   ]
  },
  {
   "cell_type": "markdown",
   "id": "e3f22170",
   "metadata": {},
   "source": [
    "# 6. What are some general design guidelines for coding functions?"
   ]
  },
  {
   "cell_type": "markdown",
   "id": "0590407f",
   "metadata": {},
   "source": [
    "Here are some general design guidelines for coding functions:\n",
    "\n",
    "Use descriptive names for your functions.\n",
    "\n",
    "Keep your functions short and concise.\n",
    "\n",
    "Use parameters to pass data into your functions.\n",
    "\n",
    "Use the return statement to return data from your functions.\n",
    "\n",
    "Use documentation to explain what your functions do."
   ]
  },
  {
   "cell_type": "markdown",
   "id": "24b35695",
   "metadata": {},
   "source": [
    "# 7. Name three or more ways that functions can communicate results to a caller."
   ]
  },
  {
   "cell_type": "markdown",
   "id": "110095c7",
   "metadata": {},
   "source": [
    "**Return value:** The most common way for a function to communicate a result to a caller is to return a value. The return value can be a single value, a list of values, or a dictionary of values.\n",
    "\n",
    "**Print statement:** A function can also communicate a result to a caller by printing it to the console. This is not the most efficient way to communicate a result, but it can be useful for debugging or for providing feedback to the user.\n",
    "\n",
    "**Side effects:88** A function can also communicate a result to a caller by having a side effect. A side effect is an action that the function takes that affects the state of the program outside of the function. For example, a function might change the value of a global variable or it might print something to the console."
   ]
  }
 ],
 "metadata": {
  "kernelspec": {
   "display_name": "Python 3 (ipykernel)",
   "language": "python",
   "name": "python3"
  },
  "language_info": {
   "codemirror_mode": {
    "name": "ipython",
    "version": 3
   },
   "file_extension": ".py",
   "mimetype": "text/x-python",
   "name": "python",
   "nbconvert_exporter": "python",
   "pygments_lexer": "ipython3",
   "version": "3.10.11"
  }
 },
 "nbformat": 4,
 "nbformat_minor": 5
}
