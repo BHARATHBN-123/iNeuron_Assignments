{
 "cells": [
  {
   "cell_type": "markdown",
   "id": "1082da71",
   "metadata": {},
   "source": [
    "# 1. To what does a relative path refer?"
   ]
  },
  {
   "cell_type": "markdown",
   "id": "db27d2af",
   "metadata": {},
   "source": [
    "A relative path refers to a file or directory that is located relative to the current working directory."
   ]
  },
  {
   "cell_type": "markdown",
   "id": "3b550f04",
   "metadata": {},
   "source": [
    "# 2. What does an absolute path start with your operating system?"
   ]
  },
  {
   "cell_type": "markdown",
   "id": "3d09a7ec",
   "metadata": {},
   "source": [
    "An absolute path starts with the root directory of the file system. In Windows, the root directory is C:. In macOS and Linux, the root directory is /.\n"
   ]
  },
  {
   "cell_type": "markdown",
   "id": "28ade891",
   "metadata": {},
   "source": [
    "# 3.What do the functions os.getcwd() and os.chdir() do?"
   ]
  },
  {
   "cell_type": "markdown",
   "id": "dc9c1648",
   "metadata": {},
   "source": [
    "The os.getcwd() function returns the current working directory. The os.chdir() function changes the current working directory."
   ]
  },
  {
   "cell_type": "markdown",
   "id": "f1e33162",
   "metadata": {},
   "source": [
    "# 4. What are the . and .. folders?"
   ]
  },
  {
   "cell_type": "markdown",
   "id": "6c6d7dce",
   "metadata": {},
   "source": [
    "The . folder refers to the current directory, and the .. folder refers to the parent directory."
   ]
  },
  {
   "cell_type": "markdown",
   "id": "c0075a6e",
   "metadata": {},
   "source": [
    "# 5.In C:\\bacon\\eggs\\spam.txt, which part is the dir name, and which part is the base name?"
   ]
  },
  {
   "cell_type": "markdown",
   "id": "e66dcfb2",
   "metadata": {},
   "source": [
    "In C:\\bacon\\eggs\\spam.txt, the dir name is C:\\bacon\\eggs, and the base name is spam.txt."
   ]
  },
  {
   "cell_type": "markdown",
   "id": "fe2e7d32",
   "metadata": {},
   "source": [
    "# 6. What are the three “mode” arguments that can be passed to the open() function?"
   ]
  },
  {
   "cell_type": "markdown",
   "id": "d54f5835",
   "metadata": {},
   "source": [
    "The three “mode” arguments that can be passed to the open() function are:\n",
    "\n",
    "read: Opens the file for reading.\n",
    "\n",
    "write: Opens the file for writing.\n",
    "\n",
    "append: Opens the file for appending."
   ]
  },
  {
   "cell_type": "markdown",
   "id": "d9993a2f",
   "metadata": {},
   "source": [
    "# 7. What happens if an existing file is opened in write mode?"
   ]
  },
  {
   "cell_type": "markdown",
   "id": "6363c519",
   "metadata": {},
   "source": [
    "If an existing file is opened in write mode, the contents of the file will be overwritten."
   ]
  },
  {
   "cell_type": "markdown",
   "id": "7c9b54ba",
   "metadata": {},
   "source": [
    "# 8. How do you tell the difference between read() and readlines()?"
   ]
  },
  {
   "cell_type": "markdown",
   "id": "a30ea934",
   "metadata": {},
   "source": [
    "The read() method returns the entire contents of the file as a string. The readlines() method returns a list of lines in the file."
   ]
  },
  {
   "cell_type": "markdown",
   "id": "0ed67080",
   "metadata": {},
   "source": [
    "# 9. What data structure does a shelf value resemble?"
   ]
  },
  {
   "cell_type": "markdown",
   "id": "6102dc19",
   "metadata": {},
   "source": [
    "A shelf value resembles a dictionary. It is a data structure that stores key-value pairs."
   ]
  }
 ],
 "metadata": {
  "kernelspec": {
   "display_name": "Python 3 (ipykernel)",
   "language": "python",
   "name": "python3"
  },
  "language_info": {
   "codemirror_mode": {
    "name": "ipython",
    "version": 3
   },
   "file_extension": ".py",
   "mimetype": "text/x-python",
   "name": "python",
   "nbconvert_exporter": "python",
   "pygments_lexer": "ipython3",
   "version": "3.10.11"
  }
 },
 "nbformat": 4,
 "nbformat_minor": 5
}
