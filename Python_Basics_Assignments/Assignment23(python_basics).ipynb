{
 "cells": [
  {
   "cell_type": "markdown",
   "id": "38a29dbe",
   "metadata": {},
   "source": [
    "# 1. What is the result of the code, and why?\n",
    "&gt;&gt;&gt; def func(a, b=6, c=8):\n",
    "\n",
    "print(a, b, c)\n",
    "\n",
    "&gt;&gt;&gt; func(1, 2)"
   ]
  },
  {
   "cell_type": "markdown",
   "id": "a0f29034",
   "metadata": {},
   "source": [
    "The result of the code is (1, 2, 8). The default value for c is 8, so it is used when no value is passed for c in the function call."
   ]
  },
  {
   "cell_type": "markdown",
   "id": "3455999c",
   "metadata": {},
   "source": [
    "# 2. What is the result of this code, and why?\n",
    "&gt;&gt;&gt; def func(a, b, c=5):\n",
    "print(a, b, c)\n",
    "&gt;&gt;&gt; func(1, c=3, b=2)"
   ]
  },
  {
   "cell_type": "markdown",
   "id": "01eb96da",
   "metadata": {},
   "source": [
    "The result of the code is (1, 2, 3). The default value for c is 5, but this is overridden by the value 3 that is passed in the function call."
   ]
  },
  {
   "cell_type": "markdown",
   "id": "8e716219",
   "metadata": {},
   "source": [
    "# 3. How about this code: what is its result, and why?\n",
    "&gt;&gt;&gt; def func(a, *pargs):\n",
    "print(a, pargs)\n",
    "&gt;&gt;&gt; func(1, 2, 3)"
   ]
  },
  {
   "cell_type": "markdown",
   "id": "a3215c7f",
   "metadata": {},
   "source": [
    "The result of the code is (1, (2, 3)). The *pargs parameter is a tuple of all the arguments that are passed to the function after the first argument."
   ]
  },
  {
   "cell_type": "markdown",
   "id": "c7c72277",
   "metadata": {},
   "source": [
    "# 4. What does this code print, and why?\n",
    "&gt;&gt;&gt; def func(a, **kargs):\n",
    "print(a, kargs)\n",
    "&gt;&gt;&gt; func(a=1, c=3, b=2)"
   ]
  },
  {
   "cell_type": "markdown",
   "id": "fc74ca81",
   "metadata": {},
   "source": [
    "The result of the code is (1, {'c': 3, 'b': 2}). The **kargs parameter is a dictionary of all the keyword arguments that are passed to the function."
   ]
  },
  {
   "cell_type": "markdown",
   "id": "b7c61d66",
   "metadata": {},
   "source": [
    "# 5. What gets printed by this, and explain?\n",
    "&gt;&gt;&gt; def func(a, b, c=8, d=5): print(a, b, c, d)\n",
    "&gt;&gt;&gt; func(1, *(5, 6))"
   ]
  },
  {
   "cell_type": "markdown",
   "id": "1126e805",
   "metadata": {},
   "source": [
    "The result of the code is (1, 5, 6, 5). The *(5, 6) part of the function call unpacks the tuple (5, 6) into two separate arguments, b and d."
   ]
  },
  {
   "cell_type": "markdown",
   "id": "37c83efe",
   "metadata": {},
   "source": [
    "# 6. what is the result of this, and explain?\n",
    "&gt;&gt;&gt; def func(a, b, c): a = 2; b[0] = &#39;x&#39;; c[&#39;a&#39;] = &#39;y&#39;\n",
    "&gt;&gt;&gt; l=1; m=[1]; n={&#39;a&#39;:0}\n",
    "&gt;&gt;&gt; func(l, m, n)"
   ]
  },
  {
   "cell_type": "markdown",
   "id": "1b7c9eec",
   "metadata": {},
   "source": [
    "The result of the code is (2, ['x'], {'a': 'y'}). The local variables a, b, and c are all assigned the values that are passed to the function. This means that the changes made to these variables inside the function are also reflected in the calling scope."
   ]
  }
 ],
 "metadata": {
  "kernelspec": {
   "display_name": "Python 3 (ipykernel)",
   "language": "python",
   "name": "python3"
  },
  "language_info": {
   "codemirror_mode": {
    "name": "ipython",
    "version": 3
   },
   "file_extension": ".py",
   "mimetype": "text/x-python",
   "name": "python",
   "nbconvert_exporter": "python",
   "pygments_lexer": "ipython3",
   "version": "3.10.11"
  }
 },
 "nbformat": 4,
 "nbformat_minor": 5
}
