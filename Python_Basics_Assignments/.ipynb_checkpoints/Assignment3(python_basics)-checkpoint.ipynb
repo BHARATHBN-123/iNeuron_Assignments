{
 "cells": [
  {
   "cell_type": "markdown",
   "id": "91211c94",
   "metadata": {},
   "source": [
    "1. Why are functions advantageous to have in your programs?\n"
   ]
  },
  {
   "cell_type": "markdown",
   "id": "eddac1ff",
   "metadata": {},
   "source": [
    "\n",
    "Functions are advantageous to have in your programs because they can:\n",
    "\n",
    "1)Improve code readability and maintainability. Functions allow you to group related code together, which makes it easier to read and understand. They also make it easier to maintain your code, because you can make changes to the function without having to change all the places where it is called.\n",
    "\n",
    "2)Increase code reusability. Once you have written a function, you can reuse it in other parts of your program. This can save you time and effort, and it can also help to ensure that your code is consistent.\n",
    "\n",
    "3)Improve performance. Functions can improve performance by caching the results of expensive calculations. This can be especially helpful in cases where the same calculation is performed multiple times.\n",
    "Encapsulate code. Functions can encapsulate code, which means that they can hide the details of how the code works. This can make your code more modular and easier to understand.\n",
    "\n",
    "4)Overall, functions are a powerful tool that can help you to write better, more readable, and more maintainable code. They can also help to improve performance and encapsulate code. If you are not already using functions in your programs, I encourage you to start using them. They can make your coding life much easier."
   ]
  },
  {
   "cell_type": "markdown",
   "id": "024468ab",
   "metadata": {},
   "source": [
    "2. When does the code in a function run: when it&#39;s specified or when it&#39;s called?"
   ]
  },
  {
   "cell_type": "markdown",
   "id": "ce793506",
   "metadata": {},
   "source": [
    "\n",
    "The code in a function runs when it is called, not when it is specified. When you specify a function, you are telling the compiler or interpreter that you want to create a function with a particular name and a particular set of parameters. When you call a function, you are telling the compiler or interpreter to execute the code that is defined in the function."
   ]
  },
  {
   "cell_type": "markdown",
   "id": "7fcb701c",
   "metadata": {},
   "source": [
    "3. What statement creates a function?"
   ]
  },
  {
   "cell_type": "markdown",
   "id": "df4c9a9d",
   "metadata": {},
   "source": [
    "1)**def** is the keyword used to define a function.\n",
    "\n",
    "2)**function_name** is the name of the function.\n",
    "\n",
    "3)parameters is a comma-separated list of parameters that the function takes.\n",
    "body is the code that the function executes."
   ]
  },
  {
   "cell_type": "markdown",
   "id": "9a871385",
   "metadata": {},
   "source": [
    "4. What is the difference between a function and a function call?"
   ]
  },
  {
   "cell_type": "markdown",
   "id": "70660c28",
   "metadata": {},
   "source": [
    "A function is a block of code that performs a specific task. A function call is the act of executing a function.\n"
   ]
  },
  {
   "cell_type": "markdown",
   "id": "e7e38cd5",
   "metadata": {},
   "source": [
    "\n",
    "5. How many global scopes are there in a Python program? How many local scopes?"
   ]
  },
  {
   "cell_type": "markdown",
   "id": "955d46d5",
   "metadata": {},
   "source": [
    "There is only one global scope in a Python program. The global scope is the top-level scope of the program, and it contains all of the variables that are defined at the top level of the program.\n",
    "\n",
    "There can be any number of local scopes in a Python program. A local scope is created whenever a function is called. The local scope contains all of the variables that are defined inside the function."
   ]
  },
  {
   "cell_type": "markdown",
   "id": "255e7acb",
   "metadata": {},
   "source": [
    "6. What happens to variables in a local scope when the function call returns?"
   ]
  },
  {
   "cell_type": "markdown",
   "id": "e943784b",
   "metadata": {},
   "source": [
    "\n",
    "When a function call returns, the local variables created by the function are destroyed. This means that the variables are no longer accessible and their memory is reclaimed."
   ]
  },
  {
   "cell_type": "markdown",
   "id": "5de3ed31",
   "metadata": {},
   "source": [
    "7. What is the concept of a return value? Is it possible to have a return value in an expression?"
   ]
  },
  {
   "cell_type": "markdown",
   "id": "8d7897f5",
   "metadata": {},
   "source": [
    "In Python, a return value is the value that is returned by a function when it finishes executing. The return value can be any Python object, such as a number, a string, a list, or a dictionary."
   ]
  },
  {
   "cell_type": "markdown",
   "id": "36f17a76",
   "metadata": {},
   "source": [
    "8. If a function does not have a return statement, what is the return value of a call to that function?"
   ]
  },
  {
   "cell_type": "markdown",
   "id": "26045557",
   "metadata": {},
   "source": [
    "\n",
    "If a function does not have a return statement, the return value of a call to that function is None. None is a special object in Python that represents the absence of a value."
   ]
  },
  {
   "cell_type": "markdown",
   "id": "b4c2f6c9",
   "metadata": {},
   "source": [
    "9. How do you make a function variable refer to the global variable?"
   ]
  },
  {
   "cell_type": "markdown",
   "id": "2ff67966",
   "metadata": {},
   "source": [
    "\n",
    "To make a function variable refer to the global variable, you can use the global keyword. The global keyword tells the Python interpreter that the variable is defined in the global scope, even though it is being used inside a function. For example, the following code defines a function called foo() that creates a local variable called y. The global keyword is used to tell the Python interpreter that the variable x is defined in the global scope, even though it is being used inside the function."
   ]
  },
  {
   "cell_type": "markdown",
   "id": "a835d412",
   "metadata": {},
   "source": [
    "10. What is the data type of None?"
   ]
  },
  {
   "cell_type": "markdown",
   "id": "b4bc179d",
   "metadata": {},
   "source": [
    "The data type of None is NoneType. It is a special data type in Python that represents the absence of a value. It is not the same as 0, False, or an empty string. None is a singleton, meaning that there is only one instance of it in Python."
   ]
  },
  {
   "cell_type": "markdown",
   "id": "0aa3bc0a",
   "metadata": {},
   "source": [
    "11. What does the sentence import areallyourpetsnamederic do?"
   ]
  },
  {
   "cell_type": "markdown",
   "id": "5d3ff60f",
   "metadata": {},
   "source": [
    "The sentence import areallyourpetsnamederic imports a module named areallyourpetsnamederic. This module does not exist by default, so you will need to create it before you can use it. To create the module, create a file called areallyourpetsnamederic.py and save it in the same directory as your Python script. "
   ]
  },
  {
   "cell_type": "markdown",
   "id": "38973e8f",
   "metadata": {},
   "source": [
    "12. If you had a bacon() feature in a spam module, what would you call it after importing spam?"
   ]
  },
  {
   "cell_type": "markdown",
   "id": "d9131dc2",
   "metadata": {},
   "source": [
    "\n",
    "If you had a bacon() feature in a spam module, you would call it with spam.bacon(). This is because when you import a module, you are essentially creating a new namespace that contains all of the functions, classes, and variables from that module. So, to access the bacon() function, you need to specify the name of the module, followed by a dot, followed by the name of the function."
   ]
  },
  {
   "cell_type": "markdown",
   "id": "3387e856",
   "metadata": {},
   "source": [
    "13. What can you do to save a programme from crashing if it encounters an error?"
   ]
  },
  {
   "cell_type": "markdown",
   "id": "d7c88388",
   "metadata": {},
   "source": [
    "Use **try-except blocks**. A try-except block allows you to handle errors gracefully. The try block contains the code that you are trying to execute, and the except block contains the code that you want to run if an error occurs."
   ]
  },
  {
   "cell_type": "markdown",
   "id": "855ebe90",
   "metadata": {},
   "source": [
    "14. What is the purpose of the try clause? What is the purpose of the except clause?"
   ]
  },
  {
   "cell_type": "markdown",
   "id": "bd02dd06",
   "metadata": {},
   "source": [
    "The try clause is used to execute a block of code that may raise an error. The except clause is used to handle the error that is raised by the try clause.\n",
    "\n",
    "The try-except block is a fundamental concept in Python programming. It allows you to write code that is more robust and less likely to crash."
   ]
  }
 ],
 "metadata": {
  "kernelspec": {
   "display_name": "Python 3 (ipykernel)",
   "language": "python",
   "name": "python3"
  },
  "language_info": {
   "codemirror_mode": {
    "name": "ipython",
    "version": 3
   },
   "file_extension": ".py",
   "mimetype": "text/x-python",
   "name": "python",
   "nbconvert_exporter": "python",
   "pygments_lexer": "ipython3",
   "version": "3.10.11"
  }
 },
 "nbformat": 4,
 "nbformat_minor": 5
}
