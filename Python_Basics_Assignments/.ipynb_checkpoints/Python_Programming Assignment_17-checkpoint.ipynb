{
 "cells": [
  {
   "cell_type": "code",
   "execution_count": 1,
   "id": "d7835ffa",
   "metadata": {},
   "outputs": [
    {
     "data": {
      "text/plain": [
       "'Question1. Create a function that takes three arguments a, b, c and returns the sum of the\\nnumbers that are evenly divided by c from the range a, b inclusive.\\nExamples\\nevenly_divisible(1, 10, 20) ➞ 0\\n# No number between 1 and 10 can be evenly divided by 20.\\nevenly_divisible(1, 10, 2) ➞ 30\\n# 2 + 4 + 6 + 8 + 10 = 30\\nevenly_divisible(1, 10, 3) ➞ 18\\n# 3 + 6 + 9 = 18'"
      ]
     },
     "execution_count": 1,
     "metadata": {},
     "output_type": "execute_result"
    }
   ],
   "source": [
    "'''Question1. Create a function that takes three arguments a, b, c and returns the sum of the\n",
    "numbers that are evenly divided by c from the range a, b inclusive.\n",
    "Examples\n",
    "evenly_divisible(1, 10, 20) ➞ 0\n",
    "# No number between 1 and 10 can be evenly divided by 20.\n",
    "evenly_divisible(1, 10, 2) ➞ 30\n",
    "# 2 + 4 + 6 + 8 + 10 = 30\n",
    "evenly_divisible(1, 10, 3) ➞ 18\n",
    "# 3 + 6 + 9 = 18'''"
   ]
  },
  {
   "cell_type": "code",
   "execution_count": 2,
   "id": "a2986622",
   "metadata": {},
   "outputs": [
    {
     "data": {
      "text/plain": [
       "'sum of evenly divisible numbers is 30'"
      ]
     },
     "execution_count": 2,
     "metadata": {},
     "output_type": "execute_result"
    }
   ],
   "source": [
    "def evenly_divisible(a,b,c):\n",
    "    summ = 0 \n",
    "    if c>b:\n",
    "        return f\"No number between {a} and {b} can be evenly divided by {c}\"\n",
    "    else:\n",
    "        for i in range(a,b+1):\n",
    "            if i%c == 0:\n",
    "                summ+=i\n",
    "    return f\"sum of evenly divisible numbers is {summ}\"\n",
    "evenly_divisible(1, 10, 2) \n",
    "            "
   ]
  },
  {
   "cell_type": "code",
   "execution_count": 3,
   "id": "ab1fdc38",
   "metadata": {},
   "outputs": [
    {
     "data": {
      "text/plain": [
       "'Question2. Create a function that returns True if a given inequality expression is correct and\\nFalse otherwise.\\nExamples\\ncorrect_signs(&quot;3 &lt; 7 &lt; 11&quot;) ➞ True\\ncorrect_signs(&quot;13 &gt; 44 &gt; 33 &gt; 1&quot;) ➞ False\\ncorrect_signs(&quot;1 &lt; 2 &lt; 6 &lt; 9 &gt; 3&quot;) ➞ True'"
      ]
     },
     "execution_count": 3,
     "metadata": {},
     "output_type": "execute_result"
    }
   ],
   "source": [
    "'''Question2. Create a function that returns True if a given inequality expression is correct and\n",
    "False otherwise.\n",
    "Examples\n",
    "correct_signs(&quot;3 &lt; 7 &lt; 11&quot;) ➞ True\n",
    "correct_signs(&quot;13 &gt; 44 &gt; 33 &gt; 1&quot;) ➞ False\n",
    "correct_signs(&quot;1 &lt; 2 &lt; 6 &lt; 9 &gt; 3&quot;) ➞ True'''"
   ]
  },
  {
   "cell_type": "code",
   "execution_count": 4,
   "id": "5a247dd3",
   "metadata": {},
   "outputs": [
    {
     "data": {
      "text/plain": [
       "False"
      ]
     },
     "execution_count": 4,
     "metadata": {},
     "output_type": "execute_result"
    }
   ],
   "source": [
    "def correct_signs(inequality):\n",
    "    try:\n",
    "        return eval(inequality)\n",
    "    except (TypeError, SyntaxError):\n",
    "        return False\n",
    "correct_signs(2>3<5)\n"
   ]
  },
  {
   "cell_type": "code",
   "execution_count": 5,
   "id": "f2628d80",
   "metadata": {},
   "outputs": [
    {
     "data": {
      "text/plain": [
       "'Question3. Create a function that replaces all the vowels in a string with a specified character.\\nExamples\\nreplace_vowels(&quot;the aardvark&quot;, &quot;#&quot;) ➞ &quot;th# ##rdv#rk&quot;\\nreplace_vowels(&quot;minnie mouse&quot;, &quot;?&quot;) ➞ &quot;m?nn?? m??s?&quot;\\nreplace_vowels(&quot;shakespeare&quot;, &quot;*&quot;) ➞ &quot;sh*k*sp**r*&quot;'"
      ]
     },
     "execution_count": 5,
     "metadata": {},
     "output_type": "execute_result"
    }
   ],
   "source": [
    "'''Question3. Create a function that replaces all the vowels in a string with a specified character.\n",
    "Examples\n",
    "replace_vowels(&quot;the aardvark&quot;, &quot;#&quot;) ➞ &quot;th# ##rdv#rk&quot;\n",
    "replace_vowels(&quot;minnie mouse&quot;, &quot;?&quot;) ➞ &quot;m?nn?? m??s?&quot;\n",
    "replace_vowels(&quot;shakespeare&quot;, &quot;*&quot;) ➞ &quot;sh*k*sp**r*&quot;'''"
   ]
  },
  {
   "cell_type": "code",
   "execution_count": 6,
   "id": "a1f1c7c2",
   "metadata": {},
   "outputs": [
    {
     "data": {
      "text/plain": [
       "'H#llo, world! This is a simpl# string s#nt#nc#.'"
      ]
     },
     "execution_count": 6,
     "metadata": {},
     "output_type": "execute_result"
    }
   ],
   "source": [
    "def replace_vowels(S):\n",
    "    replaced_vowels =''\n",
    "    vowels=['A','a','E','e','I','i','O','o','U','u']\n",
    "    for s in S:\n",
    "        if s in vowels:\n",
    "            replaced_vowels=S.replace(s,\"#\")\n",
    "    return replaced_vowels\n",
    "S = \"Hello, world! This is a simple string sentence.\"\n",
    "replace_vowels(S)"
   ]
  },
  {
   "cell_type": "code",
   "execution_count": 7,
   "id": "4935f55a",
   "metadata": {},
   "outputs": [
    {
     "data": {
      "text/plain": [
       "'Question4. Write a function that calculates the factorial of a number recursively.\\nExamples\\nfactorial(5) ➞ 120\\nfactorial(3) ➞ 6\\nfactorial(1) ➞ 1\\nfactorial(0) ➞ 1'"
      ]
     },
     "execution_count": 7,
     "metadata": {},
     "output_type": "execute_result"
    }
   ],
   "source": [
    "'''Question4. Write a function that calculates the factorial of a number recursively.\n",
    "Examples\n",
    "factorial(5) ➞ 120\n",
    "factorial(3) ➞ 6\n",
    "factorial(1) ➞ 1\n",
    "factorial(0) ➞ 1'''"
   ]
  },
  {
   "cell_type": "code",
   "execution_count": 6,
   "id": "d2a30b62",
   "metadata": {},
   "outputs": [
    {
     "data": {
      "text/plain": [
       "120"
      ]
     },
     "execution_count": 6,
     "metadata": {},
     "output_type": "execute_result"
    }
   ],
   "source": [
    "def factorial(n):\n",
    "    if n == 0:\n",
    "        return 1\n",
    "    else:\n",
    "        return  n * factorial(n-1)\n",
    "factorial(5)\n"
   ]
  },
  {
   "cell_type": "code",
   "execution_count": 7,
   "id": "2d2b0321",
   "metadata": {},
   "outputs": [
    {
     "data": {
      "text/plain": [
       "'Question 5\\nHamming distance is the number of characters that differ between two strings.\\nTo illustrate:\\nString1: &quot;abcbba&quot;\\nString2: &quot;abcbda&quot;\\nHamming Distance: 1 - &quot;b&quot; vs. &quot;d&quot; is the only difference.\\nCreate a function that computes the hamming distance between two strings.\\nExamples\\nhamming_distance(&quot;abcde&quot;, &quot;bcdef&quot;) ➞ 5\\nhamming_distance(&quot;abcde&quot;, &quot;abcde&quot;) ➞ 0\\nhamming_distance(&quot;strong&quot;, &quot;strung&quot;) ➞ 1'"
      ]
     },
     "execution_count": 7,
     "metadata": {},
     "output_type": "execute_result"
    }
   ],
   "source": [
    "'''Question 5\n",
    "Hamming distance is the number of characters that differ between two strings.\n",
    "To illustrate:\n",
    "String1: &quot;abcbba&quot;\n",
    "String2: &quot;abcbda&quot;\n",
    "Hamming Distance: 1 - &quot;b&quot; vs. &quot;d&quot; is the only difference.\n",
    "Create a function that computes the hamming distance between two strings.\n",
    "Examples\n",
    "hamming_distance(&quot;abcde&quot;, &quot;bcdef&quot;) ➞ 5\n",
    "hamming_distance(&quot;abcde&quot;, &quot;abcde&quot;) ➞ 0\n",
    "hamming_distance(&quot;strong&quot;, &quot;strung&quot;) ➞ 1'''"
   ]
  },
  {
   "cell_type": "code",
   "execution_count": 12,
   "id": "176492a4",
   "metadata": {},
   "outputs": [
    {
     "name": "stdout",
     "output_type": "stream",
     "text": [
      "2\n"
     ]
    }
   ],
   "source": [
    "s1 = '101101'\n",
    "s2= '111001'\n",
    "li=[]\n",
    "for i in range(len(s1)):\n",
    "    if s1[i]!=s2[i]:\n",
    "            li.append(i)\n",
    "        \n",
    "if len(li)>1:\n",
    "    print(max(li)-min(li))\n",
    "else:\n",
    "    print(li)\n",
    "            "
   ]
  }
 ],
 "metadata": {
  "kernelspec": {
   "display_name": "Python 3 (ipykernel)",
   "language": "python",
   "name": "python3"
  },
  "language_info": {
   "codemirror_mode": {
    "name": "ipython",
    "version": 3
   },
   "file_extension": ".py",
   "mimetype": "text/x-python",
   "name": "python",
   "nbconvert_exporter": "python",
   "pygments_lexer": "ipython3",
   "version": "3.9.13"
  }
 },
 "nbformat": 4,
 "nbformat_minor": 5
}
