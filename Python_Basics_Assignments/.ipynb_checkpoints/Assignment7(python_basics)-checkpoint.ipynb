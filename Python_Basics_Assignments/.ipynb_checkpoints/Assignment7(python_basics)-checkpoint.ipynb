{
 "cells": [
  {
   "cell_type": "markdown",
   "id": "1105250a",
   "metadata": {},
   "source": [
    "# 1. What is the name of the feature responsible for generating Regex objects?"
   ]
  },
  {
   "cell_type": "markdown",
   "id": "e1497f5a",
   "metadata": {},
   "source": [
    "\n",
    "The feature responsible for generating Regex objects in Python is the re module. The re module provides a regular expression engine that can be used to search, match, and replace text. To generate a Regex object, you use the compile() function. The compile() function takes a regular expression string as its argument and returns a Regex object."
   ]
  },
  {
   "cell_type": "markdown",
   "id": "cdb66df1",
   "metadata": {},
   "source": [
    "# 2. Why do raw strings often appear in Regex objects?"
   ]
  },
  {
   "cell_type": "markdown",
   "id": "874db3e2",
   "metadata": {},
   "source": [
    "Raw strings are often used in regular expressions because they allow you to use special characters, such as backslashes, without having to escape them. For example, the following regular expression uses a raw string to match the string \"hello world\":"
   ]
  },
  {
   "cell_type": "markdown",
   "id": "fe5ee52f",
   "metadata": {},
   "source": [
    "# 3. What is the return value of the search() method?"
   ]
  },
  {
   "cell_type": "markdown",
   "id": "0be908a2",
   "metadata": {},
   "source": [
    "The search() method returns a Match object if the pattern is found in the string, or None if the pattern is not found. A Match object contains information about the pattern that was found, such as the start and end indexes of the match.\n",
    "\n"
   ]
  },
  {
   "cell_type": "markdown",
   "id": "8d2c80fa",
   "metadata": {},
   "source": [
    "#  4.you get the actual strings that match the pattern?"
   ]
  },
  {
   "cell_type": "markdown",
   "id": "aa5f2d82",
   "metadata": {},
   "source": [
    "You can use the group() method to get the actual strings that match the pattern. The group() method takes an integer argument, which specifies which group of matches you want to get. For example, the following code gets the first group of matches from a Match object:\n",
    "\n",
    "match = re.search(r'(\\d\\d\\d)-(\\d\\d\\d)-(\\d\\d\\d\\d)', '123-456-7890')\n",
    "\n",
    "match.group(1)"
   ]
  },
  {
   "cell_type": "markdown",
   "id": "3c0d7ad4",
   "metadata": {},
   "source": [
    "# 5. In the regex which created from the r&#39;(\\d\\d\\d)-(\\d\\d\\d-\\d\\d\\d\\d)&#39;, what does group zero cover?Group 2? Group 1?"
   ]
  },
  {
   "cell_type": "markdown",
   "id": "6ac6d28d",
   "metadata": {},
   "source": [
    "In the regex which created from the r'(\\d\\d\\d)-(\\d\\d\\d-\\d\\d\\d\\d)', group zero covers the entire match, group 1 covers the first group of digits, and group 2 covers the second group of digits."
   ]
  },
  {
   "cell_type": "markdown",
   "id": "5715f199",
   "metadata": {},
   "source": [
    "# 6. In standard expression syntax, parentheses and intervals have distinct meanings. How can you tell a regex that you want it to fit real parentheses and periods?"
   ]
  },
  {
   "cell_type": "markdown",
   "id": "cd4f06ee",
   "metadata": {},
   "source": [
    "You can use the re.VERBOSE flag when compiling the regex. For example, the following code compiles a regex that matches the string \"123-456-7890\" using the re.VERBOSE flag:\n",
    "\n",
    "import re\n",
    "\n",
    "regex = re.compile(r'(\\d\\d\\d)-(\\d\\d\\d)-(\\d\\d\\d\\d)', re.VERBOSE)"
   ]
  },
  {
   "cell_type": "markdown",
   "id": "1552a14d",
   "metadata": {},
   "source": [
    "# 7. The findall() method returns a string list or a list of string tuples. What causes it to return one of the two options?"
   ]
  },
  {
   "cell_type": "markdown",
   "id": "c14360f5",
   "metadata": {},
   "source": [
    "The findall() method returns a string list if the regex does not contain any capturing groups. It returns a list of string tuples if the regex contains capturing groups."
   ]
  },
  {
   "cell_type": "markdown",
   "id": "a2e634a4",
   "metadata": {},
   "source": [
    "# 8. In standard expressions, what does the | character mean?"
   ]
  },
  {
   "cell_type": "markdown",
   "id": "95404780",
   "metadata": {},
   "source": [
    "In standard expressions, the | character means \"or\". In regular expressions, the | character can be used to match one of a set of possible strings. For example, the following regex matches the strings \"hello\", \"world\", or \"goodbye\":\n",
    "\n",
    "import re\n",
    "\n",
    "regex = re.compile(r'hello|world|goodbye')"
   ]
  },
  {
   "cell_type": "markdown",
   "id": "e80ca63d",
   "metadata": {},
   "source": [
    "# 9. In regular expressions, what does the character stand for?"
   ]
  },
  {
   "cell_type": "markdown",
   "id": "384170bc",
   "metadata": {},
   "source": [
    "in regular expressions, the . character stands for any single character, except for a newline character."
   ]
  },
  {
   "cell_type": "markdown",
   "id": "242468db",
   "metadata": {},
   "source": [
    "# 10.In regular expressions, what is the difference between the + and * characters?"
   ]
  },
  {
   "cell_type": "markdown",
   "id": "1d75d17d",
   "metadata": {},
   "source": [
    "The + character matches one or more of the preceding character, while the * character matches zero or more of the preceding character. For example, the following regex matches any string that contains the letter \"a\" followed by one or more letters:\n",
    "\n",
    "import re\n",
    "\n",
    "regex = re.compile(r'a.*')"
   ]
  },
  {
   "cell_type": "markdown",
   "id": "e00d5e30",
   "metadata": {},
   "source": [
    "# 11. What is the difference between {4} and {4,5} in regular expression?"
   ]
  },
  {
   "cell_type": "markdown",
   "id": "b95fabc5",
   "metadata": {},
   "source": [
    "The difference between {4} and {4,5} in regular expression is that {4} matches exactly 4 occurrences of the preceding character, while {4,5} matches 4 or 5 occurrences."
   ]
  },
  {
   "cell_type": "markdown",
   "id": "7683c277",
   "metadata": {},
   "source": [
    "# 12. What do you mean by the \\d, \\w, and \\s shorthand character classes signify in regular expressions?"
   ]
  },
  {
   "cell_type": "markdown",
   "id": "d7f519a7",
   "metadata": {},
   "source": [
    "The \\d, \\w, and \\s shorthand character classes in regular expressions signify digits, word characters, and whitespace characters, respectively."
   ]
  },
  {
   "cell_type": "markdown",
   "id": "739325c8",
   "metadata": {},
   "source": [
    "# 13. What do means by \\D, \\W, and \\S shorthand character classes signify in regular expressions?"
   ]
  },
  {
   "cell_type": "markdown",
   "id": "9ff21c6f",
   "metadata": {},
   "source": [
    "The \\D, \\W, and \\S shorthand character classes in regular expressions signify non-digits, non-word characters, and non-whitespace characters, respectively."
   ]
  },
  {
   "cell_type": "markdown",
   "id": "abd75747",
   "metadata": {},
   "source": [
    "# 14. What is the difference between .*? and .*?"
   ]
  },
  {
   "cell_type": "markdown",
   "id": "3c68a03c",
   "metadata": {},
   "source": [
    "The difference between .? and . is that .? matches any number of characters, including zero, while . matches any number of characters, including one or more."
   ]
  },
  {
   "cell_type": "markdown",
   "id": "1db9f78f",
   "metadata": {},
   "source": [
    "# 15. What is the syntax for matching both numbers and lowercase letters with a character class?"
   ]
  },
  {
   "cell_type": "markdown",
   "id": "9e659577",
   "metadata": {},
   "source": [
    "The syntax for matching both numbers and lowercase letters with a character class is [0-9a-z]."
   ]
  },
  {
   "cell_type": "markdown",
   "id": "833e3683",
   "metadata": {},
   "source": [
    "# 16. What is the procedure for making a normal expression in regax case insensitive?"
   ]
  },
  {
   "cell_type": "markdown",
   "id": "431e7991",
   "metadata": {},
   "source": [
    "To make a regular expression case insensitive, you can pass the re.IGNORECASE flag to the re.compile() function."
   ]
  },
  {
   "cell_type": "markdown",
   "id": "c6e51b8d",
   "metadata": {},
   "source": [
    "# 17. What does the . character normally match? What does it match if re.DOTALL is passed as 2nd argument in re.compile()?"
   ]
  },
  {
   "cell_type": "markdown",
   "id": "b0c0d187",
   "metadata": {},
   "source": [
    "The . character normally matches any character, except for a newline character. If re.DOTALL is passed as the second argument to re.compile(), then the . character will match any character, including a newline character."
   ]
  },
  {
   "cell_type": "markdown",
   "id": "ef3b6d6c",
   "metadata": {},
   "source": [
    "# 18. If numReg = re.compile(r&#39;\\d+&#39;), what will numRegex.sub(&#39;X&#39;, &#39;11 drummers, 10 pipers, five rings, 4hen&#39;) return?"
   ]
  },
  {
   "cell_type": "markdown",
   "id": "e9275885",
   "metadata": {},
   "source": [
    "If numReg = re.compile(r'\\d+'), then numRegex.sub('X', '11 drummers, 10 pipers, five rings, 4 hens') will return 'X drummers, X pipers, five rings, X hens'."
   ]
  },
  {
   "cell_type": "markdown",
   "id": "33447339",
   "metadata": {},
   "source": [
    "# 19. What does passing re.VERBOSE as the 2nd argument to re.compile() allow to do?"
   ]
  },
  {
   "cell_type": "markdown",
   "id": "90f76014",
   "metadata": {},
   "source": [
    "Passing re.VERBOSE as the second argument to re.compile() allows you to write more readable regular expressions by ignoring whitespace and comments."
   ]
  },
  {
   "cell_type": "markdown",
   "id": "e7d2bc58",
   "metadata": {},
   "source": [
    "# 20. How would you write a regex that match a number with comma for every three digits? It must\n",
    "match the given following:\n",
    "&#39;42&#39;\n",
    "&#39;1,234&#39;\n",
    "&#39;6,368,745&#39;\n",
    "\n",
    "but not the following:\n",
    "&#39;12,34,567&#39; (which has only two digits between the commas)\n",
    "&#39;1234&#39; (which lacks commas)"
   ]
  },
  {
   "cell_type": "markdown",
   "id": "0ffdf48e",
   "metadata": {},
   "source": [
    "(?P<number>\\d{1,3})(,\\d{3})*\n"
   ]
  },
  {
   "cell_type": "markdown",
   "id": "74577bb1",
   "metadata": {},
   "source": [
    "# 21. How would you write a regex that matches the full name of someone whose last name is Watanabe? You can assume that the first name that comes before it will always be one word that begins with a capital letter. The regex must match the following:\n",
    "&#39;Haruto Watanabe&#39;\n",
    "&#39;Alice Watanabe&#39;\n",
    "&#39;RoboCop Watanabe&#39;\n",
    "but not the following:\n",
    "&#39;haruto Watanabe&#39; (where the first name is not capitalized)\n",
    "&#39;Mr. Watanabe&#39; (where the preceding word has a nonletter character)\n",
    "&#39;Watanabe&#39; (which has no first name)\n",
    "&#39;Haruto watanabe&#39; (where Watanabe is not capitalized)"
   ]
  },
  {
   "cell_type": "markdown",
   "id": "9e40d01c",
   "metadata": {},
   "source": [
    "(?P<first_name>[A-Z][a-z]+) Watanabe"
   ]
  },
  {
   "cell_type": "markdown",
   "id": "292853fc",
   "metadata": {},
   "source": [
    "# 22. How would you write a regex that matches a sentence where the first word is either Alice, Bob,\n",
    "or Carol; the second word is either eats, pets, or throws; the third word is apples, cats, or baseballs;\n",
    "and the sentence ends with a period? This regex should be case-insensitive. It must match the\n",
    "following:\n",
    "&#39;Alice eats apples.&#39;\n",
    "&#39;Bob pets cats.&#39;\n",
    "&#39;Carol throws baseballs.&#39;\n",
    "&#39;Alice throws Apples.&#39;\n",
    "&#39;BOB EATS CATS.&#39;\n",
    "but not the following:\n",
    "&#39;RoboCop eats apples.&#39;\n",
    "&#39;ALICE THROWS FOOTBALLS.&#39;\n",
    "&#39;Carol eats 7 cats.&#39;"
   ]
  },
  {
   "cell_type": "markdown",
   "id": "cb6ea6d0",
   "metadata": {},
   "source": [
    "(?i)(Alice|Bob|Carol) (eats|pets|throws) (apples|cats|baseballs)."
   ]
  }
 ],
 "metadata": {
  "kernelspec": {
   "display_name": "Python 3 (ipykernel)",
   "language": "python",
   "name": "python3"
  },
  "language_info": {
   "codemirror_mode": {
    "name": "ipython",
    "version": 3
   },
   "file_extension": ".py",
   "mimetype": "text/x-python",
   "name": "python",
   "nbconvert_exporter": "python",
   "pygments_lexer": "ipython3",
   "version": "3.10.11"
  }
 },
 "nbformat": 4,
 "nbformat_minor": 5
}
