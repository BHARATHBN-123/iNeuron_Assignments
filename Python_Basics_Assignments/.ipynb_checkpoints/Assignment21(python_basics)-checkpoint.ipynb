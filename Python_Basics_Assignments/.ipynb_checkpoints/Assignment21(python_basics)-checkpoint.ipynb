{
 "cells": [
  {
   "cell_type": "markdown",
   "id": "30235933",
   "metadata": {},
   "source": [
    "# 1. Add the current date to the text file today.txt as a string."
   ]
  },
  {
   "cell_type": "code",
   "execution_count": null,
   "id": "16eb3305",
   "metadata": {},
   "outputs": [],
   "source": [
    "import datetime\n",
    "import os\n",
    "\n",
    "def add_current_date_to_file():\n",
    "    today = datetime.datetime.now()\n",
    "    with open(\"today.txt\", \"w\") as f:\n",
    "        f.write(str(today))"
   ]
  },
  {
   "cell_type": "markdown",
   "id": "d2534123",
   "metadata": {},
   "source": [
    "# 2. Read the text file today.txt into the string today_string"
   ]
  },
  {
   "cell_type": "code",
   "execution_count": null,
   "id": "9628caf1",
   "metadata": {},
   "outputs": [],
   "source": [
    "def read_date_from_file():\n",
    "    with open(\"today.txt\", \"r\") as f:\n",
    "        today_string = f.read()\n",
    "    return today_string"
   ]
  },
  {
   "cell_type": "markdown",
   "id": "50605f4c",
   "metadata": {},
   "source": [
    "# 3. Parse the date from today_string."
   ]
  },
  {
   "cell_type": "code",
   "execution_count": null,
   "id": "05b2c100",
   "metadata": {},
   "outputs": [],
   "source": [
    "def parse_date(today_string):\n",
    "    today = datetime.datetime.strptime(today_string, \"%Y-%m-%d\")\n",
    "    return today"
   ]
  },
  {
   "cell_type": "markdown",
   "id": "21f93d0c",
   "metadata": {},
   "source": [
    "# 4. List the files in your current directory"
   ]
  },
  {
   "cell_type": "code",
   "execution_count": null,
   "id": "58f4f0ef",
   "metadata": {},
   "outputs": [],
   "source": [
    "def list_files_in_current_directory():\n",
    "    files = os.listdir()\n",
    "    return files\n"
   ]
  },
  {
   "cell_type": "markdown",
   "id": "ad6d03be",
   "metadata": {},
   "source": [
    "# 5. Create a list of all of the files in your parent directory (minimum five files should be available)."
   ]
  },
  {
   "cell_type": "code",
   "execution_count": null,
   "id": "07371bc5",
   "metadata": {},
   "outputs": [],
   "source": [
    "def list_files_in_parent_directory():\n",
    "    parent_directory = os.path.dirname(os.getcwd())\n",
    "    files = os.listdir(parent_directory)\n",
    "    return files[:5]"
   ]
  },
  {
   "cell_type": "markdown",
   "id": "20d79d60",
   "metadata": {},
   "source": [
    "# 6. Use multiprocessing to create three separate processes. Make each one wait a random number of seconds between one and five, print the current time, and then exit."
   ]
  },
  {
   "cell_type": "code",
   "execution_count": null,
   "id": "279837b3",
   "metadata": {},
   "outputs": [],
   "source": [
    "import multiprocessing\n",
    "\n",
    "def wait_random_number_of_seconds_and_print_time():\n",
    "    import random\n",
    "    time.sleep(random.randint(1, 5))\n",
    "    print(datetime.datetime.now())\n",
    "\n",
    "if __name__ == \"__main__\":\n",
    "    # Add the current date to the text file today.txt as a string.\n",
    "    add_current_date_to_file()\n",
    "\n",
    "    # Read the text file today.txt into the string today_string\n",
    "    today_string = read_date_from_file()\n",
    "\n",
    "    # Parse the date from today_string.\n",
    "    today = parse_date(today_string)\n",
    "\n",
    "    # List the files in your current directory\n",
    "    files = list_files_in_current_directory()\n",
    "\n",
    "    # Create a list of all of the files in your parent directory (minimum five files should be available).\n",
    "    parent_files = list_files_in_parent_directory()\n",
    "\n",
    "    # Use multiprocessing to create three separate processes. Make each one wait a random number of seconds between one and five, print the current time, and then exit.\n",
    "    processes = []\n",
    "    for i in range(3):\n",
    "        process = multiprocessing.Process(target=wait_random_number_of_seconds_and_print_time)\n",
    "        processes.append(process)\n",
    "        process.start()\n",
    "\n",
    "    # Wait for all of the processes to finish.\n",
    "    for process in processes:\n",
    "        process.join()"
   ]
  },
  {
   "cell_type": "markdown",
   "id": "b3f7a2a1",
   "metadata": {},
   "source": [
    "# 7. Create a date object of your day of birth."
   ]
  },
  {
   "cell_type": "code",
   "execution_count": null,
   "id": "3c715bca",
   "metadata": {},
   "outputs": [],
   "source": [
    "birth_date = datetime.datetime(1999, 12, 31)"
   ]
  },
  {
   "cell_type": "markdown",
   "id": "c0da91c9",
   "metadata": {},
   "source": [
    "# 8. What day of the week was your day of birth?"
   ]
  },
  {
   "cell_type": "code",
   "execution_count": null,
   "id": "6ee6aa01",
   "metadata": {},
   "outputs": [],
   "source": [
    "birth_day_of_week = birth_date.weekday()"
   ]
  },
  {
   "cell_type": "markdown",
   "id": "a7b4d2da",
   "metadata": {},
   "source": [
    "# 9. When will you be (or when were you) 10,000 days old?"
   ]
  },
  {
   "cell_type": "code",
   "execution_count": null,
   "id": "e7c58112",
   "metadata": {},
   "outputs": [],
   "source": [
    "future_date = today + datetime.timedelta(days=10000)"
   ]
  }
 ],
 "metadata": {
  "kernelspec": {
   "display_name": "Python 3 (ipykernel)",
   "language": "python",
   "name": "python3"
  },
  "language_info": {
   "codemirror_mode": {
    "name": "ipython",
    "version": 3
   },
   "file_extension": ".py",
   "mimetype": "text/x-python",
   "name": "python",
   "nbconvert_exporter": "python",
   "pygments_lexer": "ipython3",
   "version": "3.10.11"
  }
 },
 "nbformat": 4,
 "nbformat_minor": 5
}
