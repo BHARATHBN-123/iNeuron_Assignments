{
 "cells": [
  {
   "cell_type": "code",
   "execution_count": null,
   "id": "d7f61839",
   "metadata": {},
   "outputs": [],
   "source": [
    "'''Question 1\n",
    "Create a function that takes a number as an argument and returns True or False depending\n",
    "on whether the number is symmetrical or not. A number is symmetrical when it is the same as\n",
    "its reverse.\n",
    "Examples\n",
    "is_symmetrical(7227) ➞ True\n",
    "is_symmetrical(12567) ➞ False\n",
    "is_symmetrical(44444444) ➞ True\n",
    "is_symmetrical(9939) ➞ False\n",
    "is_symmetrical(1112111) ➞ True'''"
   ]
  },
  {
   "cell_type": "code",
   "execution_count": 3,
   "id": "d49a1bff",
   "metadata": {},
   "outputs": [
    {
     "data": {
      "text/plain": [
       "True"
      ]
     },
     "execution_count": 3,
     "metadata": {},
     "output_type": "execute_result"
    }
   ],
   "source": [
    "def is_symmetrical(n):\n",
    "    n = str(n)\n",
    "    if n == n[::-1]:\n",
    "        return True\n",
    "    else:\n",
    "        return False\n",
    "is_symmetrical(125647)\n",
    "is_symmetrical(1112111)"
   ]
  },
  {
   "cell_type": "code",
   "execution_count": 4,
   "id": "636daa6f",
   "metadata": {},
   "outputs": [
    {
     "data": {
      "text/plain": [
       "'Question 2\\nGiven a string of numbers separated by a comma and space, return the product of the\\nnumbers.\\nExamples\\nmultiply_nums(&quot;2, 3&quot;) ➞ 6\\nmultiply_nums(&quot;1, 2, 3, 4&quot;) ➞ 24\\nmultiply_nums(&quot;54, 75, 453, 0&quot;) ➞ 0\\nmultiply_nums(&quot;10, -2&quot;) ➞ -20'"
      ]
     },
     "execution_count": 4,
     "metadata": {},
     "output_type": "execute_result"
    }
   ],
   "source": [
    "'''Question 2\n",
    "Given a string of numbers separated by a comma and space, return the product of the\n",
    "numbers.\n",
    "Examples\n",
    "multiply_nums(&quot;2, 3&quot;) ➞ 6\n",
    "multiply_nums(&quot;1, 2, 3, 4&quot;) ➞ 24\n",
    "multiply_nums(&quot;54, 75, 453, 0&quot;) ➞ 0\n",
    "multiply_nums(&quot;10, -2&quot;) ➞ -20'''"
   ]
  },
  {
   "cell_type": "code",
   "execution_count": 8,
   "id": "2776682f",
   "metadata": {},
   "outputs": [
    {
     "data": {
      "text/plain": [
       "6"
      ]
     },
     "execution_count": 8,
     "metadata": {},
     "output_type": "execute_result"
    }
   ],
   "source": [
    "def mul_nums(s):\n",
    "    prd = 1\n",
    "    s = s.split(\",\")\n",
    "    for i in s:\n",
    "        prd *= int(i)\n",
    "    return prd\n",
    "mul_nums(\"1,2,3\")"
   ]
  },
  {
   "cell_type": "code",
   "execution_count": null,
   "id": "73d0b819",
   "metadata": {},
   "outputs": [],
   "source": [
    "'''Question 3\n",
    "Create a function that squares every digit of a number.\n",
    "Examples\n",
    "square_digits(9119) ➞ 811181\n",
    "square_digits(2483) ➞ 416649\n",
    "square_digits(3212) ➞ 9414\n",
    "Notes\n",
    "The function receives an integer and must return an integer.'''"
   ]
  },
  {
   "cell_type": "code",
   "execution_count": 11,
   "id": "d619d3f0",
   "metadata": {},
   "outputs": [
    {
     "data": {
      "text/plain": [
       "811181"
      ]
     },
     "execution_count": 11,
     "metadata": {},
     "output_type": "execute_result"
    }
   ],
   "source": [
    "def square_digits(n):\n",
    "    n = \"\".join(str(int(x)**2) for x in str(n)) \n",
    "    return int(n)\n",
    "square_digits(9119)"
   ]
  },
  {
   "cell_type": "code",
   "execution_count": null,
   "id": "0300137c",
   "metadata": {},
   "outputs": [],
   "source": [
    "'''Question 4\n",
    "Create a function that sorts a list and removes all duplicate items from it.\n",
    "Examples\n",
    "setify([1, 3, 3, 5, 5]) ➞ [1, 3, 5]\n",
    "setify([4, 4, 4, 4]) ➞ [4]\n",
    "setify([5, 7, 8, 9, 10, 15]) ➞ [5, 7, 8, 9, 10, 15]\n",
    "setify([3, 3, 3, 2, 1]) ➞ [1, 2, 3]'''"
   ]
  },
  {
   "cell_type": "code",
   "execution_count": 13,
   "id": "2a6144f0",
   "metadata": {},
   "outputs": [
    {
     "data": {
      "text/plain": [
       "[1, 3, 5]"
      ]
     },
     "execution_count": 13,
     "metadata": {},
     "output_type": "execute_result"
    }
   ],
   "source": [
    "def specify(lis):\n",
    "    lis = list(set(lis))\n",
    "    lis.sort()\n",
    "    return lis\n",
    "specify([1, 3, 3, 5, 5])"
   ]
  },
  {
   "cell_type": "code",
   "execution_count": null,
   "id": "6f0e8978",
   "metadata": {},
   "outputs": [],
   "source": [
    "'''Question 5\n",
    "Create a function that returns the mean of all digits.\n",
    "Examples\n",
    "mean(42) ➞ 3\n",
    "mean(12345) ➞ 3\n",
    "mean(666) ➞ 6\n",
    "Notes\n",
    " The mean of all digits is the sum of digits / how many digits there are (e.g. mean of digits in\n",
    "512 is (5+1+2)/3(number of digits) = 8/3=2).\n",
    " The mean will always be an integer.'''"
   ]
  },
  {
   "cell_type": "code",
   "execution_count": 16,
   "id": "c48bb708",
   "metadata": {},
   "outputs": [
    {
     "data": {
      "text/plain": [
       "3"
      ]
     },
     "execution_count": 16,
     "metadata": {},
     "output_type": "execute_result"
    }
   ],
   "source": [
    "def mean_function(n):\n",
    "    n  = str(n)\n",
    "    mean = sum([int(x)  for x in n])/(len(n))\n",
    "    return int(mean)\n",
    "mean_function(42)"
   ]
  },
  {
   "cell_type": "code",
   "execution_count": null,
   "id": "ae0df3b3",
   "metadata": {},
   "outputs": [],
   "source": [
    "''''''"
   ]
  }
 ],
 "metadata": {
  "kernelspec": {
   "display_name": "Python 3 (ipykernel)",
   "language": "python",
   "name": "python3"
  },
  "language_info": {
   "codemirror_mode": {
    "name": "ipython",
    "version": 3
   },
   "file_extension": ".py",
   "mimetype": "text/x-python",
   "name": "python",
   "nbconvert_exporter": "python",
   "pygments_lexer": "ipython3",
   "version": "3.9.13"
  }
 },
 "nbformat": 4,
 "nbformat_minor": 5
}
