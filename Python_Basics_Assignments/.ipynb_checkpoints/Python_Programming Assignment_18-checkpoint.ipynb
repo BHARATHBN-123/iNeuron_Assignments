{
 "cells": [
  {
   "cell_type": "code",
   "execution_count": 1,
   "id": "cbfbd74d",
   "metadata": {},
   "outputs": [
    {
     "data": {
      "text/plain": [
       "'Question 1\\nCreate a function that takes a list of non-negative integers and strings and return a new list\\nwithout the strings.\\nExamples\\nfilter_list([1, 2, &quot;a&quot;, &quot;b&quot;]) ➞ [1, 2]\\nfilter_list([1, &quot;a&quot;, &quot;b&quot;, 0, 15]) ➞ [1, 0, 15]\\nfilter_list([1, 2, &quot;aasf&quot;, &quot;1&quot;, &quot;123&quot;, 123]) ➞ [1, 2, 123]'"
      ]
     },
     "execution_count": 1,
     "metadata": {},
     "output_type": "execute_result"
    }
   ],
   "source": [
    "'''Question 1\n",
    "Create a function that takes a list of non-negative integers and strings and return a new list\n",
    "without the strings.\n",
    "Examples\n",
    "filter_list([1, 2, &quot;a&quot;, &quot;b&quot;]) ➞ [1, 2]\n",
    "filter_list([1, &quot;a&quot;, &quot;b&quot;, 0, 15]) ➞ [1, 0, 15]\n",
    "filter_list([1, 2, &quot;aasf&quot;, &quot;1&quot;, &quot;123&quot;, 123]) ➞ [1, 2, 123]'''"
   ]
  },
  {
   "cell_type": "code",
   "execution_count": 5,
   "id": "40df5648",
   "metadata": {},
   "outputs": [
    {
     "data": {
      "text/plain": [
       "[1, 3, 5]"
      ]
     },
     "execution_count": 5,
     "metadata": {},
     "output_type": "execute_result"
    }
   ],
   "source": [
    "def filter_list(li):\n",
    "    for ele in li:\n",
    "        if type(ele) != int:\n",
    "            li.remove(ele)\n",
    "    return li\n",
    "li =  [1, 'two', 3, 'four', 5]\n",
    "\n",
    "filter_list(li)            "
   ]
  },
  {
   "cell_type": "code",
   "execution_count": 6,
   "id": "929cfe6d",
   "metadata": {},
   "outputs": [
    {
     "data": {
      "text/plain": [
       "'Question 2\\nThe &quot;Reverser&quot; takes a string as input and returns that string in reverse order, with the\\nopposite case.\\nExamples\\nreverse(&quot;Hello World&quot;) ➞ &quot;DLROw OLLEh&quot;\\nreverse(&quot;ReVeRsE&quot;) ➞ &quot;eSrEvEr&quot;\\nreverse(&quot;Radar&quot;) ➞ &quot;RADAr&quot;'"
      ]
     },
     "execution_count": 6,
     "metadata": {},
     "output_type": "execute_result"
    }
   ],
   "source": [
    "'''Question 2\n",
    "The &quot;Reverser&quot; takes a string as input and returns that string in reverse order, with the\n",
    "opposite case.\n",
    "Examples\n",
    "reverse(&quot;Hello World&quot;) ➞ &quot;DLROw OLLEh&quot;\n",
    "reverse(&quot;ReVeRsE&quot;) ➞ &quot;eSrEvEr&quot;\n",
    "reverse(&quot;Radar&quot;) ➞ &quot;RADAr&quot;'''"
   ]
  },
  {
   "cell_type": "code",
   "execution_count": 10,
   "id": "6a271f8b",
   "metadata": {},
   "outputs": [
    {
     "data": {
      "text/plain": [
       "'dlrow olleH'"
      ]
     },
     "execution_count": 10,
     "metadata": {},
     "output_type": "execute_result"
    }
   ],
   "source": [
    "def reverser(S):\n",
    "    return S[::-1]\n",
    "S = \"Hello world\"\n",
    "reverser(S)"
   ]
  },
  {
   "cell_type": "code",
   "execution_count": null,
   "id": "1bd8ce9a",
   "metadata": {},
   "outputs": [],
   "source": [
    "'''Question 3\n",
    "You can assign variables from lists like this:\n",
    "lst = [1, 2, 3, 4, 5, 6]\n",
    "first = lst[0]\n",
    "middle = lst[1:-1]\n",
    "last = lst[-1]\n",
    "print(first) ➞ outputs 1\n",
    "print(middle) ➞ outputs [2, 3, 4, 5]\n",
    "print(last) ➞ outputs 6\n",
    "With Python 3, you can assign variables from lists in a much more succinct way. Create\n",
    "variables first, middle and last from the given list using destructuring assignment\n",
    "(check the Resources tab for some examples), where:\n",
    "first ➞ 1\n",
    "middle ➞ [2, 3, 4, 5]\n",
    "last ➞ 6\n",
    "\n",
    "Your task is to unpack the list writeyourcodehere into three variables, being first,\n",
    "middle, and last, with middle being everything in between the first and last element. Then\n",
    "print all three variables.'''"
   ]
  },
  {
   "cell_type": "code",
   "execution_count": 14,
   "id": "bdcb697f",
   "metadata": {},
   "outputs": [
    {
     "name": "stdout",
     "output_type": "stream",
     "text": [
      "first: 1\n",
      "middle: [2, 3, 4, 5]\n",
      "last: 6\n"
     ]
    }
   ],
   "source": [
    "lis = [1, 2, 3, 4, 5, 6]\n",
    "print(f\"first: {lis[0]}\")\n",
    "print(f\"middle: {lis[1:-1]}\")\n",
    "print(f\"last: {lis[-1]}\")"
   ]
  },
  {
   "cell_type": "code",
   "execution_count": 15,
   "id": "5f07c072",
   "metadata": {},
   "outputs": [
    {
     "data": {
      "text/plain": [
       "'Question 4\\nWrite a function that calculates the factorial of a number recursively.\\nExamples\\nfactorial(5) ➞ 120\\nfactorial(3) ➞ 6\\nfactorial(1) ➞ 1\\nfactorial(0) ➞ 1'"
      ]
     },
     "execution_count": 15,
     "metadata": {},
     "output_type": "execute_result"
    }
   ],
   "source": [
    "'''Question 4\n",
    "Write a function that calculates the factorial of a number recursively.\n",
    "Examples\n",
    "factorial(5) ➞ 120\n",
    "factorial(3) ➞ 6\n",
    "factorial(1) ➞ 1\n",
    "factorial(0) ➞ 1'''"
   ]
  },
  {
   "cell_type": "code",
   "execution_count": 16,
   "id": "2fe206a4",
   "metadata": {},
   "outputs": [
    {
     "data": {
      "text/plain": [
       "120"
      ]
     },
     "execution_count": 16,
     "metadata": {},
     "output_type": "execute_result"
    }
   ],
   "source": [
    "def factorial(n):\n",
    "    if n == 0:\n",
    "        return 1\n",
    "    else:\n",
    "        return  n * factorial(n-1)\n",
    "factorial(5)"
   ]
  },
  {
   "cell_type": "code",
   "execution_count": 17,
   "id": "cf4ef247",
   "metadata": {},
   "outputs": [
    {
     "data": {
      "text/plain": [
       "'Question 5\\nWrite a function that moves all elements of one type to the end of the list.\\nExamples\\nmove_to_end([1, 3, 2, 4, 4, 1], 1) ➞ [3, 2, 4, 4, 1, 1]\\n# Move all the 1s to the end of the array.\\nmove_to_end([7, 8, 9, 1, 2, 3, 4], 9) ➞ [7, 8, 1, 2, 3, 4, 9]\\nmove_to_end([&quot;a&quot;, &quot;a&quot;, &quot;a&quot;, &quot;b&quot;], &quot;a&quot;) ➞ [&quot;b&quot;, &quot;a&quot;, &quot;a&quot;, &quot;a&quot;]'"
      ]
     },
     "execution_count": 17,
     "metadata": {},
     "output_type": "execute_result"
    }
   ],
   "source": [
    "'''Question 5\n",
    "Write a function that moves all elements of one type to the end of the list.\n",
    "Examples\n",
    "move_to_end([1, 3, 2, 4, 4, 1], 1) ➞ [3, 2, 4, 4, 1, 1]\n",
    "# Move all the 1s to the end of the array.\n",
    "move_to_end([7, 8, 9, 1, 2, 3, 4], 9) ➞ [7, 8, 1, 2, 3, 4, 9]\n",
    "move_to_end([&quot;a&quot;, &quot;a&quot;, &quot;a&quot;, &quot;b&quot;], &quot;a&quot;) ➞ [&quot;b&quot;, &quot;a&quot;, &quot;a&quot;, &quot;a&quot;]'''"
   ]
  },
  {
   "cell_type": "code",
   "execution_count": 19,
   "id": "d5d3c55d",
   "metadata": {},
   "outputs": [
    {
     "data": {
      "text/plain": [
       "['b', 'a', 'a', 'a']"
      ]
     },
     "execution_count": 19,
     "metadata": {},
     "output_type": "execute_result"
    }
   ],
   "source": [
    "def move_to_end(lst, element):\n",
    "    \"\"\"\n",
    "    Moves all elements of a given value to the end of a list.\n",
    "    \"\"\"\n",
    "    count = 0\n",
    "    for i in range(len(lst)):\n",
    "        if lst[i] != element:\n",
    "            lst[count], lst[i] = lst[i], lst[count]\n",
    "            count += 1\n",
    "    return lst\n",
    "move_to_end([1, 3, 2, 4, 4, 1], 1)\n",
    "[3, 2, 4, 4, 1, 1]\n",
    "move_to_end([7, 8, 9, 1, 2, 3, 4], 9)\n",
    "[7, 8, 1, 2, 3, 4, 9]\n",
    "move_to_end([\"a\", \"a\", \"a\", \"b\"], \"a\")\n",
    "[\"b\", \"a\", \"a\", \"a\"]\n"
   ]
  }
 ],
 "metadata": {
  "kernelspec": {
   "display_name": "Python 3 (ipykernel)",
   "language": "python",
   "name": "python3"
  },
  "language_info": {
   "codemirror_mode": {
    "name": "ipython",
    "version": 3
   },
   "file_extension": ".py",
   "mimetype": "text/x-python",
   "name": "python",
   "nbconvert_exporter": "python",
   "pygments_lexer": "ipython3",
   "version": "3.9.13"
  }
 },
 "nbformat": 4,
 "nbformat_minor": 5
}
