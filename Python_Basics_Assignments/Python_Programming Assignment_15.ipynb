{
 "cells": [
  {
   "cell_type": "code",
   "execution_count": null,
   "id": "bdc3a76b",
   "metadata": {},
   "outputs": [],
   "source": [
    "'''Please write a program using generator to print the numbers which can be divisible by 5 and\n",
    "7 between 0 and n in comma separated form while n is input by console.\n",
    "Example:\n",
    "If the following n is given as input to the program:\n",
    "100\n",
    "Then, the output of the program should be:\n",
    "0,35,70'''"
   ]
  },
  {
   "cell_type": "code",
   "execution_count": 2,
   "id": "a1a5b9b6",
   "metadata": {},
   "outputs": [
    {
     "name": "stdout",
     "output_type": "stream",
     "text": [
      "0\n",
      "35\n",
      "70\n"
     ]
    }
   ],
   "source": [
    "def generator():\n",
    "    n =0\n",
    "    while n != 100:\n",
    "        if n%5 == 0 and n%7 == 0:\n",
    "            yield n\n",
    "        n = n+1\n",
    "for i in generator():\n",
    "    print(i)"
   ]
  },
  {
   "cell_type": "code",
   "execution_count": 3,
   "id": "80ffc0f8",
   "metadata": {},
   "outputs": [
    {
     "data": {
      "text/plain": [
       "'Question 2:\\nPlease write a program using generator to print the even numbers between 0 and n in comma\\nseparated form while n is input by console.\\nExample:\\nIf the following n is given as input to the program:\\n10\\nThen, the output of the program should be:\\n0,2,4,6,8,10'"
      ]
     },
     "execution_count": 3,
     "metadata": {},
     "output_type": "execute_result"
    }
   ],
   "source": [
    "'''Question 2:\n",
    "Please write a program using generator to print the even numbers between 0 and n in comma\n",
    "separated form while n is input by console.\n",
    "Example:\n",
    "If the following n is given as input to the program:\n",
    "10\n",
    "Then, the output of the program should be:\n",
    "0,2,4,6,8,10'''"
   ]
  },
  {
   "cell_type": "code",
   "execution_count": 10,
   "id": "42c4dd22",
   "metadata": {},
   "outputs": [
    {
     "name": "stdout",
     "output_type": "stream",
     "text": [
      "2\n",
      "4\n",
      "6\n",
      "8\n",
      "10\n"
     ]
    }
   ],
   "source": [
    "def generator(N):\n",
    "    n =1\n",
    "    while n != N+1:\n",
    "        if n%2==0:\n",
    "            yield n\n",
    "        n = n+1\n",
    "for i in generator(10):\n",
    "    print(i)"
   ]
  },
  {
   "cell_type": "code",
   "execution_count": 11,
   "id": "89aeea3a",
   "metadata": {},
   "outputs": [
    {
     "data": {
      "text/plain": [
       "'Question 3:\\nThe Fibonacci Sequence is computed based on the following formula:\\nf(n)=0 if n=0\\nf(n)=1 if n=1\\nf(n)=f(n-1)+f(n-2) if n&gt;1'"
      ]
     },
     "execution_count": 11,
     "metadata": {},
     "output_type": "execute_result"
    }
   ],
   "source": [
    "'''Question 3:\n",
    "The Fibonacci Sequence is computed based on the following formula:\n",
    "f(n)=0 if n=0\n",
    "f(n)=1 if n=1\n",
    "f(n)=f(n-1)+f(n-2) if n&gt;1'''"
   ]
  },
  {
   "cell_type": "code",
   "execution_count": 16,
   "id": "e627c3de",
   "metadata": {},
   "outputs": [
    {
     "data": {
      "text/plain": [
       "[1,\n",
       " 1,\n",
       " 2,\n",
       " 3,\n",
       " 5,\n",
       " 8,\n",
       " 13,\n",
       " 21,\n",
       " 34,\n",
       " 55,\n",
       " 89,\n",
       " 144,\n",
       " 233,\n",
       " 377,\n",
       " 610,\n",
       " 987,\n",
       " 1597,\n",
       " 2584,\n",
       " 4181,\n",
       " 6765]"
      ]
     },
     "execution_count": 16,
     "metadata": {},
     "output_type": "execute_result"
    }
   ],
   "source": [
    "def fibonacci_generator(n):\n",
    "    a, b = 0, 1\n",
    "    for i in range(n):\n",
    "        yield b\n",
    "        a, b = b, a + b\n",
    "fibanocci_list = [i for i in fibonacci_generator(20)]\n",
    "fibanocci_list"
   ]
  },
  {
   "cell_type": "code",
   "execution_count": 17,
   "id": "208cd61c",
   "metadata": {},
   "outputs": [
    {
     "data": {
      "text/plain": [
       "'Question 4:\\nAssuming that we have some email addresses in the &quot;username@companyname.com&quot; format,\\nplease write program to print the user name of a given email address. Both user names and\\ncompany names are composed of letters only.\\nExample:\\nIf the following email address is given as input to the program:\\njohn@google.com\\nThen, the output of the program should be:\\njohn'"
      ]
     },
     "execution_count": 17,
     "metadata": {},
     "output_type": "execute_result"
    }
   ],
   "source": [
    "'''Question 4:\n",
    "Assuming that we have some email addresses in the &quot;username@companyname.com&quot; format,\n",
    "please write program to print the user name of a given email address. Both user names and\n",
    "company names are composed of letters only.\n",
    "Example:\n",
    "If the following email address is given as input to the program:\n",
    "john@google.com\n",
    "Then, the output of the program should be:\n",
    "john'''"
   ]
  },
  {
   "cell_type": "code",
   "execution_count": 21,
   "id": "0331a736",
   "metadata": {},
   "outputs": [
    {
     "name": "stdout",
     "output_type": "stream",
     "text": [
      "The username of email is john\n"
     ]
    }
   ],
   "source": [
    "email = 'john@google.com'\n",
    "email = email.split('@')\n",
    "print(f\"The username of email is {email[0]}\")"
   ]
  },
  {
   "cell_type": "code",
   "execution_count": 22,
   "id": "d0260b38",
   "metadata": {},
   "outputs": [
    {
     "data": {
      "text/plain": [
       "'Question 5:\\nDefine a class named Shape and its subclass Square. The Square class has an init function\\nwhich takes a length as argument. Both classes have a area function which can print the area\\nof the shape where Shape&#39;s area is 0 by default.'"
      ]
     },
     "execution_count": 22,
     "metadata": {},
     "output_type": "execute_result"
    }
   ],
   "source": [
    "'''Question 5:\n",
    "Define a class named Shape and its subclass Square. The Square class has an init function\n",
    "which takes a length as argument. Both classes have a area function which can print the area\n",
    "of the shape where Shape&#39;s area is 0 by default.'''"
   ]
  },
  {
   "cell_type": "code",
   "execution_count": 25,
   "id": "279dafa0",
   "metadata": {},
   "outputs": [
    {
     "data": {
      "text/plain": [
       "0"
      ]
     },
     "execution_count": 25,
     "metadata": {},
     "output_type": "execute_result"
    }
   ],
   "source": [
    "class shape:\n",
    "    def area(self):\n",
    "        return 0\n",
    "class square(shape):\n",
    "    def __init__(self ,  length , bredth):\n",
    "        self.length = length\n",
    "        self.bridth = bredth\n",
    "        \n",
    "    def area(self):\n",
    "        return self.length * self.bredth\n",
    "    \n",
    "obj = shape()\n",
    "obj.area()"
   ]
  },
  {
   "cell_type": "code",
   "execution_count": null,
   "id": "8d60db18",
   "metadata": {},
   "outputs": [],
   "source": []
  }
 ],
 "metadata": {
  "kernelspec": {
   "display_name": "Python 3 (ipykernel)",
   "language": "python",
   "name": "python3"
  },
  "language_info": {
   "codemirror_mode": {
    "name": "ipython",
    "version": 3
   },
   "file_extension": ".py",
   "mimetype": "text/x-python",
   "name": "python",
   "nbconvert_exporter": "python",
   "pygments_lexer": "ipython3",
   "version": "3.9.13"
  }
 },
 "nbformat": 4,
 "nbformat_minor": 5
}
