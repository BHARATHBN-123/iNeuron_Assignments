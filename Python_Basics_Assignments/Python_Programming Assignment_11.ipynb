{
 "cells": [
  {
   "cell_type": "code",
   "execution_count": 1,
   "id": "e99b787e",
   "metadata": {},
   "outputs": [],
   "source": [
    "#1. Write a Python program to find words which are greater than given length k?"
   ]
  },
  {
   "cell_type": "code",
   "execution_count": 2,
   "id": "86e8e7f4",
   "metadata": {},
   "outputs": [
    {
     "name": "stdout",
     "output_type": "stream",
     "text": [
      "Enter the value of K: 3\n",
      "Write\n",
      "Python\n",
      "program\n",
      "find\n",
      "words\n",
      "which\n",
      "greater\n",
      "than\n",
      "given\n",
      "length\n"
     ]
    }
   ],
   "source": [
    "def str_len(s):\n",
    "    count  = 0\n",
    "    for i in s:\n",
    "        count+=1\n",
    "    return int(count)\n",
    "#list of words\n",
    "k = int(input(\"Enter the value of K: \"))\n",
    "l = ['Write', 'a' ,'Python', 'program', 'to', 'find' ,'words' ,'which' ,'are' ,'greater' ,'than', 'given', 'length', 'k']\n",
    "for words in l:\n",
    "    if str_len(words)>k:\n",
    "        print(words)\n"
   ]
  },
  {
   "cell_type": "code",
   "execution_count": 4,
   "id": "bbbdd8e3",
   "metadata": {},
   "outputs": [],
   "source": [
    "#2. Write a Python program for removing i-th character from a string?"
   ]
  },
  {
   "cell_type": "code",
   "execution_count": 14,
   "id": "011dd509",
   "metadata": {},
   "outputs": [
    {
     "name": "stdout",
     "output_type": "stream",
     "text": [
      "input string is **program**\n",
      "\n",
      "after removing nth element in string is: proram\n"
     ]
    }
   ],
   "source": [
    "def remove_ith_character(string , index):\n",
    "    if len(string) >index:\n",
    "        return a[0:index] + a[index+1:]\n",
    "    else :\n",
    "        return \"string is less than index\"\n",
    "print(\"input string is **program**\")\n",
    "print()\n",
    "print(f\"after removing nth element in string is: {remove_ith_character('program' , 3)}\")\n"
   ]
  },
  {
   "cell_type": "code",
   "execution_count": 15,
   "id": "8549642d",
   "metadata": {},
   "outputs": [],
   "source": [
    "#3. Write a Python program to split and join a string?"
   ]
  },
  {
   "cell_type": "code",
   "execution_count": 21,
   "id": "36b14f42",
   "metadata": {},
   "outputs": [
    {
     "name": "stdout",
     "output_type": "stream",
     "text": [
      "String after splitting  ['Hello,', 'World!']\n",
      "\n",
      "String after joining: Hello,World!\n"
     ]
    }
   ],
   "source": [
    "greeting = \"Hello, World!\"\n",
    "print(f\"String after splitting  {greeting.split()}\")\n",
    "print()\n",
    "print(f\"String after joining: {''.join(x for x in greeting.split())}\")"
   ]
  },
  {
   "cell_type": "code",
   "execution_count": 22,
   "id": "4e50536c",
   "metadata": {},
   "outputs": [],
   "source": [
    "#4. Write a Python to check if a given string is binary string or not?"
   ]
  },
  {
   "cell_type": "code",
   "execution_count": 25,
   "id": "fcd72423",
   "metadata": {},
   "outputs": [
    {
     "name": "stdout",
     "output_type": "stream",
     "text": [
      "String 01010 is binary string\n",
      "String 111000 is binary string\n",
      "String 10101 is binary string\n",
      "String 001101 is binary string\n",
      "String 11011 is binary string\n",
      "String 100200 is not binary string\n",
      "String 10112 is not binary string\n",
      "String 0110 is binary string\n",
      "String abcd is not binary string\n",
      "String 011223 is not binary string\n"
     ]
    }
   ],
   "source": [
    "def is_binary_string(s):\n",
    "    for char in s:\n",
    "        if char not in ['0', '1']:\n",
    "            return False\n",
    "    return True\n",
    "string_list = ['01010', '111000', '10101', '001101', '11011', '100200', '10112', '0110', 'abcd', '011223']\n",
    "for s in string_list:\n",
    "    if is_binary_string(s):\n",
    "        print(f\"String {s} is binary string\")\n",
    "    else:\n",
    "        print(f\"String {s} is not binary string\")\n",
    "        "
   ]
  },
  {
   "cell_type": "code",
   "execution_count": 26,
   "id": "656c0e72",
   "metadata": {},
   "outputs": [],
   "source": [
    "#5. Write a Python program to find uncommon words from two Strings?"
   ]
  },
  {
   "cell_type": "code",
   "execution_count": 29,
   "id": "c05c2e85",
   "metadata": {},
   "outputs": [
    {
     "name": "stdout",
     "output_type": "stream",
     "text": [
      "word **quick**  from sentence1 is not in sentence2\n",
      "word **brown**  from sentence1 is not in sentence2\n",
      "word **fox**  from sentence1 is not in sentence2\n",
      "word **jumps**  from sentence1 is not in sentence2\n",
      "word **over**  from sentence1 is not in sentence2\n",
      "word **dog.**  from sentence1 is not in sentence2\n"
     ]
    }
   ],
   "source": [
    "sentence1 = \"The quick brown fox jumps over the lazy dog.\"\n",
    "sentence2 = \"The lazy dog is sleeping under the tree.\"\n",
    "sentence1 = sentence1.split()\n",
    "sentence2 = sentence2.split()\n",
    "for i in sentence1:\n",
    "    if i not in sentence2:\n",
    "        print(f\"word **{i}**  from sentence1 is not in sentence2\")\n",
    "        "
   ]
  },
  {
   "cell_type": "code",
   "execution_count": 30,
   "id": "771f0b88",
   "metadata": {},
   "outputs": [],
   "source": [
    "#Write a Python to find all duplicate characters in string?"
   ]
  },
  {
   "cell_type": "code",
   "execution_count": 33,
   "id": "07e72298",
   "metadata": {},
   "outputs": [
    {
     "name": "stdout",
     "output_type": "stream",
     "text": [
      "**The** is repeated\n",
      "**quick** is repeated\n",
      "**fox** is repeated\n",
      "**jumps** is repeated\n",
      "**over** is repeated\n",
      "**the** is repeated\n",
      "**The** is repeated\n",
      "**dog** is repeated\n",
      "**jumps** is repeated\n",
      "**over** is repeated\n",
      "**the** is repeated\n",
      "**The** is repeated\n",
      "**is** is repeated\n",
      "**but** is repeated\n",
      "**the** is repeated\n",
      "**dog** is repeated\n",
      "**is** is repeated\n",
      "**the** is repeated\n",
      "**The** is repeated\n",
      "**fox** is repeated\n",
      "**is** is repeated\n",
      "**quick** is repeated\n",
      "**but** is repeated\n",
      "**the** is repeated\n",
      "**dog** is repeated\n",
      "**is** is repeated\n"
     ]
    }
   ],
   "source": [
    "string = \"The quick brown fox jumps over the lazy dog. The dog jumps over the fence. The fence is high but the dog is determined. Determined to catch the fox. The fox is quick but the dog is faster.\"\n",
    "string = string.split()\n",
    "for i in string:\n",
    "    repeated = 0\n",
    "    for j in string:\n",
    "        if i == j:\n",
    "            repeated +=1\n",
    "    if repeated >1:\n",
    "        print(f\"**{i}** is repeated\")\n",
    "        "
   ]
  },
  {
   "cell_type": "code",
   "execution_count": 34,
   "id": "8db711cd",
   "metadata": {},
   "outputs": [],
   "source": [
    "# 7. Write a Python Program to check if a string contains any special character?"
   ]
  },
  {
   "cell_type": "code",
   "execution_count": 38,
   "id": "0d1cebe2",
   "metadata": {},
   "outputs": [],
   "source": [
    "import re\n",
    "\n",
    "def has_special_characters(s):\n",
    "    regex = re.compile('[@_!#$%^&*()<>?/\\|}{~:]')\n",
    "    if regex.search(s) is  None:\n",
    "        print(f\"string ** {s} ** has special character\")\n",
    "    else:\n",
    "        print(f\"string ** {s} ** doenot have special character\")\n",
    "        \n"
   ]
  },
  {
   "cell_type": "code",
   "execution_count": 39,
   "id": "8c45a618",
   "metadata": {},
   "outputs": [],
   "source": [
    "#string example is taken from chatgpt\n",
    "string_list = [\n",
    "    \"The quick brown fox jumps over the lazy dog.\",\n",
    "    \"I have 1 cat and 2 dogs!\",\n",
    "    \"Let's try this string...\",\n",
    "    \"100% satisfaction guaranteed!\",\n",
    "    \"This string has no special characters\",\n",
    "    \"こんにちは、世界！\",\n",
    "    \"这是一条包含特殊字符的字符串：！＠＃＄％＾＆＊（）＿＋－＝［］｛｝；’：”＼｜，．＜＞／\",\n",
    "    \"Esta cadena tiene caracteres especiales: ¡@#€$%^&*()_+-=[]{};':\\\"\\\\|,.<>/?\",\n",
    "    \"Dieser String enthält Sonderzeichen: !\\\"§$%&/()=?`*+'#-_.:,;<>|\\\\@µ\",\n",
    "    \"이 문자열에는 특수 문자가 포함되어 있습니다: !@#$%^&*()_+-=[]{};':\\\"\\\\|,.<>/?\"]\n"
   ]
  },
  {
   "cell_type": "code",
   "execution_count": 40,
   "id": "2f1c6b1c",
   "metadata": {},
   "outputs": [
    {
     "name": "stdout",
     "output_type": "stream",
     "text": [
      "string ** The quick brown fox jumps over the lazy dog. ** has special character\n",
      "string ** I have 1 cat and 2 dogs! ** doenot have special character\n",
      "string ** Let's try this string... ** has special character\n",
      "string ** 100% satisfaction guaranteed! ** doenot have special character\n",
      "string ** This string has no special characters ** has special character\n",
      "string ** こんにちは、世界！ ** has special character\n",
      "string ** 这是一条包含特殊字符的字符串：！＠＃＄％＾＆＊（）＿＋－＝［］｛｝；’：”＼｜，．＜＞／ ** has special character\n",
      "string ** Esta cadena tiene caracteres especiales: ¡@#€$%^&*()_+-=[]{};':\"\\|,.<>/? ** doenot have special character\n",
      "string ** Dieser String enthält Sonderzeichen: !\"§$%&/()=?`*+'#-_.:,;<>|\\@µ ** doenot have special character\n",
      "string ** 이 문자열에는 특수 문자가 포함되어 있습니다: !@#$%^&*()_+-=[]{};':\"\\|,.<>/? ** doenot have special character\n"
     ]
    }
   ],
   "source": [
    "for s in string_list:\n",
    "     has_special_characters(s)"
   ]
  }
 ],
 "metadata": {
  "kernelspec": {
   "display_name": "Python 3 (ipykernel)",
   "language": "python",
   "name": "python3"
  },
  "language_info": {
   "codemirror_mode": {
    "name": "ipython",
    "version": 3
   },
   "file_extension": ".py",
   "mimetype": "text/x-python",
   "name": "python",
   "nbconvert_exporter": "python",
   "pygments_lexer": "ipython3",
   "version": "3.9.13"
  }
 },
 "nbformat": 4,
 "nbformat_minor": 5
}
