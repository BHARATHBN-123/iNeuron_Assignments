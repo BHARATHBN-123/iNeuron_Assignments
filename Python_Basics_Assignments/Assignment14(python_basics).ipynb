{
 "cells": [
  {
   "cell_type": "markdown",
   "id": "24eb9c9e",
   "metadata": {},
   "source": [
    "# 1. What does RGBA stand for?"
   ]
  },
  {
   "cell_type": "markdown",
   "id": "61a15aec",
   "metadata": {},
   "source": [
    "RGBA stands for Red, Green, Blue, and Alpha. The alpha channel is used to store transparency information."
   ]
  },
  {
   "cell_type": "markdown",
   "id": "d74bcf98",
   "metadata": {},
   "source": [
    "# 2. From the Pillow module, how do you get the RGBA value of any images?"
   ]
  },
  {
   "cell_type": "markdown",
   "id": "6eb3bfc2",
   "metadata": {},
   "source": [
    "To get the RGBA value of any image in Pillow, you can use the getpixel() method. The getpixel() method takes two arguments: the x-coordinate and the y-coordinate of the pixel you want to get the value of."
   ]
  },
  {
   "cell_type": "markdown",
   "id": "5414bbb1",
   "metadata": {},
   "source": [
    "# 3. What is a box tuple, and how does it work?"
   ]
  },
  {
   "cell_type": "markdown",
   "id": "a8c2ac72",
   "metadata": {},
   "source": [
    "A box tuple is a tuple of four numbers that specifies the coordinates of a rectangular region in an image. The first two numbers in the tuple are the x- and y-coordinates of the top-left corner of the region, and the last two numbers are the width and height of the region."
   ]
  },
  {
   "cell_type": "markdown",
   "id": "508c1e77",
   "metadata": {},
   "source": [
    "# 4. Use your image and load in notebook then, How can you find out the width and height of an Image object?"
   ]
  },
  {
   "cell_type": "markdown",
   "id": "c5282417",
   "metadata": {},
   "source": [
    "To find out the width and height of an Image object, you can use the width() and height() methods. The width() method returns the width of the image, and the height() method returns the height of the image."
   ]
  },
  {
   "cell_type": "markdown",
   "id": "1eefb506",
   "metadata": {},
   "source": [
    "# 5. What method would you call to get Image object for a 100×100 image, excluding the lower-left quarter of it?"
   ]
  },
  {
   "cell_type": "markdown",
   "id": "d54ad6ab",
   "metadata": {},
   "source": [
    "To get an Image object for a 100x100 image, excluding the lower-left quarter of it, you can use the crop() method. The crop() method takes two arguments: the x-coordinate and the y-coordinate of the top-left corner of the region you want to crop, and the width and height of the region you want to crop."
   ]
  },
  {
   "cell_type": "markdown",
   "id": "abc76319",
   "metadata": {},
   "source": [
    "# 6. After making changes to an Image object, how could you save it as an image file?"
   ]
  },
  {
   "cell_type": "markdown",
   "id": "51027bd8",
   "metadata": {},
   "source": [
    "To save an Image object as an image file, you can use the save() method. The save() method takes two arguments: the file name of the image file you want to save, and the format of the image file."
   ]
  },
  {
   "cell_type": "markdown",
   "id": "17cd60af",
   "metadata": {},
   "source": [
    "# 7. What module contains Pillow’s shape-drawing code?"
   ]
  },
  {
   "cell_type": "markdown",
   "id": "457a4d00",
   "metadata": {},
   "source": [
    "The ImageDraw module contains Pillow's shape-drawing code."
   ]
  },
  {
   "cell_type": "markdown",
   "id": "fc157c7f",
   "metadata": {},
   "source": [
    "# 8. Image objects do not have drawing methods. What kind of object does? How do you get this kind of object?"
   ]
  },
  {
   "cell_type": "markdown",
   "id": "aeb14526",
   "metadata": {},
   "source": [
    "Image objects do not have drawing methods because they are immutable. To draw shapes on an image, you need to create an ImageDraw object. You can create an ImageDraw object by calling the draw() method on an Image object."
   ]
  }
 ],
 "metadata": {
  "kernelspec": {
   "display_name": "Python 3 (ipykernel)",
   "language": "python",
   "name": "python3"
  },
  "language_info": {
   "codemirror_mode": {
    "name": "ipython",
    "version": 3
   },
   "file_extension": ".py",
   "mimetype": "text/x-python",
   "name": "python",
   "nbconvert_exporter": "python",
   "pygments_lexer": "ipython3",
   "version": "3.10.11"
  }
 },
 "nbformat": 4,
 "nbformat_minor": 5
}
