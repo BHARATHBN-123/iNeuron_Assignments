{
 "cells": [
  {
   "cell_type": "code",
   "execution_count": null,
   "id": "5e1d92e5",
   "metadata": {},
   "outputs": [],
   "source": [
    "'''Question1\n",
    "Write a function that takes a list and a number as arguments. Add the number to the end of\n",
    "the list, then remove the first element of the list. The function should then return the updated\n",
    "list.\n",
    "Examples\n",
    "next_in_line([5, 6, 7, 8, 9], 1) ➞ [6, 7, 8, 9, 1]\n",
    "next_in_line([7, 6, 3, 23, 17], 10) ➞ [6, 3, 23, 17, 10]\n",
    "next_in_line([1, 10, 20, 42 ], 6) ➞ [10, 20, 42, 6]\n",
    "next_in_line([], 6) ➞ &quot;No list has been selected&quot;'''"
   ]
  },
  {
   "cell_type": "code",
   "execution_count": 3,
   "id": "a08f41a9",
   "metadata": {},
   "outputs": [
    {
     "data": {
      "text/plain": [
       "[6, 3, 23, 17, 10]"
      ]
     },
     "execution_count": 3,
     "metadata": {},
     "output_type": "execute_result"
    }
   ],
   "source": [
    "def next_in_line(li ,N): #li--> list  N--> num\n",
    "    if len(li) !=0:\n",
    "        li.append(N)\n",
    "        li.pop(0)\n",
    "        return li\n",
    "    else:\n",
    "        print(\"No list has been selected\")\n",
    "    \n",
    "next_in_line([7, 6, 3, 23, 17], 10)"
   ]
  },
  {
   "cell_type": "code",
   "execution_count": null,
   "id": "5df0ee1f",
   "metadata": {},
   "outputs": [],
   "source": [
    "'''Question2\n",
    "Create the function that takes a list of dictionaries and returns the sum of people&#39;s budgets.\n",
    "Examples\n",
    "get_budgets([\n",
    "{ &quot;name&quot;: &quot;John&quot;, &quot;age&quot;: 21, &quot;budget&quot;: 23000 },\n",
    "{ &quot;name&quot;: &quot;Steve&quot;, &quot;age&quot;: 32, &quot;budget&quot;: 40000 },\n",
    "{ &quot;name&quot;: &quot;Martin&quot;, &quot;age&quot;: 16, &quot;budget&quot;: 2700 }\n",
    "]) ➞ 65700\n",
    "get_budgets([\n",
    "{ &quot;name&quot;: &quot;John&quot;, &quot;age&quot;: 21, &quot;budget&quot;: 29000 },\n",
    "{ &quot;name&quot;: &quot;Steve&quot;, &quot;age&quot;: 32, &quot;budget&quot;: 32000 },\n",
    "{ &quot;name&quot;: &quot;Martin&quot;, &quot;age&quot;: 16, &quot;budget&quot;: 1600 }\n",
    "]) ➞ 62600'''"
   ]
  },
  {
   "cell_type": "code",
   "execution_count": 8,
   "id": "3394f655",
   "metadata": {},
   "outputs": [
    {
     "data": {
      "text/plain": [
       "65700"
      ]
     },
     "execution_count": 8,
     "metadata": {},
     "output_type": "execute_result"
    }
   ],
   "source": [
    "li=[\n",
    "    {\"name\": \"John\", \"age\": 21, \"budget\": 23000},\n",
    "    {\"name\": \"Steve\", \"age\": 32, \"budget\": 40000},\n",
    "    {\"name\": \"Martin\", \"age\": 16, \"budget\": 2700}\n",
    "]\n",
    "def get_budgets(li):\n",
    "    summ = 0\n",
    "    for i in li:\n",
    "        summ +=i[\"budget\"]\n",
    "    return summ\n",
    "get_budgets(li)"
   ]
  },
  {
   "cell_type": "code",
   "execution_count": 9,
   "id": "203b60ba",
   "metadata": {},
   "outputs": [
    {
     "data": {
      "text/plain": [
       "'Question3\\nCreate a function that takes a string and returns a string with its letters in alphabetical order.\\nExamples\\nalphabet_soup(&quot;hello&quot;) ➞ &quot;ehllo&quot;\\nalphabet_soup(&quot;edabit&quot;) ➞ &quot;abdeit&quot;\\nalphabet_soup(&quot;hacker&quot;) ➞ &quot;acehkr&quot;\\nalphabet_soup(&quot;geek&quot;) ➞ &quot;eegk&quot;\\nalphabet_soup(&quot;javascript&quot;) ➞ &quot;aacijprstv&quot; \\n'"
      ]
     },
     "execution_count": 9,
     "metadata": {},
     "output_type": "execute_result"
    }
   ],
   "source": [
    "'''Question3\n",
    "Create a function that takes a string and returns a string with its letters in alphabetical order.\n",
    "Examples\n",
    "alphabet_soup(&quot;hello&quot;) ➞ &quot;ehllo&quot;\n",
    "alphabet_soup(&quot;edabit&quot;) ➞ &quot;abdeit&quot;\n",
    "alphabet_soup(&quot;hacker&quot;) ➞ &quot;acehkr&quot;\n",
    "alphabet_soup(&quot;geek&quot;) ➞ &quot;eegk&quot;\n",
    "alphabet_soup(&quot;javascript&quot;) ➞ &quot;aacijprstv&quot; \n",
    "'''"
   ]
  },
  {
   "cell_type": "code",
   "execution_count": 15,
   "id": "a8215c46",
   "metadata": {},
   "outputs": [
    {
     "data": {
      "text/plain": [
       "'ehllo'"
      ]
     },
     "execution_count": 15,
     "metadata": {},
     "output_type": "execute_result"
    }
   ],
   "source": [
    "def alphabet_soup(S):\n",
    "    return \"\".join(x for x in sorted(S))\n",
    "alphabet_soup(\"hello\")"
   ]
  },
  {
   "cell_type": "code",
   "execution_count": null,
   "id": "7694805d",
   "metadata": {},
   "outputs": [],
   "source": [
    "'''Question4\n",
    "Suppose that you invest $10,000 for 10 years at an interest rate of 6% compounded monthly.\n",
    "What will be the value of your investment at the end of the 10 year period?\n",
    "Create a function that accepts the principal p, the term in years t, the interest rate r, and the\n",
    "number of compounding periods per year n. The function returns the value at the end of term\n",
    "rounded to the nearest cent.\n",
    "For the example above:\n",
    "compound_interest(10000, 10, 0.06, 12) ➞ 18193.97\n",
    "Note that the interest rate is given as a decimal and n=12 because with monthly compounding\n",
    "there are 12 periods per year. Compounding can also be done annually, quarterly, weekly, or\n",
    "daily.\n",
    "Examples\n",
    "compound_interest(100, 1, 0.05, 1) ➞ 105.0\n",
    "compound_interest(3500, 15, 0.1, 4) ➞ 15399.26\n",
    "compound_interest(100000, 20, 0.15, 365) ➞ 2007316.26'''"
   ]
  },
  {
   "cell_type": "code",
   "execution_count": 17,
   "id": "8ac241f3",
   "metadata": {},
   "outputs": [
    {
     "data": {
      "text/plain": [
       "105.0"
      ]
     },
     "execution_count": 17,
     "metadata": {},
     "output_type": "execute_result"
    }
   ],
   "source": [
    "def compound_interest(p, t, r, n):\n",
    "    fv = p * (1 + r/n)**(n*t)\n",
    "    return round(fv, 2)\n",
    "compound_interest(100, 1, 0.05, 1)"
   ]
  },
  {
   "cell_type": "code",
   "execution_count": null,
   "id": "5793a8b0",
   "metadata": {},
   "outputs": [],
   "source": [
    "'''Question5\n",
    "Write a function that takes a list of elements and returns only the integers.\n",
    "Examples\n",
    "return_only_integer([9, 2, &quot;space&quot;, &quot;car&quot;, &quot;lion&quot;, 16]) ➞ [9, 2, 16]\n",
    "return_only_integer([&quot;hello&quot;, 81, &quot;basketball&quot;, 123, &quot;fox&quot;]) ➞ [81, 123]\n",
    "return_only_integer([10, &quot;121&quot;, 56, 20, &quot;car&quot;, 3, &quot;lion&quot;]) ➞ [10, 56, 20,\n",
    "3]\n",
    "return_only_integer([&quot;String&quot;, True, 3.3, 1]) ➞ [1]'''"
   ]
  },
  {
   "cell_type": "code",
   "execution_count": null,
   "id": "87b6e478",
   "metadata": {},
   "outputs": [],
   "source": [
    "def filter_list(li):\n",
    "    for ele in li:\n",
    "        if type(ele) != int:\n",
    "            li.remove(ele)\n",
    "    return li\n",
    "li =  [1, 'two', 3, 'four', 5]\n",
    "\n",
    "filter_list(li) "
   ]
  }
 ],
 "metadata": {
  "kernelspec": {
   "display_name": "Python 3 (ipykernel)",
   "language": "python",
   "name": "python3"
  },
  "language_info": {
   "codemirror_mode": {
    "name": "ipython",
    "version": 3
   },
   "file_extension": ".py",
   "mimetype": "text/x-python",
   "name": "python",
   "nbconvert_exporter": "python",
   "pygments_lexer": "ipython3",
   "version": "3.9.13"
  }
 },
 "nbformat": 4,
 "nbformat_minor": 5
}
