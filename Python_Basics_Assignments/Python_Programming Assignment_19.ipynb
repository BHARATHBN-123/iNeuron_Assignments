{
 "cells": [
  {
   "cell_type": "code",
   "execution_count": 1,
   "id": "3120cd3b",
   "metadata": {},
   "outputs": [
    {
     "data": {
      "text/plain": [
       "'Question1\\nCreate a function that takes a string and returns a string in which each character is repeated\\nonce.\\nExamples\\ndouble_char(&quot;String&quot;) ➞ &quot;SSttrriinngg&quot;\\ndouble_char(&quot;Hello World!&quot;) ➞ &quot;HHeelllloo WWoorrlldd!!&quot;\\ndouble_char(&quot;1234!_ &quot;) ➞ &quot;11223344!!__ &quot;'"
      ]
     },
     "execution_count": 1,
     "metadata": {},
     "output_type": "execute_result"
    }
   ],
   "source": [
    "'''Question1\n",
    "Create a function that takes a string and returns a string in which each character is repeated\n",
    "once.\n",
    "Examples\n",
    "double_char(&quot;String&quot;) ➞ &quot;SSttrriinngg&quot;\n",
    "double_char(&quot;Hello World!&quot;) ➞ &quot;HHeelllloo WWoorrlldd!!&quot;\n",
    "double_char(&quot;1234!_ &quot;) ➞ &quot;11223344!!__ &quot;'''"
   ]
  },
  {
   "cell_type": "code",
   "execution_count": 4,
   "id": "48a605fd",
   "metadata": {},
   "outputs": [
    {
     "data": {
      "text/plain": [
       "'HHeelllloo  WWoorrlldd'"
      ]
     },
     "execution_count": 4,
     "metadata": {},
     "output_type": "execute_result"
    }
   ],
   "source": [
    "def double_char(S):\n",
    "    s=\"\"\n",
    "    for l in S:\n",
    "        s = s+l*2\n",
    "    return s\n",
    "\n",
    "double_char(\"Hello World\")"
   ]
  },
  {
   "cell_type": "code",
   "execution_count": 5,
   "id": "4a062bb1",
   "metadata": {},
   "outputs": [
    {
     "data": {
      "text/plain": [
       "'Question2\\nCreate a function that reverses a boolean value and returns the string &quot;boolean expected&quot;\\nif another variable type is given.\\nExamples\\nreverse(True) ➞ False\\nreverse(False) ➞ True\\nreverse(0) ➞ &quot;boolean expected&quot;\\nreverse(None) ➞ &quot;boolean expected&quot;'"
      ]
     },
     "execution_count": 5,
     "metadata": {},
     "output_type": "execute_result"
    }
   ],
   "source": [
    "'''Question2\n",
    "Create a function that reverses a boolean value and returns the string &quot;boolean expected&quot;\n",
    "if another variable type is given.\n",
    "Examples\n",
    "reverse(True) ➞ False\n",
    "reverse(False) ➞ True\n",
    "reverse(0) ➞ &quot;boolean expected&quot;\n",
    "reverse(None) ➞ &quot;boolean expected&quot;'''"
   ]
  },
  {
   "cell_type": "code",
   "execution_count": 7,
   "id": "f30b6c80",
   "metadata": {},
   "outputs": [
    {
     "data": {
      "text/plain": [
       "False"
      ]
     },
     "execution_count": 7,
     "metadata": {},
     "output_type": "execute_result"
    }
   ],
   "source": [
    "def reverse(boolean_value):\n",
    "    if type(boolean_value) != bool:\n",
    "        print(\"please enter boolean value\")\n",
    "    else:\n",
    "        if boolean_value == True:\n",
    "            return False\n",
    "        else:\n",
    "            return True\n",
    "reverse(True)"
   ]
  },
  {
   "cell_type": "code",
   "execution_count": 8,
   "id": "bd1a3815",
   "metadata": {},
   "outputs": [
    {
     "data": {
      "text/plain": [
       "'Question3\\nCreate a function that returns the thickness (in meters) of a piece of paper after folding it n\\nnumber of times. The paper starts off with a thickness of 0.5mm.\\nExamples\\nnum_layers(1) ➞ &quot;0.001m&quot;\\n# Paper folded once is 1mm (equal to 0.001m)\\nnum_layers(4) ➞ &quot;0.008m&quot;\\n# Paper folded 4 times is 8mm (equal to 0.008m)\\nnum_layers(21) ➞ &quot;1048.576m&quot;\\n# Paper folded 21 times is 1048576mm (equal to 1048.576m)'"
      ]
     },
     "execution_count": 8,
     "metadata": {},
     "output_type": "execute_result"
    }
   ],
   "source": [
    "'''Question3\n",
    "Create a function that returns the thickness (in meters) of a piece of paper after folding it n\n",
    "number of times. The paper starts off with a thickness of 0.5mm.\n",
    "Examples\n",
    "num_layers(1) ➞ &quot;0.001m&quot;\n",
    "# Paper folded once is 1mm (equal to 0.001m)\n",
    "num_layers(4) ➞ &quot;0.008m&quot;\n",
    "# Paper folded 4 times is 8mm (equal to 0.008m)\n",
    "num_layers(21) ➞ &quot;1048.576m&quot;\n",
    "# Paper folded 21 times is 1048576mm (equal to 1048.576m)'''"
   ]
  },
  {
   "cell_type": "code",
   "execution_count": 12,
   "id": "e38a04f3",
   "metadata": {},
   "outputs": [
    {
     "data": {
      "text/plain": [
       "1048.576"
      ]
     },
     "execution_count": 12,
     "metadata": {},
     "output_type": "execute_result"
    }
   ],
   "source": [
    "def paper_thickness(n):\n",
    "    thickness = 0.5 / 1000 # Convert 0.5mm to meters\n",
    "    for i in range(n):\n",
    "        thickness *= 2\n",
    "    return thickness\n",
    "paper_thickness(21)"
   ]
  },
  {
   "cell_type": "code",
   "execution_count": 13,
   "id": "45e2970e",
   "metadata": {},
   "outputs": [
    {
     "data": {
      "text/plain": [
       "'Question4\\n\\nCreate a function that takes a single string as argument and returns an ordered list containing\\nthe indices of all capital letters in the string.\\nExamples\\nindex_of_caps(&quot;eDaBiT&quot;) ➞ [1, 3, 5]\\nindex_of_caps(&quot;eQuINoX&quot;) ➞ [1, 3, 4, 6]\\nindex_of_caps(&quot;determine&quot;) ➞ []\\nindex_of_caps(&quot;STRIKE&quot;) ➞ [0, 1, 2, 3, 4, 5]\\nindex_of_caps(&quot;sUn&quot;) ➞ [1]'"
      ]
     },
     "execution_count": 13,
     "metadata": {},
     "output_type": "execute_result"
    }
   ],
   "source": [
    "'''Question4\n",
    "\n",
    "Create a function that takes a single string as argument and returns an ordered list containing\n",
    "the indices of all capital letters in the string.\n",
    "Examples\n",
    "index_of_caps(&quot;eDaBiT&quot;) ➞ [1, 3, 5]\n",
    "index_of_caps(&quot;eQuINoX&quot;) ➞ [1, 3, 4, 6]\n",
    "index_of_caps(&quot;determine&quot;) ➞ []\n",
    "index_of_caps(&quot;STRIKE&quot;) ➞ [0, 1, 2, 3, 4, 5]\n",
    "index_of_caps(&quot;sUn&quot;) ➞ [1]'''"
   ]
  },
  {
   "cell_type": "code",
   "execution_count": 15,
   "id": "6755f019",
   "metadata": {},
   "outputs": [
    {
     "data": {
      "text/plain": [
       "[1, 3, 5]"
      ]
     },
     "execution_count": 15,
     "metadata": {},
     "output_type": "execute_result"
    }
   ],
   "source": [
    "def index_of_caps(S):\n",
    "    Index = []\n",
    "    for index , s in enumerate(S):\n",
    "        if s.isupper():\n",
    "            Index.append(index)\n",
    "    return Index\n",
    "index_of_caps(\"eDaBiT\")"
   ]
  },
  {
   "cell_type": "code",
   "execution_count": 16,
   "id": "0178e23b",
   "metadata": {},
   "outputs": [
    {
     "data": {
      "text/plain": [
       "'Question5\\nUsing list comprehensions, create a function that finds all even numbers from 1 to the given\\nnumber.\\nExamples\\nfind_even_nums(8) ➞ [2, 4, 6, 8]\\nfind_even_nums(4) ➞ [2, 4]\\nfind_even_nums(2) ➞ [2]'"
      ]
     },
     "execution_count": 16,
     "metadata": {},
     "output_type": "execute_result"
    }
   ],
   "source": [
    "'''Question5\n",
    "Using list comprehensions, create a function that finds all even numbers from 1 to the given\n",
    "number.\n",
    "Examples\n",
    "find_even_nums(8) ➞ [2, 4, 6, 8]\n",
    "find_even_nums(4) ➞ [2, 4]\n",
    "find_even_nums(2) ➞ [2]'''"
   ]
  },
  {
   "cell_type": "code",
   "execution_count": 17,
   "id": "49f0b2fe",
   "metadata": {},
   "outputs": [
    {
     "data": {
      "text/plain": [
       "[0, 2, 4, 6, 8]"
      ]
     },
     "execution_count": 17,
     "metadata": {},
     "output_type": "execute_result"
    }
   ],
   "source": [
    "def find_even_nums(N):\n",
    "    return [x for x in range(0,N+1) if x%2==0]\n",
    "find_even_nums(8)"
   ]
  }
 ],
 "metadata": {
  "kernelspec": {
   "display_name": "Python 3 (ipykernel)",
   "language": "python",
   "name": "python3"
  },
  "language_info": {
   "codemirror_mode": {
    "name": "ipython",
    "version": 3
   },
   "file_extension": ".py",
   "mimetype": "text/x-python",
   "name": "python",
   "nbconvert_exporter": "python",
   "pygments_lexer": "ipython3",
   "version": "3.9.13"
  }
 },
 "nbformat": 4,
 "nbformat_minor": 5
}
