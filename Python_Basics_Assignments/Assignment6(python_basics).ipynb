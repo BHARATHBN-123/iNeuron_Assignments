{
 "cells": [
  {
   "cell_type": "markdown",
   "id": "914b0d3b",
   "metadata": {},
   "source": [
    "# 1. What are escape characters, and how do you use them?"
   ]
  },
  {
   "cell_type": "markdown",
   "id": "2cf42017",
   "metadata": {},
   "source": [
    "\\n: Newline\n",
    "\n",
    "\\t: Tab\n",
    "\n",
    "\\r: Carriage return\n",
    "\n",
    "\\b: Backspace\n",
    "\n",
    "\\f: Form feed\n",
    "\n",
    "\\v: Vertical tab\n",
    "\n",
    "\\': Single quote\n",
    "\n",
    "\\\": Double quote\n",
    "\n",
    "\\\\: Backslash"
   ]
  },
  {
   "cell_type": "markdown",
   "id": "0a0eadb8",
   "metadata": {},
   "source": [
    "# 2. What do the escape characters n and t stand for?"
   ]
  },
  {
   "cell_type": "markdown",
   "id": "3c7d4a9d",
   "metadata": {},
   "source": [
    "**\\n** represents a newline character, which is a character that causes the cursor to move to the beginning of the next line.\n",
    "\n",
    "**\\t** represents a tab character, which is a character that causes the cursor to move to the next tab stop."
   ]
  },
  {
   "cell_type": "markdown",
   "id": "211310b0",
   "metadata": {},
   "source": [
    "# 3. What is the way to include backslash characters in a string?"
   ]
  },
  {
   "cell_type": "markdown",
   "id": "d7570877",
   "metadata": {},
   "source": [
    "\n",
    "To include a backslash character in a string, you need to escape it with another backslash. For example, the following string contains a backslash character"
   ]
  },
  {
   "cell_type": "markdown",
   "id": "f844259e",
   "metadata": {},
   "source": [
    "# 4. The string &quot;Howl&#39;s Moving Castle&quot; is a correct value. Why isn&#39;t the single quote character in the word Howl&#39;s not escaped a problem?"
   ]
  },
  {
   "cell_type": "markdown",
   "id": "9ea70875",
   "metadata": {},
   "source": [
    "The string \"Howl's Moving Castle\" is a correct value because it uses double quotes to mark the beginning and end of the string. Single quotes are only special characters inside double quotes, so the single quote in the word \"Howl's\" is not a problem."
   ]
  },
  {
   "cell_type": "markdown",
   "id": "22a9b330",
   "metadata": {},
   "source": [
    "# 5. How do you write a string of newlines if you don&#39;t want to use the n character?"
   ]
  },
  {
   "cell_type": "markdown",
   "id": "561e9ea1",
   "metadata": {},
   "source": [
    "print(\"This is a line.\\nThis is another line.\\nThis is a third line.\")"
   ]
  },
  {
   "cell_type": "markdown",
   "id": "ff6b9848",
   "metadata": {},
   "source": [
    "# 6. What are the values of the given expressions?\n",
    "&#39;Hello, world!&#39;[1]\n",
    "&#39;Hello, world!&#39;[0:5]\n",
    "&#39;Hello, world!&#39;[:5]\n",
    "&#39;Hello, world!&#39;[3:]"
   ]
  },
  {
   "cell_type": "markdown",
   "id": "a0d56cb2",
   "metadata": {},
   "source": [
    "'Hello, world!'[1] = 'e'\n",
    "\n",
    "'Hello, world!'[0:5] = 'Hello'\n",
    "\n",
    "'Hello, world!'[:5] = 'Hello'\n",
    "\n",
    "'Hello, world!'[3:] = 'lo, world!'"
   ]
  },
  {
   "cell_type": "markdown",
   "id": "ac46a4ee",
   "metadata": {},
   "source": [
    "# 7. What are the values of the following expressions?\n",
    "&#39;Hello&#39;.upper()\n",
    "&#39;Hello&#39;.upper().isupper()\n",
    "&#39;Hello&#39;.upper().lower()"
   ]
  },
  {
   "cell_type": "markdown",
   "id": "12993986",
   "metadata": {},
   "source": [
    "'Hello'.upper() = 'HELLO'\n",
    "\n",
    "'Hello'.upper().isupper() = True\n",
    "\n",
    "'Hello'.upper().lower() = 'hello'"
   ]
  },
  {
   "cell_type": "markdown",
   "id": "296a2259",
   "metadata": {},
   "source": [
    "# 8. What are the values of the following expressions?\n",
    "&#39;Remember, remember, the fifth of July.&#39;.split()\n",
    "&#39;-&#39;.join(&#39;There can only one.&#39;.split())"
   ]
  },
  {
   "cell_type": "markdown",
   "id": "9f0640f9",
   "metadata": {},
   "source": [
    "The first expression, 'Remember, remember, the fifth of July.'.split(), returns a list of words in the string, separated by any whitespace characters. The second expression, '-'.join('There can only one.'.split()), returns a string that is the concatenation of the words in the list, separated by a hyphen character."
   ]
  },
  {
   "cell_type": "markdown",
   "id": "44d092b3",
   "metadata": {},
   "source": [
    "# 9. What are the methods for right-justifying, left-justifying, and centering a string?"
   ]
  },
  {
   "cell_type": "markdown",
   "id": "9a5b0b41",
   "metadata": {},
   "source": [
    "**Right-justifying** a string is done using the rjust() method. This method takes two arguments: the string to be right-justified and the width of the field. The method returns a string that is the original string, right-justified in a field of the specified width. Any characters that are added to the left of the string to fill the field are spaces by default.\n",
    "\n",
    "**Left-justifying** a string is done using the ljust() method. This method takes two arguments: the string to be left-justified and the width of the field. The method returns a string that is the original string, left-justified in a field of the specified width. Any characters that are added to the right of the string to fill the field are spaces by default."
   ]
  },
  {
   "cell_type": "markdown",
   "id": "43db6be4",
   "metadata": {},
   "source": [
    "# 10. What is the best way to remove whitespace characters from the start or end?"
   ]
  },
  {
   "cell_type": "markdown",
   "id": "793f7ee0",
   "metadata": {},
   "source": [
    "Using the **strip()** method. The strip() method takes an optional argument, which is a string of characters to be removed. If no argument is specified, all whitespace characters are removed. For example, the following code removes all whitespace characters from the start and end of the string \" Hello, world! \":"
   ]
  }
 ],
 "metadata": {
  "kernelspec": {
   "display_name": "Python 3 (ipykernel)",
   "language": "python",
   "name": "python3"
  },
  "language_info": {
   "codemirror_mode": {
    "name": "ipython",
    "version": 3
   },
   "file_extension": ".py",
   "mimetype": "text/x-python",
   "name": "python",
   "nbconvert_exporter": "python",
   "pygments_lexer": "ipython3",
   "version": "3.10.11"
  }
 },
 "nbformat": 4,
 "nbformat_minor": 5
}
