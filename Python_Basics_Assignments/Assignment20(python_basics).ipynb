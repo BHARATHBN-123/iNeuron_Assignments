{
 "cells": [
  {
   "cell_type": "markdown",
   "id": "81dc7af5",
   "metadata": {},
   "source": [
    "# 1. Set the variable test1 to the string &#39;This is a test of the emergency text system,&#39; and save test1 to a\n",
    "file named test.txt."
   ]
  },
  {
   "cell_type": "code",
   "execution_count": null,
   "id": "3a329d96",
   "metadata": {},
   "outputs": [],
   "source": [
    "test1 = \"This is a test of the emergency text system,\"\n",
    "with open(\"test.txt\", \"w\") as f:\n",
    "    f.write(test1)"
   ]
  },
  {
   "cell_type": "markdown",
   "id": "d5fdce72",
   "metadata": {},
   "source": [
    "# 2. Read the contents of the file test.txt into the variable test2. Is there a difference between test 1\n",
    "and test 2?"
   ]
  },
  {
   "cell_type": "code",
   "execution_count": null,
   "id": "a8abee0e",
   "metadata": {},
   "outputs": [],
   "source": [
    "with open(\"test.txt\", \"r\") as f:\n",
    "    test2 = f.read()\n",
    "print(test1 == test2)"
   ]
  },
  {
   "cell_type": "markdown",
   "id": "c2d14f11",
   "metadata": {},
   "source": [
    "# 3. Create a CSV file called books.csv by using these lines:\n",
    "title,author,year\n",
    "The Weirdstone of Brisingamen,Alan Garner,1960\n",
    "Perdido Street Station,China Miéville,2000\n",
    "Thud!,Terry Pratchett,2005\n",
    "The Spellman Files,Lisa Lutz,2007\n",
    "Small Gods,Terry Pratchett,1992"
   ]
  },
  {
   "cell_type": "code",
   "execution_count": null,
   "id": "a4e6e7b5",
   "metadata": {},
   "outputs": [],
   "source": [
    "with open(\"books.csv\", \"w\") as f:\n",
    "    f.write(\"title,author,year\\n\")\n",
    "    f.write(\"The Weirdstone of Brisingamen,Alan Garner,1960\\n\")\n",
    "    f.write(\"Perdido Street Station,China Miéville,2000\\n\")\n",
    "    f.write(\"Thud!,Terry Pratchett,2005\\n\")\n",
    "    f.write(\"The Spellman Files,Lisa Lutz,2007\\n\")\n",
    "    f.write(\"Small Gods,Terry Pratchett,1992\\n\")"
   ]
  },
  {
   "cell_type": "markdown",
   "id": "18eae49f",
   "metadata": {},
   "source": [
    "# 4. Use the sqlite3 module to create a SQLite database called books.db, and a table called books with\n",
    "these fields: title (text), author (text), and year (integer)."
   ]
  },
  {
   "cell_type": "code",
   "execution_count": null,
   "id": "6ebd0200",
   "metadata": {},
   "outputs": [],
   "source": [
    "import sqlite3\n",
    "\n",
    "connection = sqlite3.connect(\"books.db\")\n",
    "cursor = connection.cursor()\n",
    "cursor.execute(\"CREATE TABLE books (title TEXT, author TEXT, year INTEGER)\")\n",
    "connection.commit()"
   ]
  },
  {
   "cell_type": "markdown",
   "id": "abe686a4",
   "metadata": {},
   "source": [
    "# 5. Read books.csv and insert its data into the book table."
   ]
  },
  {
   "cell_type": "code",
   "execution_count": null,
   "id": "ed992e0c",
   "metadata": {},
   "outputs": [],
   "source": [
    "with open(\"books.csv\", \"r\") as f:\n",
    "    reader = csv.reader(f)\n",
    "    for row in reader:\n",
    "        cursor.execute(\"INSERT INTO books (title, author, year) VALUES (?, ?, ?)\", row)\n",
    "connection.commit()"
   ]
  },
  {
   "cell_type": "markdown",
   "id": "da661a3d",
   "metadata": {},
   "source": [
    "# 6. Select and print the title column from the book table in alphabetical order."
   ]
  },
  {
   "cell_type": "code",
   "execution_count": null,
   "id": "ca6a80ca",
   "metadata": {},
   "outputs": [],
   "source": [
    "cursor.execute(\"SELECT title FROM books ORDER BY title\")\n",
    "for row in cursor.fetchall():\n",
    "    print(row[0])"
   ]
  },
  {
   "cell_type": "markdown",
   "id": "1d5f1e22",
   "metadata": {},
   "source": [
    "# 7. From the book table, select and print all columns in the order of publication."
   ]
  },
  {
   "cell_type": "code",
   "execution_count": null,
   "id": "5ffc0d12",
   "metadata": {},
   "outputs": [],
   "source": [
    "cursor.execute(\"SELECT * FROM books ORDER BY year\")\n",
    "for row in cursor.fetchall():\n",
    "    print(row)"
   ]
  },
  {
   "cell_type": "markdown",
   "id": "e21dc773",
   "metadata": {},
   "source": [
    "# 8. Use the sqlalchemy module to connect to the sqlite3 database books.db that you just made in\n",
    "exercise 6."
   ]
  },
  {
   "cell_type": "code",
   "execution_count": null,
   "id": "60532006",
   "metadata": {},
   "outputs": [],
   "source": [
    "from sqlalchemy import create_engine\n",
    "engine = create_engine(\"sqlite:///books.db\")\n",
    "connection = engine.connect()\n"
   ]
  },
  {
   "cell_type": "markdown",
   "id": "ae8c432b",
   "metadata": {},
   "source": [
    "# 9. Install the Redis server and the Python redis library (pip install redis) on your computer. Create a\n",
    "Redis hash called test with the fields count (1) and name (&#39;Fester Bestertester&#39;). Print all the fields for\n",
    "test."
   ]
  },
  {
   "cell_type": "code",
   "execution_count": null,
   "id": "f8044b5e",
   "metadata": {},
   "outputs": [],
   "source": [
    "import redis\n",
    "\n",
    "redis_client = redis.Redis()\n",
    "redis_client.hmset(\"test\", {\"count\": 1, \"name\": \"Fester Bestertester\"})\n",
    "for field in redis_client.hkeys(\"test\"):\n",
    "    print(field, redis_client.hget(\"test\", field))"
   ]
  },
  {
   "cell_type": "markdown",
   "id": "aaa42fb2",
   "metadata": {},
   "source": [
    "# 10. Increment the count field of test and print it."
   ]
  },
  {
   "cell_type": "code",
   "execution_count": null,
   "id": "c638adf7",
   "metadata": {},
   "outputs": [],
   "source": [
    "# Increment the count field of test and print it.\n",
    "redis_client.hincrby(\"test\", \"count\", 1)\n",
    "print(redis_client.hget(\"test\", \"count\"))"
   ]
  }
 ],
 "metadata": {
  "kernelspec": {
   "display_name": "Python 3 (ipykernel)",
   "language": "python",
   "name": "python3"
  },
  "language_info": {
   "codemirror_mode": {
    "name": "ipython",
    "version": 3
   },
   "file_extension": ".py",
   "mimetype": "text/x-python",
   "name": "python",
   "nbconvert_exporter": "python",
   "pygments_lexer": "ipython3",
   "version": "3.10.11"
  }
 },
 "nbformat": 4,
 "nbformat_minor": 5
}
