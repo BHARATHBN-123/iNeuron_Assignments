{
 "cells": [
  {
   "cell_type": "markdown",
   "id": "9cc54a24",
   "metadata": {},
   "source": [
    "# 1. What exactly is []?"
   ]
  },
  {
   "cell_type": "markdown",
   "id": "35f48dce",
   "metadata": {},
   "source": [
    "\n",
    "In Python, [] is a list literal. It is used to create a list, which is a sequence of values. Lists are mutable, which means that their contents can be changed."
   ]
  },
  {
   "cell_type": "markdown",
   "id": "65cb216d",
   "metadata": {},
   "source": [
    "# 2. In a list of values stored in a variable called spam, how would you assign the value &#39;hello&#39; as the third value? (Assume [2, 4, 6, 8, 10] are in spam.)"
   ]
  },
  {
   "cell_type": "markdown",
   "id": "726018bc",
   "metadata": {},
   "source": [
    "spam[2] = \"hello\""
   ]
  },
  {
   "cell_type": "markdown",
   "id": "1ae4b82b",
   "metadata": {},
   "source": [
    "# 3. What is the value of spam[int(int(&#39;3&#39; * 2) / 11)]?"
   ]
  },
  {
   "cell_type": "markdown",
   "id": "06e2515b",
   "metadata": {},
   "source": [
    "spam[int(int('3' * 2) / 11)] is equivalent to spam[3], which is 'd'"
   ]
  },
  {
   "cell_type": "markdown",
   "id": "b156ac62",
   "metadata": {},
   "source": [
    "# 4. What is the value of spam[-1]?"
   ]
  },
  {
   "cell_type": "markdown",
   "id": "485255c8",
   "metadata": {},
   "source": [
    " value of spam[-1] is 'd'"
   ]
  },
  {
   "cell_type": "markdown",
   "id": "8e8c1a68",
   "metadata": {},
   "source": [
    "# 5. What is the value of spam[:2]?\n",
    "# Let&#39;s pretend bacon has the list [3.14, &#39;cat,&#39; 11, &#39;cat,&#39; True] for the next three questions."
   ]
  },
  {
   "cell_type": "markdown",
   "id": "4e51d189",
   "metadata": {},
   "source": [
    "The value of bacon[::-1] is [True, 'cat', 11, 'cat', 3.14]."
   ]
  },
  {
   "cell_type": "markdown",
   "id": "dc8a5409",
   "metadata": {},
   "source": [
    "6. What is the value of bacon.index(&#39;cat&#39;)?"
   ]
  },
  {
   "cell_type": "markdown",
   "id": "f6afdc68",
   "metadata": {},
   "source": [
    "bacon = [3.14, 'cat', 11, 'cat', True]\n",
    "\n",
    "index = bacon.index('cat')\n",
    "\n",
    "print(index)bacon = [3.14, 'cat', 11, 'cat', True]\n",
    "\n",
    "index = bacon.index('cat')\n",
    "\n",
    "print(index)\n",
    "\n",
    "op:1"
   ]
  },
  {
   "cell_type": "markdown",
   "id": "62fb48df",
   "metadata": {},
   "source": [
    "# 7. How does bacon.append(99) change the look of the list value in bacon?"
   ]
  },
  {
   "cell_type": "markdown",
   "id": "f40f6642",
   "metadata": {},
   "source": [
    "[3.14, 'cat', 11, 'cat', True, 99]"
   ]
  },
  {
   "cell_type": "markdown",
   "id": "e926ceb9",
   "metadata": {},
   "source": [
    "# 8. How does bacon.remove(&#39;cat&#39;) change the look of the list in bacon?"
   ]
  },
  {
   "cell_type": "markdown",
   "id": "34ab1252",
   "metadata": {},
   "source": [
    "The remove() method in Python removes the first occurrence of the specified object from the list. In the code you provided, bacon.remove(\"cat\") will remove the string \"cat\" from the list bacon\n",
    "\n",
    "['dog', 'ham', 'spam']"
   ]
  },
  {
   "cell_type": "markdown",
   "id": "28807c28",
   "metadata": {},
   "source": [
    "# 9. What are the list concatenation and list replication operators?"
   ]
  },
  {
   "cell_type": "markdown",
   "id": "a4fc6630",
   "metadata": {},
   "source": [
    "The + operator concatenates two lists together, creating a new list that contains the elements of both lists.\n",
    "\n",
    "\n",
    "The * operator replicates a list a specified number of times, creating a new list that contains the same elements repeated the specified number of times."
   ]
  },
  {
   "cell_type": "markdown",
   "id": "4eeffd85",
   "metadata": {},
   "source": [
    "# 10. What is difference between the list methods append() and insert()?"
   ]
  },
  {
   "cell_type": "markdown",
   "id": "e5387d2b",
   "metadata": {},
   "source": [
    "The append() and insert() methods are both used to add elements to a list in Python. However, they do so in different ways.\n",
    "\n",
    "The append() method adds an element to the end of the list.\n",
    "\n",
    "The insert() method inserts an element into the list at a specified index."
   ]
  },
  {
   "cell_type": "markdown",
   "id": "c180e7d4",
   "metadata": {},
   "source": [
    "# 11. What are the two methods for removing items from a list?"
   ]
  },
  {
   "cell_type": "markdown",
   "id": "f325746b",
   "metadata": {},
   "source": [
    "The remove() method: The remove() method removes the first occurrence of the specified object from the list.\n",
    "\n",
    "The del statement: The del statement removes the object at the specified index from the list."
   ]
  },
  {
   "cell_type": "markdown",
   "id": "e39fbcda",
   "metadata": {},
   "source": [
    "# 12. Describe how list values and string values are identical."
   ]
  },
  {
   "cell_type": "markdown",
   "id": "907af26e",
   "metadata": {},
   "source": [
    "**List values are mutable:** This means that the elements of a list can be changed after the list is created.\n",
    "**String values are immutable:** This means that the characters in a string cannot be changed after the string is created."
   ]
  },
  {
   "cell_type": "markdown",
   "id": "d60a29b5",
   "metadata": {},
   "source": [
    "# 13. What&#39;s the difference between tuples and lists?"
   ]
  },
  {
   "cell_type": "markdown",
   "id": "0f3fbaa2",
   "metadata": {},
   "source": [
    "Tuples are immutable: This means that once a tuple is created, its elements cannot be changed. Lists, on the other hand, are mutable, which means that their elements can be changed after they are created.\n",
    "\n",
    "Tuples are more efficient than lists: This is because tuples do not need to track the size of their elements, while lists do. This makes tuples faster for some operations, such as slicing and indexing.\n",
    "\n",
    "Tuples are often used to represent immutable data, such as dates and times: This is because tuples cannot be changed, which ensures that the data they represent cannot be changed either. Lists, on the other hand, are often used to represent mutable data, such as a list of names."
   ]
  },
  {
   "cell_type": "markdown",
   "id": "066dd143",
   "metadata": {},
   "source": [
    "# 14. How do you type a tuple value that only contains the integer 42?"
   ]
  },
  {
   "cell_type": "markdown",
   "id": "ac55fb50",
   "metadata": {},
   "source": [
    "tuple_value = (42,)"
   ]
  },
  {
   "cell_type": "markdown",
   "id": "8ba3fd87",
   "metadata": {},
   "source": [
    "# 15. How do you get a list value&#39;s tuple form? How do you get a tuple value&#39;s list form?"
   ]
  },
  {
   "cell_type": "markdown",
   "id": "6de56d52",
   "metadata": {},
   "source": [
    "list1 = [\"dog\", \"cat\", \"ham\", \"spam\"]\n",
    "\n",
    "tuple1 = tuple(list1)"
   ]
  },
  {
   "cell_type": "markdown",
   "id": "aedebd33",
   "metadata": {},
   "source": [
    "# 16. Variables that &quot;contain&quot; list values are not necessarily lists themselves. Instead, what do they contain?"
   ]
  },
  {
   "cell_type": "markdown",
   "id": "908a9df6",
   "metadata": {},
   "source": [
    "Variables that \"contain\" list values do not actually contain lists directly. What they contain instead is a reference to the list value. This is because lists are mutable objects, and Python needs a way to track changes to the list."
   ]
  },
  {
   "cell_type": "markdown",
   "id": "d1632842",
   "metadata": {},
   "source": [
    "# 17. How do you distinguish between copy.copy() and copy.deepcopy()?"
   ]
  },
  {
   "cell_type": "markdown",
   "id": "4803f6c6",
   "metadata": {},
   "source": [
    "A **shallow copy** creates a new object that has the same value as the original object. However, the new object does not have its own independent identity. Any changes made to the new object will also be reflected in the original object.\n",
    "\n",
    "A **deep copy** creates a new object that has the same value as the original object, and any nested objects within the original object are also copied. This means that changes made to the new object will not be reflected in the original object."
   ]
  }
 ],
 "metadata": {
  "kernelspec": {
   "display_name": "Python 3 (ipykernel)",
   "language": "python",
   "name": "python3"
  },
  "language_info": {
   "codemirror_mode": {
    "name": "ipython",
    "version": 3
   },
   "file_extension": ".py",
   "mimetype": "text/x-python",
   "name": "python",
   "nbconvert_exporter": "python",
   "pygments_lexer": "ipython3",
   "version": "3.10.11"
  }
 },
 "nbformat": 4,
 "nbformat_minor": 5
}
