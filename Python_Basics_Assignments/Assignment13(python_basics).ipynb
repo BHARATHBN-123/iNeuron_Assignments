{
 "cells": [
  {
   "cell_type": "markdown",
   "id": "455dcedb",
   "metadata": {},
   "source": [
    "# 1. What advantages do Excel spreadsheets have over CSV spreadsheets?"
   ]
  },
  {
   "cell_type": "markdown",
   "id": "7ba4cf3c",
   "metadata": {},
   "source": [
    "Excel spreadsheets have several advantages over CSV spreadsheets, including:\n",
    "\n",
    "More features: Excel spreadsheets offer a wider range of features than CSV spreadsheets, such as formulas, charts, and pivot tables.\n",
    "\n",
    "Better collaboration: Excel spreadsheets can be shared and collaborated on more easily than CSV spreadsheets.\n",
    "More flexibility: Excel spreadsheets are more flexible than CSV spreadsheets, as they can be used for a wider range of tasks."
   ]
  },
  {
   "cell_type": "markdown",
   "id": "63143dc8",
   "metadata": {},
   "source": [
    "# 2.What do you pass to csv.reader() and csv.writer() to create reader and writer objects?"
   ]
  },
  {
   "cell_type": "markdown",
   "id": "a7bccda9",
   "metadata": {},
   "source": [
    "To create a reader object, you pass a file object to the csv.reader() function. The file object can be opened in any mode, but it is usually opened in read mode. To create a writer object, you pass a file object and a delimiter to the csv.writer() function. The file object can be opened in any mode, but it is usually opened in write mode. The delimiter is the character that separates the cells in a row."
   ]
  },
  {
   "cell_type": "markdown",
   "id": "ae165743",
   "metadata": {},
   "source": [
    "# 3. What modes do File objects for reader and writer objects need to be opened in?"
   ]
  },
  {
   "cell_type": "markdown",
   "id": "36e5576d",
   "metadata": {},
   "source": [
    "File objects for reader and writer objects need to be opened in read mode or write mode."
   ]
  },
  {
   "cell_type": "markdown",
   "id": "c8e8fb8b",
   "metadata": {},
   "source": [
    "# 4. What method takes a list argument and writes it to a CSV file?"
   ]
  },
  {
   "cell_type": "markdown",
   "id": "7d08ddae",
   "metadata": {},
   "source": [
    "The csv.writer() object has a writerow() method that takes a list of values as its argument. The writerow() method writes the list of values to the CSV file, separated by the delimiter."
   ]
  },
  {
   "cell_type": "markdown",
   "id": "e4182e50",
   "metadata": {},
   "source": [
    "# 5. What do the keyword arguments delimiter and line terminator do?"
   ]
  },
  {
   "cell_type": "markdown",
   "id": "d967e1d7",
   "metadata": {},
   "source": [
    "The keyword arguments delimiter and lineterminator control the format of the CSV file. The delimiter argument specifies the character that separates the cells in a row. The lineterminator argument specifies the character that separates the rows in the CSV file."
   ]
  },
  {
   "cell_type": "markdown",
   "id": "a72107cd",
   "metadata": {},
   "source": [
    "# 6. What function takes a string of JSON data and returns a Python data structure?"
   ]
  },
  {
   "cell_type": "markdown",
   "id": "7c8f7c6f",
   "metadata": {},
   "source": [
    "The json.loads() function takes a string of JSON data and returns a Python data structure."
   ]
  },
  {
   "cell_type": "markdown",
   "id": "e3163379",
   "metadata": {},
   "source": [
    "# 7. What function takes a Python data structure and returns a string of JSON data?"
   ]
  },
  {
   "cell_type": "markdown",
   "id": "eb202bfe",
   "metadata": {},
   "source": [
    "import csv\n",
    "\n",
    "data = [('Name', 'Age'), ('John Doe', 30), ('Jane Doe', 25)]\n",
    "\n",
    "with open('data.csv', 'w') as csvfile:\n",
    "\n",
    "    writer = csv.writer(csvfile, delimiter=',')\n",
    "    \n",
    "    for row in data:\n",
    "    \n",
    "        writer.writerow(row)"
   ]
  },
  {
   "cell_type": "markdown",
   "id": "44c5fce6",
   "metadata": {},
   "source": []
  }
 ],
 "metadata": {
  "kernelspec": {
   "display_name": "Python 3 (ipykernel)",
   "language": "python",
   "name": "python3"
  },
  "language_info": {
   "codemirror_mode": {
    "name": "ipython",
    "version": 3
   },
   "file_extension": ".py",
   "mimetype": "text/x-python",
   "name": "python",
   "nbconvert_exporter": "python",
   "pygments_lexer": "ipython3",
   "version": "3.10.11"
  }
 },
 "nbformat": 4,
 "nbformat_minor": 5
}
