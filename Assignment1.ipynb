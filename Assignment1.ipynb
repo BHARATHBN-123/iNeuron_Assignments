{
 "cells": [
  {
   "cell_type": "markdown",
   "metadata": {},
   "source": [
    "1 ) 1. In the below elements which of them are values or an expression? eg:- values can be\n",
    "integer or string and expressions will be mathematical operators.\n",
    "\n",
    "*\n",
    "'hello'\n",
    "-87.8\n",
    "-\n",
    "/\n",
    "+\n",
    "6\n"
   ]
  },
  {
   "cell_type": "markdown",
   "metadata": {},
   "source": [
    "**ANSWER**\n",
    "\n",
    "Values are :\n",
    "\n",
    "    1) 'hello'\n",
    "\n",
    "    2) -87.8\n",
    "\n",
    "    3) 6\n",
    "\n",
    "Operators are :\n",
    "\n",
    "    1) *\n",
    "\n",
    "    2) -\n",
    "\n",
    "    3) /\n",
    "    \n",
    "    4) +\n",
    "\n"
   ]
  },
  {
   "cell_type": "markdown",
   "metadata": {},
   "source": [
    "2. What is the difference between string and variable?"
   ]
  },
  {
   "cell_type": "markdown",
   "metadata": {},
   "source": [
    "**ANSWER**\n",
    "\n",
    "Variable : A Variable is a store of information.\n",
    "\n",
    "String : String is a type of information you would store in a Variable."
   ]
  },
  {
   "cell_type": "markdown",
   "metadata": {},
   "source": [
    "3. Describe three different data types."
   ]
  },
  {
   "cell_type": "markdown",
   "metadata": {},
   "source": [
    "**ANSWER**\n",
    "\n",
    "1 . **Integer (int)** : Integer data type stores Integer type numeric values without fractional components .\n",
    "\n",
    "2 . **FLOAT (float)** : It stores decimal neumaric values.\n",
    "\n",
    "3 . **String (str)** : It is used to store a single letter, digit, punctuation mark, symbol, or blank space. It is represented by enclosing characters in double inverted comma (\"string\") or single inverted comma('string') in python.\n",
    "\n",
    "4.**boolean** . It stores true or false type of values."
   ]
  },
  {
   "cell_type": "markdown",
   "metadata": {},
   "source": [
    "4. What is an expression made up of? What do all expressions do?"
   ]
  },
  {
   "cell_type": "markdown",
   "metadata": {},
   "source": []
  }
 ],
 "metadata": {
  "language_info": {
   "name": "python"
  },
  "orig_nbformat": 4
 },
 "nbformat": 4,
 "nbformat_minor": 2
}
