{
 "cells": [
  {
   "cell_type": "markdown",
   "id": "5131b6c0",
   "metadata": {},
   "source": [
    "**1. Write a Python Program to Find LCM?**"
   ]
  },
  {
   "cell_type": "code",
   "execution_count": 2,
   "id": "9625f852",
   "metadata": {},
   "outputs": [
    {
     "name": "stdout",
     "output_type": "stream",
     "text": [
      "Enter the value of a: 3\n",
      "Enter the value of b: 5\n",
      "The Lcm of 3 and 5 is  15\n"
     ]
    }
   ],
   "source": [
    "def LCM(a,b):\n",
    "    if a>b:\n",
    "        greater = a\n",
    "    else :\n",
    "        greater = b\n",
    "    while(True):\n",
    "        if greater%a==0 and greater%b==0:\n",
    "            lcm = greater\n",
    "            break\n",
    "        else:\n",
    "            greater+=1\n",
    "    return lcm\n",
    "a = int(input(\"Enter the value of a: \"))\n",
    "b = int(input(\"Enter the value of b: \"))\n",
    "print(f\"The Lcm of {a} and {b} is \",LCM(a,b))"
   ]
  },
  {
   "cell_type": "markdown",
   "id": "a78e5716",
   "metadata": {},
   "source": [
    "**2. Write a Python Program to Find HCF?**"
   ]
  },
  {
   "cell_type": "code",
   "execution_count": 4,
   "id": "fbabc9da",
   "metadata": {},
   "outputs": [
    {
     "name": "stdout",
     "output_type": "stream",
     "text": [
      "Enter the value of x: 10000000\n",
      "Enter the value of y: 2000000\n",
      "The Lcm of 10000000 and 2000000 is  10000000\n"
     ]
    }
   ],
   "source": [
    "def calculate_hcf(x, y):  \n",
    "    if x > y:  \n",
    "        smaller = y  \n",
    "    else:  \n",
    "        smaller = x  \n",
    "    for i in range(1,smaller + 1):  \n",
    "        if((x % i == 0) and (y % i == 0)):  \n",
    "            hcf = i  \n",
    "    return hcf  \n",
    "x = int(input(\"Enter the value of x: \"))\n",
    "y = int(input(\"Enter the value of y: \"))\n",
    "print(f\"The Lcm of {x} and {y} is \",LCM(x,y))"
   ]
  },
  {
   "cell_type": "code",
   "execution_count": null,
   "id": "5b626120",
   "metadata": {},
   "outputs": [],
   "source": []
  }
 ],
 "metadata": {
  "kernelspec": {
   "display_name": "Python 3 (ipykernel)",
   "language": "python",
   "name": "python3"
  },
  "language_info": {
   "codemirror_mode": {
    "name": "ipython",
    "version": 3
   },
   "file_extension": ".py",
   "mimetype": "text/x-python",
   "name": "python",
   "nbconvert_exporter": "python",
   "pygments_lexer": "ipython3",
   "version": "3.9.13"
  }
 },
 "nbformat": 4,
 "nbformat_minor": 5
}
