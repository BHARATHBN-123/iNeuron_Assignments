{
 "cells": [
  {
   "cell_type": "markdown",
   "id": "5131b6c0",
   "metadata": {},
   "source": [
    "**1. Write a Python Program to Find LCM?**"
   ]
  },
  {
   "cell_type": "code",
   "execution_count": 2,
   "id": "9625f852",
   "metadata": {},
   "outputs": [
    {
     "name": "stdout",
     "output_type": "stream",
     "text": [
      "Enter the value of a: 3\n",
      "Enter the value of b: 5\n",
      "The Lcm of 3 and 5 is  15\n"
     ]
    }
   ],
   "source": [
    "def LCM(a,b):\n",
    "    if a>b:\n",
    "        greater = a\n",
    "    else :\n",
    "        greater = b\n",
    "    while(True):\n",
    "        if greater%a==0 and greater%b==0:\n",
    "            lcm = greater\n",
    "            break\n",
    "        else:\n",
    "            greater+=1\n",
    "    return lcm\n",
    "a = int(input(\"Enter the value of a: \"))\n",
    "b = int(input(\"Enter the value of b: \"))\n",
    "print(f\"The Lcm of {a} and {b} is \",LCM(a,b))"
   ]
  },
  {
   "cell_type": "markdown",
   "id": "ecddbcc1",
   "metadata": {},
   "source": [
    "**2. Write a Python Program to Find HCF?**"
   ]
  },
  {
   "cell_type": "code",
   "execution_count": 4,
   "id": "4cda629d",
   "metadata": {},
   "outputs": [
    {
     "name": "stdout",
     "output_type": "stream",
     "text": [
      "Enter the value of x: 10000000\n",
      "Enter the value of y: 2000000\n",
      "The Lcm of 10000000 and 2000000 is  10000000\n"
     ]
    }
   ],
   "source": [
    "def calculate_hcf(x, y):  \n",
    "    if x > y:  \n",
    "        smaller = y  \n",
    "    else:  \n",
    "        smaller = x  \n",
    "    for i in range(1,smaller + 1):  \n",
    "        if((x % i == 0) and (y % i == 0)):  \n",
    "            hcf = i  \n",
    "    return hcf  \n",
    "x = int(input(\"Enter the value of x: \"))\n",
    "y = int(input(\"Enter the value of y: \"))\n",
    "print(f\"The Lcm of {x} and {y} is \",LCM(x,y))"
   ]
  },
  {
   "cell_type": "markdown",
   "id": "fe309eb7",
   "metadata": {},
   "source": [
    "**3. Write a Python Program to Convert Decimal to Binary, Octal and Hexadecimal?**"
   ]
  },
  {
   "cell_type": "code",
   "execution_count": 54,
   "id": "5bd57b63",
   "metadata": {},
   "outputs": [
    {
     "name": "stdout",
     "output_type": "stream",
     "text": [
      "Enter the deimal number :  34\n",
      "100010 is The Binary Value of 34 decimal number \n"
     ]
    }
   ],
   "source": [
    "#decimal to binary\n",
    "def DEC_to_BIN(num):\n",
    "    if num > 1:\n",
    "        DEC_to_BIN(num // 2)\n",
    "    print (num % 2,end= '')\n",
    "dec = int(input(\"Enter the deimal number :  \"))\n",
    "DEC_to_BIN(dec)\n",
    "print(f\" is The Binary Value of {dec} decimal number \")\n"
   ]
  },
  {
   "cell_type": "code",
   "execution_count": 119,
   "id": "c8fbcf62",
   "metadata": {},
   "outputs": [
    {
     "name": "stdout",
     "output_type": "stream",
     "text": [
      "enter the decimal value: 33\n",
      "\n",
      "41 is the octal value of 33\n"
     ]
    }
   ],
   "source": [
    "#Decimal to octal\n",
    "def DecimalToOctal(n):\n",
    "    octal = []\n",
    "    i = 0\n",
    "    while (n != 0):\n",
    "        octal.append(n % 8) \n",
    "        n = n // 8\n",
    "        i += 1\n",
    "    return(\"\".join(str(i) for i in octal[::-1]))\n",
    "n = int(input(\"enter the decimal value: \"))\n",
    "print()\n",
    "DecimalToOctal(n)\n",
    "print(f\"{str(DecimalToOctal(n))} is the octal value of {n}\")\n"
   ]
  },
  {
   "cell_type": "code",
   "execution_count": 125,
   "id": "779e92bb",
   "metadata": {},
   "outputs": [
    {
     "name": "stdout",
     "output_type": "stream",
     "text": [
      "Enter the decimal number540\n",
      "The Hexadecimal number of 540 is 0x21c\n"
     ]
    }
   ],
   "source": [
    "#Decimal to Hexadecimal\n",
    "n = int(input(\"Enter the decimal number\"))\n",
    "print(f\"The Hexadecimal number of {n} is {hex(n)}\")"
   ]
  },
  {
   "cell_type": "markdown",
   "id": "e160fd16",
   "metadata": {},
   "source": [
    "**4. Write a Python Program To Find ASCII value of a character?**"
   ]
  },
  {
   "cell_type": "code",
   "execution_count": 130,
   "id": "2152d620",
   "metadata": {},
   "outputs": [
    {
     "name": "stdout",
     "output_type": "stream",
     "text": [
      "Enter the character:  k\n",
      "ASCII value of k is 107\n"
     ]
    }
   ],
   "source": [
    "string = str(input(\"Enter the character:  \"))\n",
    "print(f\"ASCII value of {string} is {ord(string)}\")"
   ]
  },
  {
   "cell_type": "markdown",
   "id": "07a546cc",
   "metadata": {},
   "source": [
    "**5. Write a Python Program to Make a Simple Calculator with 4 basic mathematical operations?**"
   ]
  },
  {
   "cell_type": "code",
   "execution_count": null,
   "id": "047a402c",
   "metadata": {},
   "outputs": [
    {
     "name": "stdout",
     "output_type": "stream",
     "text": [
      "Please select the operation.\n",
      "a. Add\n",
      "b. Subtract\n",
      "c. Multiply\n",
      "d. Divide\n"
     ]
    }
   ],
   "source": [
    "def add(P, Q):\n",
    "    return P + Q   \n",
    "def subtract(P, Q):     \n",
    "    return P - Q   \n",
    "def multiply(P, Q):   \n",
    "    return P * Q   \n",
    "def divide(P, Q):     \n",
    "    return P / Q      \n",
    "print (\"Please select the operation.\")    \n",
    "print (\"a. Add\")    \n",
    "print (\"b. Subtract\")    \n",
    "print (\"c. Multiply\")    \n",
    "print (\"d. Divide\")    \n",
    "    \n",
    "choice = input(\"Please enter choice (a/ b/ c/ d): \")    \n",
    "    \n",
    "num_1 = int (input (\"Please enter the first number: \"))    \n",
    "num_2 = int (input (\"Please enter the second number: \"))    \n",
    "    \n",
    "if choice == 'a': \n",
    "    print (num_1, \" + \", num_2, \" = \", add(num_1, num_2))    \n",
    "    \n",
    "elif choice == 'b':    \n",
    "    print (num_1, \" - \", num_2, \" = \", subtract(num_1, num_2))    \n",
    "    \n",
    "elif choice == 'c':    \n",
    "    print (num1, \" * \", num2, \" = \", multiply(num1, num2))    \n",
    "elif choice == 'd':    \n",
    "    print (num_1, \" / \", num_2, \" = \", divide(num_1, num_2))    \n",
    "else:    \n",
    "    print (\"This is an invalid input\")    "
   ]
  },
  {
   "cell_type": "code",
   "execution_count": null,
   "id": "6243a9c4",
   "metadata": {},
   "outputs": [],
   "source": []
  },
  {
   "cell_type": "code",
   "execution_count": null,
   "id": "3c701f80",
   "metadata": {},
   "outputs": [],
   "source": []
  }
 ],
 "metadata": {
  "kernelspec": {
   "display_name": "Python 3 (ipykernel)",
   "language": "python",
   "name": "python3"
  },
  "language_info": {
   "codemirror_mode": {
    "name": "ipython",
    "version": 3
   },
   "file_extension": ".py",
   "mimetype": "text/x-python",
   "name": "python",
   "nbconvert_exporter": "python",
   "pygments_lexer": "ipython3",
   "version": "3.9.13"
  }
 },
 "nbformat": 4,
 "nbformat_minor": 5
}
