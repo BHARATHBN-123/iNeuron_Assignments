{
 "cells": [
  {
   "cell_type": "markdown",
   "id": "c7695fb7",
   "metadata": {},
   "source": [
    "**1. Write a Python program to convert kilometers to miles?**"
   ]
  },
  {
   "cell_type": "code",
   "execution_count": null,
   "id": "01ad5437",
   "metadata": {},
   "outputs": [],
   "source": [
    "def km_to_miles(km):\n",
    "    "
   ]
  }
 ],
 "metadata": {
  "kernelspec": {
   "display_name": "Python 3 (ipykernel)",
   "language": "python",
   "name": "python3"
  },
  "language_info": {
   "codemirror_mode": {
    "name": "ipython",
    "version": 3
   },
   "file_extension": ".py",
   "mimetype": "text/x-python",
   "name": "python",
   "nbconvert_exporter": "python",
   "pygments_lexer": "ipython3",
   "version": "3.9.13"
  }
 },
 "nbformat": 4,
 "nbformat_minor": 5
}
