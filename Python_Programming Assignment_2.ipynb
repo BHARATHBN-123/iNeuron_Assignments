{
 "cells": [
  {
   "cell_type": "markdown",
   "id": "54fa3d4b",
   "metadata": {},
   "source": [
    "**1. Write a Python program to convert kilometers to miles?**"
   ]
  },
  {
   "cell_type": "code",
   "execution_count": 4,
   "id": "b4f2c659",
   "metadata": {},
   "outputs": [
    {
     "name": "stdout",
     "output_type": "stream",
     "text": [
      "1 kilometers = 0.621371 miles\n"
     ]
    }
   ],
   "source": [
    "def km_to_miles(km):\n",
    "    return (f\"{km} kilometers = {(km*0.621371)} miles\")\n",
    "\n",
    "print(km_to_miles(1))\n",
    "    "
   ]
  },
  {
   "cell_type": "markdown",
   "id": "9b7a4de0",
   "metadata": {},
   "source": [
    "**2. Write a Python program to convert Celsius to Fahrenheit?**"
   ]
  },
  {
   "cell_type": "code",
   "execution_count": 8,
   "id": "e07c4d98",
   "metadata": {},
   "outputs": [
    {
     "name": "stdout",
     "output_type": "stream",
     "text": [
      "1 Celsius = 33.8 Fahrenheit\n"
     ]
    }
   ],
   "source": [
    "#(1°C × 9/5) + 32\n",
    "def Celsius_to_Fahrenheit(C):\n",
    "    return (f\"{C} Celsius = {(C*(9/5)+32)} Fahrenheit\")\n",
    "\n",
    "print(Celsius_to_Fahrenheit(1))"
   ]
  },
  {
   "cell_type": "markdown",
   "id": "3afb0339",
   "metadata": {},
   "source": [
    "**3. Write a Python program to display calendar?**"
   ]
  },
  {
   "cell_type": "code",
   "execution_count": 12,
   "id": "64ff1653",
   "metadata": {},
   "outputs": [
    {
     "name": "stdout",
     "output_type": "stream",
     "text": [
      "enter year: 1998\n",
      "Enter month: 04\n",
      "\n",
      "     April 1998\n",
      "Mo Tu We Th Fr Sa Su\n",
      "       1  2  3  4  5\n",
      " 6  7  8  9 10 11 12\n",
      "13 14 15 16 17 18 19\n",
      "20 21 22 23 24 25 26\n",
      "27 28 29 30\n",
      "\n"
     ]
    }
   ],
   "source": [
    "import calendar\n",
    "\n",
    "year = int(input(\"enter year: \"))\n",
    "month = int(input(\"Enter month: \"))\n",
    "print()\n",
    "print(calendar.month(year,month))"
   ]
  },
  {
   "cell_type": "markdown",
   "id": "2c0b065f",
   "metadata": {},
   "source": [
    "**4. Write a Python program to solve quadratic equation?**"
   ]
  },
  {
   "cell_type": "code",
   "execution_count": 24,
   "id": "fb76c73f",
   "metadata": {},
   "outputs": [
    {
     "data": {
      "text/plain": [
       "'The solution for quadratic equation 1^2X +5Y+6 = 0 is:  -3.0 ,-2.0 '"
      ]
     },
     "execution_count": 24,
     "metadata": {},
     "output_type": "execute_result"
    }
   ],
   "source": [
    "import math\n",
    "def quadratic_equation(a,b,c):\n",
    "    d = (b**2) - (4*a*c)\n",
    "\n",
    "    # find two solutions\n",
    "    sol1 = (-b-math.sqrt(d))/(2*a)\n",
    "    sol2 = (-b+math.sqrt(d))/(2*a)\n",
    "    return f\"The solution for quadratic equation {a}^2X +{b}Y+{c} = 0 is:  {sol1} ,{sol2} \"\n",
    "quadratic_equation(1,5,6)"
   ]
  },
  {
   "cell_type": "markdown",
   "id": "190b03e2",
   "metadata": {},
   "source": [
    "**5. Write a Python program to swap two variables without temp variable?**"
   ]
  },
  {
   "cell_type": "code",
   "execution_count": null,
   "id": "f5033fe6",
   "metadata": {},
   "outputs": [],
   "source": [
    "x = "
   ]
  }
 ],
 "metadata": {
  "kernelspec": {
   "display_name": "Python 3 (ipykernel)",
   "language": "python",
   "name": "python3"
  },
  "language_info": {
   "codemirror_mode": {
    "name": "ipython",
    "version": 3
   },
   "file_extension": ".py",
   "mimetype": "text/x-python",
   "name": "python",
   "nbconvert_exporter": "python",
   "pygments_lexer": "ipython3",
   "version": "3.9.13"
  }
 },
 "nbformat": 4,
 "nbformat_minor": 5
}
