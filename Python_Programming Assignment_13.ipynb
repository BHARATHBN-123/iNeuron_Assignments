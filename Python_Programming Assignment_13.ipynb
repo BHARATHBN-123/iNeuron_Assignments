{
 "cells": [
  {
   "cell_type": "code",
   "execution_count": 18,
   "id": "4a50f7b3",
   "metadata": {},
   "outputs": [
    {
     "data": {
      "text/plain": [
       "'\\nQuestion 1:\\nWrite a program that calculates and prints the value according to the given formula:\\nQ = Square root of [(2 * C * D)/H]\\nFollowing are the fixed values of C and H:\\nC is 50. H is 30.\\nD is the variable whose values should be input to your program in a comma-separated\\nsequence.\\n'"
      ]
     },
     "execution_count": 18,
     "metadata": {},
     "output_type": "execute_result"
    }
   ],
   "source": [
    "'''\n",
    "Question 1:\n",
    "Write a program that calculates and prints the value according to the given formula:\n",
    "Q = Square root of [(2 * C * D)/H]\n",
    "Following are the fixed values of C and H:\n",
    "C is 50. H is 30.\n",
    "D is the variable whose values should be input to your program in a comma-separated\n",
    "sequence.\n",
    "'''"
   ]
  },
  {
   "cell_type": "code",
   "execution_count": 17,
   "id": "8750f189",
   "metadata": {},
   "outputs": [
    {
     "name": "stdout",
     "output_type": "stream",
     "text": [
      "output is: 18,22,24\n"
     ]
    }
   ],
   "source": [
    "from math import sqrt\n",
    "class Calculate_Q:\n",
    "    def __init__(self , C , H ):\n",
    "        self.C = C\n",
    "        self.H = H\n",
    "    def Q(self , D):\n",
    "        op = []\n",
    "        \n",
    "        for i in D:\n",
    "            a = sqrt((2*self.C*int(i))/self.H)\n",
    "            \n",
    "            op.append(int(a))\n",
    "        return \",\".join(str(x) for x in op) \n",
    "        \n",
    "if __name__ == '__main__':\n",
    "    ob = Calculate_Q(50,30)\n",
    "    D = [100,150,180]\n",
    "    print(f\"output is: {ob.Q(D)}\")\n",
    "        "
   ]
  },
  {
   "cell_type": "code",
   "execution_count": 19,
   "id": "918e30cc",
   "metadata": {},
   "outputs": [
    {
     "data": {
      "text/plain": [
       "'Question 2:\\nWrite a program which takes 2 digits, X,Y as input and generates a 2-dimensional array. The\\nelement value in the i-th row and j-th column of the array should be i*j.\\nNote: i=0,1.., X-1; j=0,1,¡Y-1.'"
      ]
     },
     "execution_count": 19,
     "metadata": {},
     "output_type": "execute_result"
    }
   ],
   "source": [
    "'''Question 2:\n",
    "Write a program which takes 2 digits, X,Y as input and generates a 2-dimensional array. The\n",
    "element value in the i-th row and j-th column of the array should be i*j.\n",
    "Note: i=0,1.., X-1; j=0,1,¡Y-1.'''"
   ]
  },
  {
   "cell_type": "code",
   "execution_count": null,
   "id": "bd1ce477",
   "metadata": {},
   "outputs": [],
   "source": []
  }
 ],
 "metadata": {
  "kernelspec": {
   "display_name": "Python 3 (ipykernel)",
   "language": "python",
   "name": "python3"
  },
  "language_info": {
   "codemirror_mode": {
    "name": "ipython",
    "version": 3
   },
   "file_extension": ".py",
   "mimetype": "text/x-python",
   "name": "python",
   "nbconvert_exporter": "python",
   "pygments_lexer": "ipython3",
   "version": "3.9.13"
  }
 },
 "nbformat": 4,
 "nbformat_minor": 5
}
