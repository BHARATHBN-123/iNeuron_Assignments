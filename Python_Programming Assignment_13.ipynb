{
 "cells": [
  {
   "cell_type": "code",
   "execution_count": 18,
   "id": "4a50f7b3",
   "metadata": {},
   "outputs": [
    {
     "data": {
      "text/plain": [
       "'\\nQuestion 1:\\nWrite a program that calculates and prints the value according to the given formula:\\nQ = Square root of [(2 * C * D)/H]\\nFollowing are the fixed values of C and H:\\nC is 50. H is 30.\\nD is the variable whose values should be input to your program in a comma-separated\\nsequence.\\n'"
      ]
     },
     "execution_count": 18,
     "metadata": {},
     "output_type": "execute_result"
    }
   ],
   "source": [
    "'''\n",
    "Question 1:\n",
    "Write a program that calculates and prints the value according to the given formula:\n",
    "Q = Square root of [(2 * C * D)/H]\n",
    "Following are the fixed values of C and H:\n",
    "C is 50. H is 30.\n",
    "D is the variable whose values should be input to your program in a comma-separated\n",
    "sequence.\n",
    "'''"
   ]
  },
  {
   "cell_type": "code",
   "execution_count": 17,
   "id": "8750f189",
   "metadata": {},
   "outputs": [
    {
     "name": "stdout",
     "output_type": "stream",
     "text": [
      "output is: 18,22,24\n"
     ]
    }
   ],
   "source": [
    "from math import sqrt\n",
    "class Calculate_Q:\n",
    "    def __init__(self , C , H ):\n",
    "        self.C = C\n",
    "        self.H = H\n",
    "    def Q(self , D):\n",
    "        op = []\n",
    "        \n",
    "        for i in D:\n",
    "            a = sqrt((2*self.C*int(i))/self.H)\n",
    "            \n",
    "            op.append(int(a))\n",
    "        return \",\".join(str(x) for x in op) \n",
    "        \n",
    "if __name__ == '__main__':\n",
    "    ob = Calculate_Q(50,30)\n",
    "    D = [100,150,180]\n",
    "    print(f\"output is: {ob.Q(D)}\")\n",
    "        "
   ]
  },
  {
   "cell_type": "code",
   "execution_count": 19,
   "id": "918e30cc",
   "metadata": {},
   "outputs": [
    {
     "data": {
      "text/plain": [
       "'Question 2:\\nWrite a program which takes 2 digits, X,Y as input and generates a 2-dimensional array. The\\nelement value in the i-th row and j-th column of the array should be i*j.\\nNote: i=0,1.., X-1; j=0,1,¡Y-1.'"
      ]
     },
     "execution_count": 19,
     "metadata": {},
     "output_type": "execute_result"
    }
   ],
   "source": [
    "'''Question 2:\n",
    "Write a program which takes 2 digits, X,Y as input and generates a 2-dimensional array. The\n",
    "element value in the i-th row and j-th column of the array should be i*j.\n",
    "Note: i=0,1.., X-1; j=0,1,¡Y-1.'''"
   ]
  },
  {
   "cell_type": "code",
   "execution_count": 11,
   "id": "bd1ce477",
   "metadata": {},
   "outputs": [
    {
     "data": {
      "text/plain": [
       "[[0, 0, 0, 0, 0], [0, 1, 2, 3, 4], [0, 2, 4, 6, 8]]"
      ]
     },
     "execution_count": 11,
     "metadata": {},
     "output_type": "execute_result"
    }
   ],
   "source": [
    "def Array_Creater(X,Y):\n",
    "    final_arr= []\n",
    "    for i in range(X):\n",
    "        temp = []\n",
    "        for j in range(Y):\n",
    "            temp.append(i*j)\n",
    "        final_arr.append(temp)\n",
    "    return final_arr\n",
    "Array_Creater(3,5)\n",
    "            "
   ]
  },
  {
   "cell_type": "code",
   "execution_count": null,
   "id": "999e3edb",
   "metadata": {},
   "outputs": [],
   "source": [
    "'''\n",
    "Question 3:\n",
    "Write a program that accepts a comma separated sequence of words as input and prints the\n",
    "words in a comma-separated sequence after sorting them alphabetically.\n",
    "'''"
   ]
  },
  {
   "cell_type": "code",
   "execution_count": 32,
   "id": "09c1ec7a",
   "metadata": {},
   "outputs": [
    {
     "name": "stdout",
     "output_type": "stream",
     "text": [
      "Enter Comma seperated words: without,hello,bag,world\n",
      "\n",
      "After split and Sort bag,hello,without,world\n"
     ]
    }
   ],
   "source": [
    "S = str(input(\"Enter Comma seperated words: \"))\n",
    "def Sort_Words(S):\n",
    "    S = S.split(\",\")\n",
    "    print()\n",
    "    S.sort(reverse = False)\n",
    "    return \",\".join(s for s in S )\n",
    "print (f\"After split and Sort {Sort_Words(S)}\")"
   ]
  },
  {
   "cell_type": "code",
   "execution_count": 33,
   "id": "3fbfa91d",
   "metadata": {},
   "outputs": [
    {
     "data": {
      "text/plain": [
       "'Question 4:\\nWrite a program that accepts a sequence of whitespace separated words as input and prints\\nthe words after removing all duplicate words and sorting them alphanumerically.'"
      ]
     },
     "execution_count": 33,
     "metadata": {},
     "output_type": "execute_result"
    }
   ],
   "source": [
    "'''Question 4:\n",
    "Write a program that accepts a sequence of C as input and prints\n",
    "the words after removing all duplicate words and sorting them alphanumerically.'''"
   ]
  },
  {
   "cell_type": "code",
   "execution_count": 39,
   "id": "86a81522",
   "metadata": {},
   "outputs": [
    {
     "name": "stdout",
     "output_type": "stream",
     "text": [
      "Enter space seperated words:\n",
      "hello world and practice makes perfect and hello world again\n"
     ]
    },
    {
     "data": {
      "text/plain": [
       "'Final output:   again and hello makes perfect practice world'"
      ]
     },
     "execution_count": 39,
     "metadata": {},
     "output_type": "execute_result"
    }
   ],
   "source": [
    "#hello world and practice makes perfect and hello world again\n",
    "S = str(input(\"Enter space seperated words:\\n\"))\n",
    "\n",
    "def SortWhitespaceSeparatedWords(S):\n",
    "    S = set(S.split(\" \"))\n",
    "    S = list(S)\n",
    "    S.sort(reverse = False)\n",
    "    return \" \".join(s for s in S )\n",
    "\n",
    "(f\"Final output:   {SortWhitespaceSeparatedWords(S)}\")\n",
    "    \n",
    "    "
   ]
  },
  {
   "cell_type": "code",
   "execution_count": 43,
   "id": "45527572",
   "metadata": {},
   "outputs": [
    {
     "data": {
      "text/plain": [
       "'\\nQuestion 5:\\nWrite a program that accepts a sentence and calculate the number of letters and digits.'"
      ]
     },
     "execution_count": 43,
     "metadata": {},
     "output_type": "execute_result"
    }
   ],
   "source": [
    "'''\n",
    "Question 5:\n",
    "Write a program that accepts a sentence and calculate the number of letters and digits.'''"
   ]
  },
  {
   "cell_type": "code",
   "execution_count": 45,
   "id": "ac4a2baa",
   "metadata": {},
   "outputs": [
    {
     "name": "stdout",
     "output_type": "stream",
     "text": [
      "Enter The String: hello world! 123\n",
      "LETTER = 10 \n",
      " DIGIT = 3\n"
     ]
    }
   ],
   "source": [
    "#hello world! 123\n",
    "S = str(input(\"Enter The String: \"))\n",
    "def Letter_Digit_Calculater(S):\n",
    "    Letter  = 0\n",
    "    Digit = 0\n",
    "    for char in S:\n",
    "        if char.isalpha():\n",
    "            Letter +=1\n",
    "        elif char.isnumeric():\n",
    "            Digit +=1\n",
    "        \n",
    "    print(f\"LETTER = {Letter} \\n DIGIT = {Digit}\")\n",
    "Letter_Digit_Calculater(S)\n"
   ]
  }
 ],
 "metadata": {
  "kernelspec": {
   "display_name": "Python 3 (ipykernel)",
   "language": "python",
   "name": "python3"
  },
  "language_info": {
   "codemirror_mode": {
    "name": "ipython",
    "version": 3
   },
   "file_extension": ".py",
   "mimetype": "text/x-python",
   "name": "python",
   "nbconvert_exporter": "python",
   "pygments_lexer": "ipython3",
   "version": "3.9.13"
  }
 },
 "nbformat": 4,
 "nbformat_minor": 5
}
