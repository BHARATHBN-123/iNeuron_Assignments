{
  "nbformat": 4,
  "nbformat_minor": 0,
  "metadata": {
    "colab": {
      "provenance": [],
      "mount_file_id": "1EgEaSd7vipZi7h-OatcQeKnJ23U0WCaw",
      "authorship_tag": "ABX9TyNd3FtICMbA2ju6WUnZMzS2",
      "include_colab_link": true
    },
    "kernelspec": {
      "name": "python3",
      "display_name": "Python 3"
    },
    "language_info": {
      "name": "python"
    }
  },
  "cells": [
    {
      "cell_type": "markdown",
      "metadata": {
        "id": "view-in-github",
        "colab_type": "text"
      },
      "source": [
        "<a href=\"https://colab.research.google.com/github/BHARATHBN-123/iNeuron_Assignments/blob/main/Untitled0.ipynb\" target=\"_parent\"><img src=\"https://colab.research.google.com/assets/colab-badge.svg\" alt=\"Open In Colab\"/></a>"
      ]
    },
    {
      "cell_type": "code",
      "source": [
        "from collections import namedtuple\n",
        "car = namedtuple('ca',['name', 'age', 'DOB'])\n",
        "n = car('bbn',56,20)\n",
        "print(n)"
      ],
      "metadata": {
        "colab": {
          "base_uri": "https://localhost:8080/"
        },
        "id": "a1hag6p6Ch1W",
        "outputId": "49266227-2f40-4e79-ecfe-4ee2d8f9b003"
      },
      "execution_count": null,
      "outputs": [
        {
          "output_type": "stream",
          "name": "stdout",
          "text": [
            "ca(name='bbn', age=56, DOB=20)\n"
          ]
        }
      ]
    },
    {
      "cell_type": "code",
      "source": [
        "bacon = 22\n",
        "\n",
        "print(bacon+1)"
      ],
      "metadata": {
        "colab": {
          "base_uri": "https://localhost:8080/"
        },
        "id": "xA7M_e9juIaz",
        "outputId": "d4403bb9-6db5-4be2-9ae9-4b0bc7c08d8f"
      },
      "execution_count": null,
      "outputs": [
        {
          "output_type": "stream",
          "name": "stdout",
          "text": [
            "23\n"
          ]
        }
      ]
    }
  ]
}