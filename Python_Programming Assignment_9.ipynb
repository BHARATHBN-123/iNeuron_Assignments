{
 "cells": [
  {
   "cell_type": "code",
   "execution_count": 6,
   "id": "8d293e8d",
   "metadata": {},
   "outputs": [
    {
     "name": "stdout",
     "output_type": "stream",
     "text": [
      "Object `Number` not found.\n"
     ]
    }
   ],
   "source": [
    "Disarium Number?"
   ]
  },
  {
   "cell_type": "code",
   "execution_count": 20,
   "id": "797d4e6d",
   "metadata": {},
   "outputs": [
    {
     "name": "stdout",
     "output_type": "stream",
     "text": [
      "Enter The Number: 135\n",
      "135 Number is Disarium Number\n"
     ]
    }
   ],
   "source": [
    "def Disarium_Number(N):\n",
    "    n = str(N)\n",
    "    N_sum=0\n",
    "    for i in range(len(n)):\n",
    "        N_sum += pow(int(n[i]),i+1)\n",
    "    if N_sum == N:\n",
    "        print(f\"{N} Number is Disarium Number\" )\n",
    "    else:\n",
    "        print(f\"{N} Number is not Disarium Number\" )\n",
    "N = int(input(\"Enter The Number: \"))\n",
    "Disarium_Number(N)"
   ]
  }
 ],
 "metadata": {
  "kernelspec": {
   "display_name": "Python 3 (ipykernel)",
   "language": "python",
   "name": "python3"
  },
  "language_info": {
   "codemirror_mode": {
    "name": "ipython",
    "version": 3
   },
   "file_extension": ".py",
   "mimetype": "text/x-python",
   "name": "python",
   "nbconvert_exporter": "python",
   "pygments_lexer": "ipython3",
   "version": "3.9.13"
  }
 },
 "nbformat": 4,
 "nbformat_minor": 5
}
