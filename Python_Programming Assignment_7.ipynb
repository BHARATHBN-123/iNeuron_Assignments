{
 "cells": [
  {
   "cell_type": "code",
   "execution_count": null,
   "id": "e75b222b",
   "metadata": {},
   "outputs": [],
   "source": []
  },
  {
   "cell_type": "code",
   "execution_count": 7,
   "id": "833d293f",
   "metadata": {},
   "outputs": [
    {
     "name": "stdout",
     "output_type": "stream",
     "text": [
      "Sum of the array is  34\n"
     ]
    }
   ],
   "source": [
    "arr = []\n",
    "arr = [12, 3, 4, 15]\n",
    "ans = sum(arr)\n",
    "print('Sum of the array is ', ans)"
   ]
  },
  {
   "cell_type": "markdown",
   "id": "4cfdd4be",
   "metadata": {},
   "source": []
  },
  {
   "cell_type": "code",
   "execution_count": 15,
   "id": "27fc40fa",
   "metadata": {},
   "outputs": [
    {
     "name": "stdout",
     "output_type": "stream",
     "text": [
      "The Larger number in array is 16\n"
     ]
    }
   ],
   "source": [
    "arr = [16,14,12, 3, 4, 15]\n",
    "max = arr[0]\n",
    "for i in range(len(arr)):\n",
    "    if arr[i]>max:\n",
    "        max = arr[i]\n",
    "print(f\"The Larger number in array is {max}\")"
   ]
  },
  {
   "cell_type": "code",
   "execution_count": null,
   "id": "b0eb932f",
   "metadata": {},
   "outputs": [],
   "source": []
  },
  {
   "cell_type": "code",
   "execution_count": null,
   "id": "6b3c3486",
   "metadata": {},
   "outputs": [],
   "source": [
    "arr = [16,14,12, 3, 4, 15]\n"
   ]
  }
 ],
 "metadata": {
  "kernelspec": {
   "display_name": "Python 3 (ipykernel)",
   "language": "python",
   "name": "python3"
  },
  "language_info": {
   "codemirror_mode": {
    "name": "ipython",
    "version": 3
   },
   "file_extension": ".py",
   "mimetype": "text/x-python",
   "name": "python",
   "nbconvert_exporter": "python",
   "pygments_lexer": "ipython3",
   "version": "3.9.13"
  }
 },
 "nbformat": 4,
 "nbformat_minor": 5
}
