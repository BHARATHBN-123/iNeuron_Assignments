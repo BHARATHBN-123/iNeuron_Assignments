{
 "cells": [
  {
   "cell_type": "code",
   "execution_count": 1,
   "id": "e99b787e",
   "metadata": {},
   "outputs": [],
   "source": [
    "#1. Write a Python program to find words which are greater than given length k?"
   ]
  },
  {
   "cell_type": "code",
   "execution_count": 2,
   "id": "86e8e7f4",
   "metadata": {},
   "outputs": [
    {
     "name": "stdout",
     "output_type": "stream",
     "text": [
      "Enter the value of K: 3\n",
      "Write\n",
      "Python\n",
      "program\n",
      "find\n",
      "words\n",
      "which\n",
      "greater\n",
      "than\n",
      "given\n",
      "length\n"
     ]
    }
   ],
   "source": [
    "def str_len(s):\n",
    "    count  = 0\n",
    "    for i in s:\n",
    "        count+=1\n",
    "    return int(count)\n",
    "#list of words\n",
    "k = int(input(\"Enter the value of K: \"))\n",
    "l = ['Write', 'a' ,'Python', 'program', 'to', 'find' ,'words' ,'which' ,'are' ,'greater' ,'than', 'given', 'length', 'k']\n",
    "for words in l:\n",
    "    if str_len(words)>k:\n",
    "        print(words)\n"
   ]
  },
  {
   "cell_type": "code",
   "execution_count": 4,
   "id": "bbbdd8e3",
   "metadata": {},
   "outputs": [],
   "source": [
    "#2. Write a Python program for removing i-th character from a string?"
   ]
  },
  {
   "cell_type": "code",
   "execution_count": 14,
   "id": "011dd509",
   "metadata": {},
   "outputs": [
    {
     "name": "stdout",
     "output_type": "stream",
     "text": [
      "input string is **program**\n",
      "\n",
      "after removing nth element in string is: proram\n"
     ]
    }
   ],
   "source": [
    "def remove_ith_character(string , index):\n",
    "    if len(string) >index:\n",
    "        return a[0:index] + a[index+1:]\n",
    "    else :\n",
    "        return \"string is less than index\"\n",
    "print(\"input string is **program**\")\n",
    "print()\n",
    "print(f\"after removing nth element in string is: {remove_ith_character('program' , 3)}\")\n"
   ]
  },
  {
   "cell_type": "code",
   "execution_count": 15,
   "id": "a575f7bf",
   "metadata": {},
   "outputs": [],
   "source": [
    "#3. Write a Python program to split and join a string?"
   ]
  },
  {
   "cell_type": "code",
   "execution_count": 21,
   "id": "067df266",
   "metadata": {},
   "outputs": [
    {
     "name": "stdout",
     "output_type": "stream",
     "text": [
      "String after splitting  ['Hello,', 'World!']\n",
      "\n",
      "String after joining: Hello,World!\n"
     ]
    }
   ],
   "source": [
    "greeting = \"Hello, World!\"\n",
    "print(f\"String after splitting  {greeting.split()}\")\n",
    "print()\n",
    "print(f\"String after joining: {''.join(x for x in greeting.split())}\")"
   ]
  },
  {
   "cell_type": "code",
   "execution_count": 22,
   "id": "374d48c6",
   "metadata": {},
   "outputs": [],
   "source": [
    "#4. Write a Python to check if a given string is binary string or not?"
   ]
  },
  {
   "cell_type": "code",
   "execution_count": null,
   "id": "f4c7eafb",
   "metadata": {},
   "outputs": [],
   "source": [
    "def is_binary_string(s):\n",
    "    for char in s:\n",
    "        if char not in ['0', '1']:\n",
    "            return False\n",
    "    return True\n",
    "string_list = ['01010', '111000', '10101', '001101', '11011', '100200', '10112', '0110', 'abcd', '011223']\n",
    "for s in String_list:\n",
    "    if is_binary_string(s):\n",
    "        print(f\"String {s} is binary string\")\n",
    "    else:\n",
    "                print(f\"String {s} is binary string\")\n",
    "        "
   ]
  },
  {
   "cell_type": "code",
   "execution_count": 8,
   "id": "8c45a618",
   "metadata": {},
   "outputs": [
    {
     "data": {
      "text/plain": [
       "'proram'"
      ]
     },
     "execution_count": 8,
     "metadata": {},
     "output_type": "execute_result"
    }
   ],
   "source": [
    "a = 'program'\n",
    "a[0:3]+a[4:]"
   ]
  }
 ],
 "metadata": {
  "kernelspec": {
   "display_name": "Python 3 (ipykernel)",
   "language": "python",
   "name": "python3"
  },
  "language_info": {
   "codemirror_mode": {
    "name": "ipython",
    "version": 3
   },
   "file_extension": ".py",
   "mimetype": "text/x-python",
   "name": "python",
   "nbconvert_exporter": "python",
   "pygments_lexer": "ipython3",
   "version": "3.9.13"
  }
 },
 "nbformat": 4,
 "nbformat_minor": 5
}
