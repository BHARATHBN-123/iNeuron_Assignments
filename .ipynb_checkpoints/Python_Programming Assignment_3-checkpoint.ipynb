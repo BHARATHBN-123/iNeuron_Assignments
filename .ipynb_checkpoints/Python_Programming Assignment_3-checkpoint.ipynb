{
 "cells": [
  {
   "cell_type": "markdown",
   "id": "6038ef1f",
   "metadata": {},
   "source": [
    "**1. Write a Python Program to Check if a Number is Positive, Negative or Zero?**"
   ]
  },
  {
   "cell_type": "code",
   "execution_count": 8,
   "id": "ac17d351",
   "metadata": {},
   "outputs": [
    {
     "name": "stdout",
     "output_type": "stream",
     "text": [
      "Number is 0\n",
      "Number is Positive\n",
      "Number is negative\n"
     ]
    }
   ],
   "source": [
    "def sign_detector(number):\n",
    "    if number == 0:\n",
    "        return(\"Number is 0\")\n",
    "    elif number > 0:\n",
    "        return(\"Number is Positive\")\n",
    "    elif number <0:\n",
    "        return(\"Number is negative\")\n",
    "print(sign_detector(0))\n",
    "print(sign_detector(1))\n",
    "print(sign_detector(-1))"
   ]
  },
  {
   "cell_type": "markdown",
   "id": "fc660547",
   "metadata": {},
   "source": [
    "**2. Write a Python Program to Check if a Number is Odd or Even?**"
   ]
  },
  {
   "cell_type": "code",
   "execution_count": 10,
   "id": "dbecee26",
   "metadata": {},
   "outputs": [
    {
     "name": "stdout",
     "output_type": "stream",
     "text": [
      "number is odd\n"
     ]
    }
   ],
   "source": [
    "def odd_even(n):\n",
    "    if n%2 == 0:\n",
    "        print(\"number is even\")\n",
    "    else:\n",
    "        print(\"number is odd\")  \n",
    "odd_even(1)"
   ]
  },
  {
   "cell_type": "markdown",
   "id": "231c1d7c",
   "metadata": {},
   "source": [
    "**3. Write a Python Program to Check Leap Year?**"
   ]
  },
  {
   "cell_type": "code",
   "execution_count": 17,
   "id": "7b691a93",
   "metadata": {},
   "outputs": [
    {
     "name": "stdout",
     "output_type": "stream",
     "text": [
      "it is leap year\n"
     ]
    }
   ],
   "source": [
    "def leapyear(year):\n",
    "    if (year % 400 == 0) and (year % 100 == 0):\n",
    "        print(\"{0} is a leap year\".format(year))\n",
    "    elif (year % 4 ==0) and (year % 100 != 0):\n",
    "        print(\"{0} is a leap year\".format(year))\n",
    "\n",
    "    else:\n",
    "        print(\"{0} is not a leap year\".format(year))\n",
    "print(leapyear(2500))"
   ]
  }
 ],
 "metadata": {
  "kernelspec": {
   "display_name": "Python 3 (ipykernel)",
   "language": "python",
   "name": "python3"
  },
  "language_info": {
   "codemirror_mode": {
    "name": "ipython",
    "version": 3
   },
   "file_extension": ".py",
   "mimetype": "text/x-python",
   "name": "python",
   "nbconvert_exporter": "python",
   "pygments_lexer": "ipython3",
   "version": "3.9.13"
  }
 },
 "nbformat": 4,
 "nbformat_minor": 5
}
