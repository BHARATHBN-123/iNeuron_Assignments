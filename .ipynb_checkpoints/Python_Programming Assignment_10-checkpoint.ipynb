{
 "cells": [
  {
   "cell_type": "code",
   "execution_count": 1,
   "id": "2e12dcbc",
   "metadata": {},
   "outputs": [],
   "source": [
    "#1. Write a Python program to find sum of elements in list?"
   ]
  },
  {
   "cell_type": "code",
   "execution_count": 21,
   "id": "5bffd6fe",
   "metadata": {},
   "outputs": [
    {
     "name": "stdout",
     "output_type": "stream",
     "text": [
      "Enter the numbers: 123456\n",
      "The sum of list['1', '2', '3', '4', '5', '6'] is: 21\n"
     ]
    }
   ],
   "source": [
    "def list_sum(N):\n",
    "    sum = 0\n",
    "    for i in N:\n",
    "        sum += int(i)\n",
    "    return sum\n",
    "N  = list(input('Enter the numbers: '))\n",
    "type(N)\n",
    "try:\n",
    "    print(f\"The sum of list{N} is: {list_sum(N)}\")\n",
    "except TypeError as e:\n",
    "    print(f\"Error is {e}\")\n",
    "    print()\n",
    "    \n",
    "        "
   ]
  },
  {
   "cell_type": "code",
   "execution_count": 22,
   "id": "5bab73f7",
   "metadata": {},
   "outputs": [],
   "source": [
    "#2. Write a Python program to Multiply all numbers in the list?"
   ]
  },
  {
   "cell_type": "code",
   "execution_count": 27,
   "id": "080aad3e",
   "metadata": {},
   "outputs": [
    {
     "name": "stdout",
     "output_type": "stream",
     "text": [
      "Enter the numbers: 123\n",
      "The multiplication of list['1', '2', '3'] is: 6\n"
     ]
    }
   ],
   "source": [
    "def list_multiply(N):\n",
    "    sum = 1\n",
    "    for i in N:\n",
    "        sum *= int(i)\n",
    "    return sum\n",
    "N  = list(input('Enter the numbers: '))\n",
    "type(N)\n",
    "try:\n",
    "    print(f\"The multiplication of list{N} is: {list_multiply(N)}\")\n",
    "except TypeError as e:\n",
    "    print(f\"Error is {e}\")\n",
    "    print()"
   ]
  },
  {
   "cell_type": "code",
   "execution_count": 28,
   "id": "2e4df092",
   "metadata": {},
   "outputs": [],
   "source": [
    "#3. Write a Python program to find smallest number in a list?\n"
   ]
  },
  {
   "cell_type": "code",
   "execution_count": 10,
   "id": "cf1d6934",
   "metadata": {},
   "outputs": [
    {
     "name": "stdout",
     "output_type": "stream",
     "text": [
      "1\n",
      "1\n",
      "1\n",
      "1\n",
      "0\n"
     ]
    },
    {
     "data": {
      "text/plain": [
       "0"
      ]
     },
     "execution_count": 10,
     "metadata": {},
     "output_type": "execute_result"
    }
   ],
   "source": [
    "def small_num(N):\n",
    "    small_num = int(N[0])\n",
    "    for i in range(len(N)):\n",
    "        try :\n",
    "            if int(N[i]) <small_num:\n",
    "                small_num = N[i]\n",
    "        except IndexError:\n",
    "            pass\n",
    "    return small_num\n",
    "small_num([1,2,3,4,0])"
   ]
  },
  {
   "cell_type": "code",
   "execution_count": 2,
   "id": "7428c1bb",
   "metadata": {},
   "outputs": [],
   "source": [
    "#4. Write a Python program to find largest number in a list?"
   ]
  },
  {
   "cell_type": "code",
   "execution_count": 14,
   "id": "d7947ee2",
   "metadata": {},
   "outputs": [
    {
     "data": {
      "text/plain": [
       "100"
      ]
     },
     "execution_count": 14,
     "metadata": {},
     "output_type": "execute_result"
    }
   ],
   "source": [
    "def greater_num(N):\n",
    "    small_num = int(N[0])\n",
    "    for i in range(len(N)):\n",
    "        try :\n",
    "            if int(N[i]) >small_num:\n",
    "                small_num = N[i]\n",
    "        except IndexError:\n",
    "            pass\n",
    "    return small_num\n",
    "greater_num([100,1,2,3,4,0])\n"
   ]
  },
  {
   "cell_type": "code",
   "execution_count": 15,
   "id": "5ab1bcc9",
   "metadata": {},
   "outputs": [],
   "source": [
    "#5. Write a Python program to find second largest number in a list?"
   ]
  },
  {
   "cell_type": "code",
   "execution_count": 20,
   "id": "fbecc7f2",
   "metadata": {},
   "outputs": [
    {
     "name": "stdout",
     "output_type": "stream",
     "text": [
      "The second largest number of list [100, 7, 5, 3, 3, 2, 2, 2, 2, 2, 2, 2, 2, 1] is 7\n"
     ]
    }
   ],
   "source": [
    "def greater_num(l):\n",
    "    #for sorting list elements\n",
    "    for i in range(len(l)):\n",
    "        for j in range (len(l)):\n",
    "            if l[i]<l[j]:\n",
    "                l[i] = l[i]\n",
    "            elif l[j]<l[i]:\n",
    "                temp = l[i]\n",
    "                l[i] = l[j]\n",
    "                l[j] = temp\n",
    "#for removing duplicate elements in list\n",
    "    return l[1]\n",
    "l = [5,7,2,1,3,2,100,2,2,2,2,2,2,3]\n",
    "greater_num(l)\n",
    "print(f\"The second largest number of list {l} is {greater_num(l)}\")"
   ]
  },
  {
   "cell_type": "markdown",
   "id": "ee518576",
   "metadata": {},
   "source": [
    "**6. Write a Python program to find N largest elements from a list?**"
   ]
  },
  {
   "cell_type": "code",
   "execution_count": 7,
   "id": "3262498d",
   "metadata": {},
   "outputs": [
    {
     "name": "stdout",
     "output_type": "stream",
     "text": [
      "The  nlargest number of sorted list [5, 7, 2, 1, 3, 2, 100, 2, 2, 2, 2, 2, 2, 3] is [100, 7, 5, 3]\n"
     ]
    }
   ],
   "source": [
    "def n_largest(l,n):\n",
    "    #for sorting list elements\n",
    "    for i in range(len(l)):\n",
    "        for j in range (len(l)):\n",
    "            if l[i]<l[j]:\n",
    "                l[i] = l[i]\n",
    "            elif l[j]<l[i]:\n",
    "                temp = l[i]\n",
    "                l[i] = l[j]\n",
    "                l[j] = temp\n",
    "#for removing duplicate elements in list\n",
    "    return l[:n]\n",
    "n = 4\n",
    "l = [5,7,2,1,3,2,100,2,2,2,2,2,2,3]\n",
    "print(f\"The  nlargest number of sorted list {l} is {n_largest(l , n)}\")"
   ]
  },
  {
   "cell_type": "code",
   "execution_count": 8,
   "id": "5b678e3d",
   "metadata": {},
   "outputs": [],
   "source": [
    "#7. Write a Python program to print even numbers in a list?"
   ]
  },
  {
   "cell_type": "code",
   "execution_count": 14,
   "id": "e3758bd5",
   "metadata": {},
   "outputs": [
    {
     "name": "stdout",
     "output_type": "stream",
     "text": [
      "0 is even number\n",
      "2 is even number\n",
      "4 is even number\n",
      "6 is even number\n",
      "8 is even number\n",
      "10 is even number\n"
     ]
    }
   ],
   "source": [
    "l  = [1,0,2,3,4,5,6,7,8,9,10]\n",
    "def even_num(l):\n",
    "    for num   in l:\n",
    "        if num%2 == 0:\n",
    "            print(f\"{num} is even number\")\n",
    "even_num(l)\n",
    "        "
   ]
  },
  {
   "cell_type": "code",
   "execution_count": 15,
   "id": "dab12546",
   "metadata": {},
   "outputs": [],
   "source": [
    "#8. Write a Python program to print odd numbers in a list?"
   ]
  },
  {
   "cell_type": "code",
   "execution_count": 46,
   "id": "9cc3de12",
   "metadata": {
    "scrolled": true
   },
   "outputs": [
    {
     "name": "stdout",
     "output_type": "stream",
     "text": [
      "1 is odd number\n",
      "3 is odd number\n",
      "5 is odd number\n",
      "7 is odd number\n",
      "9 is odd number\n"
     ]
    }
   ],
   "source": [
    "l  = [1,0,2,3,4,5,6,7,8,9,10]\n",
    "def odd_num(l):\n",
    "    for num   in l:\n",
    "        if num%2 != 0:\n",
    "            print(f\"{num} is odd number\")\n",
    "odd_num(l)"
   ]
  },
  {
   "cell_type": "code",
   "execution_count": null,
   "id": "ddd247dc",
   "metadata": {},
   "outputs": [],
   "source": [
    "#9. Write a Python program to Remove empty List from List?"
   ]
  },
  {
   "cell_type": "code",
   "execution_count": 50,
   "id": "fb679d16",
   "metadata": {},
   "outputs": [
    {
     "ename": "IndexError",
     "evalue": "list index out of range",
     "output_type": "error",
     "traceback": [
      "\u001b[1;31m---------------------------------------------------------------------------\u001b[0m",
      "\u001b[1;31mIndexError\u001b[0m                                Traceback (most recent call last)",
      "\u001b[1;32m~\\AppData\\Local\\Temp\\ipykernel_20004\\1783852547.py\u001b[0m in \u001b[0;36m<module>\u001b[1;34m\u001b[0m\n\u001b[0;32m      1\u001b[0m \u001b[0ml\u001b[0m \u001b[1;33m=\u001b[0m \u001b[1;33m[\u001b[0m\u001b[1;33m[\u001b[0m\u001b[1;33m]\u001b[0m\u001b[1;33m,\u001b[0m\u001b[1;33m[\u001b[0m\u001b[1;36m2\u001b[0m\u001b[1;33m,\u001b[0m\u001b[1;36m3\u001b[0m\u001b[1;33m,\u001b[0m\u001b[1;36m4\u001b[0m\u001b[1;33m]\u001b[0m\u001b[1;33m,\u001b[0m\u001b[1;36m2\u001b[0m\u001b[1;33m,\u001b[0m\u001b[1;36m3\u001b[0m\u001b[1;33m]\u001b[0m\u001b[1;33m\u001b[0m\u001b[1;33m\u001b[0m\u001b[0m\n\u001b[0;32m      2\u001b[0m \u001b[1;32mfor\u001b[0m \u001b[0mi\u001b[0m \u001b[1;32min\u001b[0m \u001b[0mrange\u001b[0m \u001b[1;33m(\u001b[0m\u001b[0mlen\u001b[0m\u001b[1;33m(\u001b[0m\u001b[0ml\u001b[0m\u001b[1;33m)\u001b[0m\u001b[1;33m)\u001b[0m\u001b[1;33m:\u001b[0m\u001b[1;33m\u001b[0m\u001b[1;33m\u001b[0m\u001b[0m\n\u001b[1;32m----> 3\u001b[1;33m     \u001b[1;32mif\u001b[0m \u001b[0mtype\u001b[0m\u001b[1;33m(\u001b[0m\u001b[0ml\u001b[0m\u001b[1;33m[\u001b[0m\u001b[0mi\u001b[0m\u001b[1;33m]\u001b[0m\u001b[1;33m)\u001b[0m \u001b[1;32mis\u001b[0m \u001b[0mlist\u001b[0m\u001b[1;33m:\u001b[0m\u001b[1;33m\u001b[0m\u001b[1;33m\u001b[0m\u001b[0m\n\u001b[0m\u001b[0;32m      4\u001b[0m         \u001b[1;32mif\u001b[0m \u001b[0mlen\u001b[0m\u001b[1;33m(\u001b[0m\u001b[0ml\u001b[0m\u001b[1;33m[\u001b[0m\u001b[0mi\u001b[0m\u001b[1;33m]\u001b[0m\u001b[1;33m)\u001b[0m \u001b[1;33m==\u001b[0m \u001b[1;36m0\u001b[0m\u001b[1;33m:\u001b[0m\u001b[1;33m\u001b[0m\u001b[1;33m\u001b[0m\u001b[0m\n\u001b[0;32m      5\u001b[0m             \u001b[0ml\u001b[0m\u001b[1;33m.\u001b[0m\u001b[0mpop\u001b[0m\u001b[1;33m(\u001b[0m\u001b[0mi\u001b[0m\u001b[1;33m)\u001b[0m\u001b[1;33m\u001b[0m\u001b[1;33m\u001b[0m\u001b[0m\n",
      "\u001b[1;31mIndexError\u001b[0m: list index out of range"
     ]
    }
   ],
   "source": [
    "l = [[],[2,3,4],2,3]\n",
    "for i in range (len(l)):\n",
    "    if type(l[i]) is list:\n",
    "        if len(l[i])==0:\n",
    "            l.pop(i)\n",
    "        "
   ]
  },
  {
   "cell_type": "code",
   "execution_count": 51,
   "id": "d6836a2e",
   "metadata": {},
   "outputs": [
    {
     "name": "stdout",
     "output_type": "stream",
     "text": [
      "[[2, 3, 4], 2, 3]\n"
     ]
    }
   ],
   "source": []
  }
 ],
 "metadata": {
  "kernelspec": {
   "display_name": "Python 3 (ipykernel)",
   "language": "python",
   "name": "python3"
  },
  "language_info": {
   "codemirror_mode": {
    "name": "ipython",
    "version": 3
   },
   "file_extension": ".py",
   "mimetype": "text/x-python",
   "name": "python",
   "nbconvert_exporter": "python",
   "pygments_lexer": "ipython3",
   "version": "3.9.13"
  },
  "vscode": {
   "interpreter": {
    "hash": "c7dd5e9e9b892ddd09ccbdb689c26c8a6a34b0d35fca4835298ca549258846be"
   }
  }
 },
 "nbformat": 4,
 "nbformat_minor": 5
}
