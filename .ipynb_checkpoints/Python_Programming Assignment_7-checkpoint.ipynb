{
 "cells": [
  {
   "cell_type": "markdown",
   "id": "03a2a22f",
   "metadata": {},
   "source": [
    "**1. Write a Python Program to find sum of array?**"
   ]
  },
  {
   "cell_type": "code",
   "execution_count": 7,
   "id": "784c3ea9",
   "metadata": {},
   "outputs": [
    {
     "name": "stdout",
     "output_type": "stream",
     "text": [
      "Sum of the array is  34\n"
     ]
    }
   ],
   "source": [
    "arr = []\n",
    "arr = [12, 3, 4, 15]\n",
    "ans = sum(arr)\n",
    "print('Sum of the array is ', ans)"
   ]
  },
  {
   "cell_type": "markdown",
   "id": "49f81569",
   "metadata": {},
   "source": [
    "**2. Write a Python Program to find largest element in an array?**"
   ]
  },
  {
   "cell_type": "code",
   "execution_count": 15,
   "id": "7794c4b0",
   "metadata": {},
   "outputs": [
    {
     "name": "stdout",
     "output_type": "stream",
     "text": [
      "The Larger number in array is 16\n"
     ]
    }
   ],
   "source": [
    "arr = [16,14,12, 3, 4, 15]\n",
    "max = arr[0]\n",
    "for i in range(len(arr)):\n",
    "    if arr[i]>max:\n",
    "        max = arr[i]\n",
    "print(f\"The Larger number in array is {max}\")"
   ]
  },
  {
   "cell_type": "markdown",
   "id": "a0c43cd9",
   "metadata": {},
   "source": [
    "**3. Write a Python Program for array rotation?**"
   ]
  },
  {
   "cell_type": "code",
   "execution_count": 6,
   "id": "73cd3dc9",
   "metadata": {},
   "outputs": [
    {
     "name": "stdout",
     "output_type": "stream",
     "text": [
      "Array rotation\n",
      "[14, 12, 3, 4, 15, 16]\n",
      "[12, 3, 4, 15, 16, 14]\n",
      "[3, 4, 15, 16, 14, 12]\n",
      "[4, 15, 16, 14, 12, 3]\n",
      "[15, 16, 14, 12, 3, 4]\n",
      "[16, 14, 12, 3, 4, 15]\n"
     ]
    }
   ],
   "source": [
    "def array_rotation():\n",
    "    arr = [16,14,12, 3, 4, 15]\n",
    "    for i in range(len(arr)):\n",
    "        num = arr[0]\n",
    "        arr.pop(0)\n",
    "        arr.append(num)\n",
    "        print(arr)\n",
    "print(\"Array rotation\")\n",
    "array_rotation()\n"
   ]
  },
  {
   "cell_type": "markdown",
   "id": "c3d52ea9",
   "metadata": {},
   "source": [
    "**4. Write a Python Program to Split the array and add the first part to the end?**"
   ]
  },
  {
   "cell_type": "code",
   "execution_count": 21,
   "id": "2504419e",
   "metadata": {},
   "outputs": [
    {
     "name": "stdout",
     "output_type": "stream",
     "text": [
      "Before Split\n",
      "[16, 14, 12, 3, 4, 15, 56]\n",
      "\n",
      "After Split\n",
      "[3, 4, 15, 56, 16, 14, 12]\n"
     ]
    }
   ],
   "source": [
    "def Split_Arr(): \n",
    "    print(\"Before Split\")\n",
    "    arr = [16,14,12, 3, 4, 15,56]\n",
    "    print(arr)\n",
    "    arr_length = len(arr)//2\n",
    "    arr1 = arr[:arr_length]\n",
    "    arr2 = arr[arr_length:]\n",
    "    final_arr = arr2+arr1\n",
    "    print()\n",
    "    print(\"After Split\")\n",
    "    print(final_arr)\n",
    "Split_Arr()"
   ]
  },
  {
   "cell_type": "markdown",
   "id": "7c143588",
   "metadata": {},
   "source": [
    "**5. Write a Python Program to check if given array is Monotonic?**"
   ]
  },
  {
   "cell_type": "code",
   "execution_count": null,
   "id": "59388a0e",
   "metadata": {},
   "outputs": [],
   "source": [
    "def  Monotonic(arr):\n",
    "    pass\n",
    "\n",
    "#driver code\n",
    "\n",
    "if \"__name__\" = main:\n",
    "    arr = [16,14,12, 3, 4, 15,56]    \n",
    "    obj = Monotonic(arr)\n",
    "    \n"
   ]
  }
 ],
 "metadata": {
  "kernelspec": {
   "display_name": "Python 3 (ipykernel)",
   "language": "python",
   "name": "python3"
  },
  "language_info": {
   "codemirror_mode": {
    "name": "ipython",
    "version": 3
   },
   "file_extension": ".py",
   "mimetype": "text/x-python",
   "name": "python",
   "nbconvert_exporter": "python",
   "pygments_lexer": "ipython3",
   "version": "3.9.13"
  }
 },
 "nbformat": 4,
 "nbformat_minor": 5
}
