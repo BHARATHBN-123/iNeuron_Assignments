{
 "cells": [
  {
   "cell_type": "markdown",
   "id": "ada9686b",
   "metadata": {},
   "source": [
    "**1. Write a Python Program to Find the Factorial of a Number?**"
   ]
  },
  {
   "cell_type": "code",
   "execution_count": 6,
   "id": "cb8aba00",
   "metadata": {},
   "outputs": [
    {
     "data": {
      "text/plain": [
       "'factorial of 5 is 120'"
      ]
     },
     "execution_count": 6,
     "metadata": {},
     "output_type": "execute_result"
    }
   ],
   "source": [
    "def factorial(num):\n",
    "    factorial=1\n",
    "    for i in range(1,num+1):\n",
    "        factorial*=i\n",
    "    return f\"factorial of {num} is {factorial}\"\n",
    "factorial(5)"
   ]
  },
  {
   "cell_type": "markdown",
   "id": "1f2713a7",
   "metadata": {},
   "source": [
    "**2. Write a Python Program to Display the multiplication Table?**"
   ]
  },
  {
   "cell_type": "code",
   "execution_count": 9,
   "id": "c260d375",
   "metadata": {},
   "outputs": [
    {
     "name": "stdout",
     "output_type": "stream",
     "text": [
      "3 x 1 = 3\n",
      "3 x 2 = 6\n",
      "3 x 3 = 9\n",
      "3 x 4 = 12\n",
      "3 x 5 = 15\n",
      "3 x 6 = 18\n",
      "3 x 7 = 21\n",
      "3 x 8 = 24\n",
      "3 x 9 = 27\n",
      "3 x 10 = 30\n",
      "3 x 11 = 33\n",
      "3 x 12 = 36\n",
      "3 x 13 = 39\n",
      "3 x 14 = 42\n",
      "3 x 15 = 45\n",
      "3 x 16 = 48\n",
      "3 x 17 = 51\n",
      "3 x 18 = 54\n",
      "3 x 19 = 57\n",
      "3 x 20 = 60\n"
     ]
    }
   ],
   "source": [
    "def multiplication_table(multiplier , length):\n",
    "    for i in range(1 , length+1):\n",
    "        print(f\"{multiplier} x {i} = {multiplier * i}\") \n",
    "multiplication_table(3 , 20)"
   ]
  },
  {
   "cell_type": "markdown",
   "id": "5f8b39b1",
   "metadata": {},
   "source": [
    "**3. Write a Python Program to Print the Fibonacci sequence?**"
   ]
  },
  {
   "cell_type": "code",
   "execution_count": 16,
   "id": "1923a8f9",
   "metadata": {},
   "outputs": [
    {
     "name": "stdout",
     "output_type": "stream",
     "text": [
      "0\n",
      "1\n",
      "1\n",
      "2\n",
      "3\n",
      "5\n",
      "8\n",
      "13\n",
      "21\n",
      "34\n",
      "55\n",
      "89\n",
      "144\n",
      "233\n",
      "377\n",
      "610\n",
      "987\n",
      "1597\n",
      "2584\n",
      "4181\n",
      "6765\n",
      "10946\n",
      "17711\n",
      "28657\n",
      "46368\n",
      "75025\n",
      "121393\n",
      "196418\n",
      "317811\n",
      "514229\n",
      "832040\n",
      "1346269\n",
      "2178309\n",
      "3524578\n",
      "5702887\n",
      "9227465\n",
      "14930352\n",
      "24157817\n",
      "39088169\n",
      "63245986\n",
      "102334155\n",
      "165580141\n",
      "267914296\n",
      "433494437\n",
      "701408733\n",
      "1134903170\n",
      "1836311903\n",
      "2971215073\n",
      "4807526976\n",
      "7778742049\n",
      "12586269025\n",
      "20365011074\n",
      "32951280099\n",
      "53316291173\n",
      "86267571272\n",
      "139583862445\n",
      "225851433717\n",
      "365435296162\n",
      "591286729879\n",
      "956722026041\n",
      "1548008755920\n",
      "2504730781961\n",
      "4052739537881\n",
      "6557470319842\n",
      "10610209857723\n",
      "17167680177565\n",
      "27777890035288\n",
      "44945570212853\n",
      "72723460248141\n",
      "117669030460994\n",
      "190392490709135\n",
      "308061521170129\n",
      "498454011879264\n",
      "806515533049393\n",
      "1304969544928657\n",
      "2111485077978050\n",
      "3416454622906707\n",
      "5527939700884757\n",
      "8944394323791464\n",
      "14472334024676221\n",
      "23416728348467685\n",
      "37889062373143906\n",
      "61305790721611591\n",
      "99194853094755497\n",
      "160500643816367088\n",
      "259695496911122585\n",
      "420196140727489673\n",
      "679891637638612258\n",
      "1100087778366101931\n",
      "1779979416004714189\n",
      "2880067194370816120\n",
      "4660046610375530309\n",
      "7540113804746346429\n",
      "12200160415121876738\n",
      "19740274219868223167\n",
      "31940434634990099905\n",
      "51680708854858323072\n",
      "83621143489848422977\n",
      "135301852344706746049\n",
      "218922995834555169026\n"
     ]
    }
   ],
   "source": [
    "def Fibonacci(n):\n",
    "    if n<0:\n",
    "        print(\"please enter positive number\")\n",
    "    elif n==0:\n",
    "        return n\n",
    "    elif n == 1 or n == 2:\n",
    "        return 1\n",
    "    n1 =0\n",
    "    n2 = 1\n",
    "    count =0\n",
    "    while count < n:\n",
    "        print(n1)\n",
    "        nth = n1 + n2  \n",
    "        n1 = n2  \n",
    "        n2 = nth  \n",
    "        count += 1\n",
    "Fibonacci(100)"
   ]
  },
  {
   "cell_type": "markdown",
   "id": "93c3a3d1",
   "metadata": {},
   "source": [
    "**4. Write a Python Program to Check Armstrong Number?**"
   ]
  },
  {
   "cell_type": "code",
   "execution_count": 13,
   "id": "bef6c855",
   "metadata": {},
   "outputs": [
    {
     "name": "stdout",
     "output_type": "stream",
     "text": [
      "number 153 is Armstrong_Number\n"
     ]
    }
   ],
   "source": [
    "def Armstrong_Number(n):\n",
    "    st_n = str(n)\n",
    "    sum_n = 0\n",
    "    for i in st_n:\n",
    "        sum_n+= int(i)**3\n",
    "    if sum_n == n:\n",
    "        print(f\"number {n} is Armstrong_Number\")\n",
    "    else:\n",
    "        print(f\"number {n} is not Armstrong_Number\")\n",
    "\n",
    "Armstrong_Number(153)"
   ]
  },
  {
   "cell_type": "markdown",
   "id": "893bd6d5",
   "metadata": {},
   "source": [
    "**5. Write a Python Program to Find Armstrong Number in an Interval?**"
   ]
  },
  {
   "cell_type": "code",
   "execution_count": 27,
   "id": "4fb1a2c3",
   "metadata": {},
   "outputs": [
    {
     "name": "stdout",
     "output_type": "stream",
     "text": [
      "number 0 is Armstrong_Number\n",
      "number 1 is Armstrong_Number\n",
      "number 153 is Armstrong_Number\n",
      "number 370 is Armstrong_Number\n",
      "number 371 is Armstrong_Number\n",
      "number 407 is Armstrong_Number\n"
     ]
    }
   ],
   "source": [
    "def Armstrong_Number(range_start,range_end):\n",
    "    for r in range(range_start,range_end+1):\n",
    "        st_n = str(r)\n",
    "        sum_n = 0\n",
    "        for i in st_n:\n",
    "            sum_n+= int(i)**3\n",
    "        if sum_n == r:\n",
    "            print(f\"number {r} is Armstrong_Number\")\n",
    "\n",
    "Armstrong_Number(0,10000000)"
   ]
  },
  {
   "cell_type": "markdown",
   "id": "e355dfa4",
   "metadata": {},
   "source": [
    "**6. Write a Python Program to Find the Sum of Natural Numbers?**"
   ]
  },
  {
   "cell_type": "code",
   "execution_count": 33,
   "id": "7a21da35",
   "metadata": {},
   "outputs": [
    {
     "data": {
      "text/plain": [
       "'Sum of natural numbers in range from 1 to 10 is 55'"
      ]
     },
     "execution_count": 33,
     "metadata": {},
     "output_type": "execute_result"
    }
   ],
   "source": [
    "def Sum_of_natural_numbers(range_start,range_end):\n",
    "    Sum_of_naturalnumbers=0\n",
    "    if range_start<=0 & range_end<=0 :\n",
    "        print(\"please enter natural numbers\")\n",
    "    else:\n",
    "        for r in range(range_start,range_end+1):\n",
    "            Sum_of_naturalnumbers+=r\n",
    "        return f\"Sum of natural numbers in range from {range_start} to {range_end} is {Sum_of_naturalnumbers}\"\n",
    "Sum_of_natural_numbers(1,10)\n",
    "        "
   ]
  }
 ],
 "metadata": {
  "kernelspec": {
   "display_name": "Python 3 (ipykernel)",
   "language": "python",
   "name": "python3"
  },
  "language_info": {
   "codemirror_mode": {
    "name": "ipython",
    "version": 3
   },
   "file_extension": ".py",
   "mimetype": "text/x-python",
   "name": "python",
   "nbconvert_exporter": "python",
   "pygments_lexer": "ipython3",
   "version": "3.9.13"
  }
 },
 "nbformat": 4,
 "nbformat_minor": 5
}
