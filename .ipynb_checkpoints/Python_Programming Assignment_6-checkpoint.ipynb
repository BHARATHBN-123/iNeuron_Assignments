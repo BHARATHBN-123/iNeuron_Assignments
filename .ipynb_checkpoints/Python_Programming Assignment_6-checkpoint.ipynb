{
 "cells": [
  {
   "cell_type": "markdown",
   "id": "1cf88911",
   "metadata": {},
   "source": [
    "**1. Write a Python Program to Display Fibonacci Sequence Using Recursion?**"
   ]
  },
  {
   "cell_type": "code",
   "execution_count": 1,
   "id": "9693ddef",
   "metadata": {},
   "outputs": [
    {
     "name": "stdout",
     "output_type": "stream",
     "text": [
      "Fibonacci series:\n",
      "0\n",
      "1\n",
      "1\n",
      "2\n",
      "3\n",
      "5\n",
      "8\n",
      "13\n",
      "21\n",
      "34\n"
     ]
    }
   ],
   "source": [
    "def recursive_fibonacci(num):\n",
    "    if num <=1:\n",
    "        return num\n",
    "    else:\n",
    "        return(recursive_fibonacci(num-1) + recursive_fibonacci(num-2))\n",
    "n_terms = 10\n",
    " \n",
    "# check if the number of terms is valid\n",
    "if n_terms <= 0:\n",
    "    print(\"Invalid input ! Please input a positive value\")\n",
    "else:\n",
    "    print(\"Fibonacci series:\")\n",
    "for i in range(n_terms):\n",
    "    print(recursive_fibonacci(i))"
   ]
  },
  {
   "cell_type": "markdown",
   "id": "18608a4a",
   "metadata": {},
   "source": [
    "**2. Write a Python Program to Find Factorial of Number Using Recursion?**"
   ]
  },
  {
   "cell_type": "code",
   "execution_count": 2,
   "id": "dbe5f2be",
   "metadata": {},
   "outputs": [
    {
     "name": "stdout",
     "output_type": "stream",
     "text": [
      "Enter the number: 10\n",
      "The factorial of 10 is 3628800\n"
     ]
    }
   ],
   "source": [
    "def Recursive_Factorial(n):\n",
    "    if n==0 or n==1:\n",
    "        return 1\n",
    "    else:\n",
    "        return (n * Recursive_Factorial(n-1) )\n",
    "num = int(input(\"Enter the number: \"))\n",
    "print(f\"The factorial of {num} is {Recursive_Factorial(num)}\")"
   ]
  },
  {
   "cell_type": "markdown",
   "id": "24264c12",
   "metadata": {},
   "source": [
    "**3. Write a Python Program to calculate your Body Mass Index?**"
   ]
  },
  {
   "cell_type": "code",
   "execution_count": null,
   "id": "e2329d8d",
   "metadata": {},
   "outputs": [],
   "source": [
    "def BMI(weight , height):\n",
    "    "
   ]
  },
  {
   "cell_type": "code",
   "execution_count": null,
   "id": "ae1f4889",
   "metadata": {},
   "outputs": [],
   "source": []
  },
  {
   "cell_type": "code",
   "execution_count": null,
   "id": "b6a009c0",
   "metadata": {},
   "outputs": [],
   "source": []
  },
  {
   "cell_type": "code",
   "execution_count": null,
   "id": "cefde157",
   "metadata": {},
   "outputs": [],
   "source": []
  },
  {
   "cell_type": "code",
   "execution_count": null,
   "id": "9af8924a",
   "metadata": {},
   "outputs": [],
   "source": []
  },
  {
   "cell_type": "code",
   "execution_count": null,
   "id": "92fdb06e",
   "metadata": {},
   "outputs": [],
   "source": []
  },
  {
   "cell_type": "code",
   "execution_count": null,
   "id": "3ce6995b",
   "metadata": {},
   "outputs": [],
   "source": []
  },
  {
   "cell_type": "code",
   "execution_count": null,
   "id": "25327f02",
   "metadata": {},
   "outputs": [],
   "source": []
  },
  {
   "cell_type": "code",
   "execution_count": null,
   "id": "0e23d938",
   "metadata": {},
   "outputs": [],
   "source": []
  }
 ],
 "metadata": {
  "kernelspec": {
   "display_name": "Python 3 (ipykernel)",
   "language": "python",
   "name": "python3"
  },
  "language_info": {
   "codemirror_mode": {
    "name": "ipython",
    "version": 3
   },
   "file_extension": ".py",
   "mimetype": "text/x-python",
   "name": "python",
   "nbconvert_exporter": "python",
   "pygments_lexer": "ipython3",
   "version": "3.9.13"
  }
 },
 "nbformat": 4,
 "nbformat_minor": 5
}
