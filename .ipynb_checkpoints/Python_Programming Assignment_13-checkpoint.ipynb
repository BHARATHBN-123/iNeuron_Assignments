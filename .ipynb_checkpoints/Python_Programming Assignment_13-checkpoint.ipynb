{
 "cells": [
  {
   "cell_type": "code",
   "execution_count": 8,
   "id": "3dfe1c0b",
   "metadata": {},
   "outputs": [
    {
     "data": {
      "text/plain": [
       "22"
      ]
     },
     "execution_count": 8,
     "metadata": {},
     "output_type": "execute_result"
    }
   ],
   "source": [
    "Q = 50\n",
    "H = 30\n",
    "D =150\n",
    "import math\n",
    "a = math.sqrt((2*Q*D)/H)\n",
    "int(a)"
   ]
  },
  {
   "cell_type": "code",
   "execution_count": null,
   "id": "70456dda",
   "metadata": {},
   "outputs": [],
   "source": [
    "from math import sqrt\n",
    "class Calculate_Q:\n",
    "    def __init__(self , C , H ):\n",
    "        self.C = C\n",
    "        self.H = H\n",
    "    def Q(self , self.C , self.H , D):\n",
    "        print(self.C)\n",
    "        \n",
    "        \n",
    "        "
   ]
  }
 ],
 "metadata": {
  "kernelspec": {
   "display_name": "Python 3 (ipykernel)",
   "language": "python",
   "name": "python3"
  },
  "language_info": {
   "codemirror_mode": {
    "name": "ipython",
    "version": 3
   },
   "file_extension": ".py",
   "mimetype": "text/x-python",
   "name": "python",
   "nbconvert_exporter": "python",
   "pygments_lexer": "ipython3",
   "version": "3.9.13"
  }
 },
 "nbformat": 4,
 "nbformat_minor": 5
}
