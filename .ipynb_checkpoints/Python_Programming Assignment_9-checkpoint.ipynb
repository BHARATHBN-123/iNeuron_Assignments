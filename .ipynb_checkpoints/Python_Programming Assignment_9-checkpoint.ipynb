{
 "cells": [
  {
   "cell_type": "code",
   "execution_count": 6,
   "id": "1efb8ef3",
   "metadata": {},
   "outputs": [
    {
     "name": "stdout",
     "output_type": "stream",
     "text": [
      "Object `Number` not found.\n"
     ]
    }
   ],
   "source": []
  },
  {
   "cell_type": "code",
   "execution_count": 2,
   "id": "f7adfc28",
   "metadata": {},
   "outputs": [
    {
     "name": "stdout",
     "output_type": "stream",
     "text": [
      "Enter The Number: 135\n",
      "135 Number is Disarium Number\n"
     ]
    }
   ],
   "source": [
    "def Disarium_Number(N):\n",
    "    n = str(N)\n",
    "    N_sum=0\n",
    "    for i in range(len(n)):\n",
    "        N_sum += pow(int(n[i]),i+1)\n",
    "    if N_sum == N:\n",
    "        print(f\"{N} Number is Disarium Number\" )\n",
    "        return True\n",
    "    else:\n",
    "        print(f\"{N} Number is not Disarium Number\" )\n",
    "        return False\n",
    "N = int(input(\"Enter The Number: \"))\n",
    "Disarium_Number(N)"
   ]
  },
  {
   "cell_type": "code",
   "execution_count": 15,
   "id": "831c7b5e",
   "metadata": {},
   "outputs": [
    {
     "name": "stdout",
     "output_type": "stream",
     "text": [
      "1 Number is Disarium Number\n",
      "2 Number is Disarium Number\n",
      "3 Number is Disarium Number\n",
      "4 Number is Disarium Number\n",
      "5 Number is Disarium Number\n",
      "6 Number is Disarium Number\n",
      "7 Number is Disarium Number\n",
      "8 Number is Disarium Number\n",
      "9 Number is Disarium Number\n",
      "89 Number is Disarium Number\n"
     ]
    }
   ],
   "source": [
    "#2. Write a Python program to print all disarium numbers between 1 to 100?\n",
    "def Disarium_Number(N):\n",
    "    n = str(N)\n",
    "    N_sum=0\n",
    "    for i in range(len(n)):\n",
    "        N_sum += pow(int(n[i]),i+1)\n",
    "    if N_sum == N:\n",
    "        print(f\"{N} Number is Disarium Number\" )\n",
    "for i in range(1,101):\n",
    "    if Disarium_Number(i) == True:\n",
    "        Disarium_Number(i)"
   ]
  },
  {
   "cell_type": "code",
   "execution_count": 16,
   "id": "8c6a6211",
   "metadata": {},
   "outputs": [],
   "source": [
    "#3. Write a Python program to check if the given number is Happy Number?"
   ]
  },
  {
   "cell_type": "code",
   "execution_count": 2,
   "id": "9d7d371f",
   "metadata": {},
   "outputs": [
    {
     "ename": "SyntaxError",
     "evalue": "invalid syntax (1267933151.py, line 4)",
     "output_type": "error",
     "traceback": [
      "\u001b[1;36m  File \u001b[1;32m\"C:\\Users\\scii221001\\AppData\\Local\\Temp\\ipykernel_9848\\1267933151.py\"\u001b[1;36m, line \u001b[1;32m4\u001b[0m\n\u001b[1;33m    While(sqr_sum!= N):\u001b[0m\n\u001b[1;37m                       ^\u001b[0m\n\u001b[1;31mSyntaxError\u001b[0m\u001b[1;31m:\u001b[0m invalid syntax\n"
     ]
    }
   ],
   "source": [
    "def Happy_Number(N):\n",
    "    sqr_sum = N\n",
    "    while sqr_sum!= N:\n",
    "        print(sqr_sum)\n",
    "        sum_n =0 \n",
    "        for n in Str(N):\n",
    "            sum_n = sum_n+(int(n)**2)\n",
    "        if sqr_sum !=1:     \n",
    "            sqr_sum += sum_n\n",
    "        else :\n",
    "            break\n",
    "            return True\n",
    "    return False\n",
    "        "
   ]
  },
  {
   "cell_type": "code",
   "execution_count": null,
   "id": "70d3564b",
   "metadata": {},
   "outputs": [],
   "source": []
  }
 ],
 "metadata": {
  "kernelspec": {
   "display_name": "Python 3 (ipykernel)",
   "language": "python",
   "name": "python3"
  },
  "language_info": {
   "codemirror_mode": {
    "name": "ipython",
    "version": 3
   },
   "file_extension": ".py",
   "mimetype": "text/x-python",
   "name": "python",
   "nbconvert_exporter": "python",
   "pygments_lexer": "ipython3",
   "version": "3.9.13"
  }
 },
 "nbformat": 4,
 "nbformat_minor": 5
}
