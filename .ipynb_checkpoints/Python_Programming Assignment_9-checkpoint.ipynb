{
 "cells": [
  {
   "cell_type": "code",
   "execution_count": 6,
   "id": "1efb8ef3",
   "metadata": {},
   "outputs": [
    {
     "name": "stdout",
     "output_type": "stream",
     "text": [
      "Object `Number` not found.\n"
     ]
    }
   ],
   "source": []
  },
  {
   "cell_type": "code",
   "execution_count": 2,
   "id": "f7adfc28",
   "metadata": {},
   "outputs": [
    {
     "name": "stdout",
     "output_type": "stream",
     "text": [
      "Enter The Number: 135\n",
      "135 Number is Disarium Number\n"
     ]
    }
   ],
   "source": [
    "def Disarium_Number(N):\n",
    "    n = str(N)\n",
    "    N_sum=0\n",
    "    for i in range(len(n)):\n",
    "        N_sum += pow(int(n[i]),i+1)\n",
    "    if N_sum == N:\n",
    "        print(f\"{N} Number is Disarium Number\" )\n",
    "        return True\n",
    "    else:\n",
    "        print(f\"{N} Number is not Disarium Number\" )\n",
    "        return False\n",
    "N = int(input(\"Enter The Number: \"))\n",
    "Disarium_Number(N)"
   ]
  },
  {
   "cell_type": "code",
   "execution_count": 15,
   "id": "831c7b5e",
   "metadata": {},
   "outputs": [
    {
     "name": "stdout",
     "output_type": "stream",
     "text": [
      "1 Number is Disarium Number\n",
      "2 Number is Disarium Number\n",
      "3 Number is Disarium Number\n",
      "4 Number is Disarium Number\n",
      "5 Number is Disarium Number\n",
      "6 Number is Disarium Number\n",
      "7 Number is Disarium Number\n",
      "8 Number is Disarium Number\n",
      "9 Number is Disarium Number\n",
      "89 Number is Disarium Number\n"
     ]
    }
   ],
   "source": [
    "#2. Write a Python program to print all disarium numbers between 1 to 100?\n",
    "def Disarium_Number(N):\n",
    "    n = str(N)\n",
    "    N_sum=0\n",
    "    for i in range(len(n)):\n",
    "        N_sum += pow(int(n[i]),i+1)\n",
    "    if N_sum == N:\n",
    "        print(f\"{N} Number is Disarium Number\" )\n",
    "for i in range(1,101):\n",
    "    if Disarium_Number(i) == True:\n",
    "        Disarium_Number(i)"
   ]
  },
  {
   "cell_type": "code",
   "execution_count": 16,
   "id": "8c6a6211",
   "metadata": {},
   "outputs": [],
   "source": [
    "#3. Write a Python program to check if the given number is Happy Number?"
   ]
  },
  {
   "cell_type": "code",
   "execution_count": 19,
   "id": "9d7d371f",
   "metadata": {},
   "outputs": [],
   "source": [
    "def Happy_Number(N):\n",
    "    sqr_sum = N\n",
    "    sum_n =0 \n",
    "    while True:\n",
    "        print(sqr_sum)\n",
    "        \n",
    "        for n in str(N):\n",
    "            print(n)\n",
    "            sum_n = sum_n+(int(n)**2)\n",
    "        print(\"sum_n\",sum_n)\n",
    "        if sqr_sum !=1:     \n",
    "            sqr_sum = sum_n\n",
    "            sum_n = 0\n",
    "        else :\n",
    "            break\n",
    "            return True\n",
    "#     return False\n",
    "        "
   ]
  },
  {
   "cell_type": "code",
   "execution_count": 8,
   "id": "c63ded9e",
   "metadata": {},
   "outputs": [
    {
     "data": {
      "text/plain": [
       "False"
      ]
     },
     "execution_count": 8,
     "metadata": {},
     "output_type": "execute_result"
    }
   ],
   "source": [
    "def is_Happy_num(n):\n",
    "    past = set()\n",
    "    while n != 1:\n",
    "        n = sum(int(i)**2 for i in str(n))\n",
    "        if n in past:\n",
    "            return False\n",
    "        past.add(n)\n",
    "    return True\n",
    "is_Happy_num(17)"
   ]
  },
  {
   "cell_type": "markdown",
   "id": "efe2867b",
   "metadata": {},
   "source": [
    "**4. Write a Python program to print all happy numbers between 1 and 100?**"
   ]
  },
  {
   "cell_type": "code",
   "execution_count": 12,
   "id": "51cd89ca",
   "metadata": {},
   "outputs": [
    {
     "name": "stdout",
     "output_type": "stream",
     "text": [
      "1 is happy number\n",
      "7 is happy number\n",
      "10 is happy number\n",
      "13 is happy number\n",
      "19 is happy number\n",
      "23 is happy number\n",
      "28 is happy number\n",
      "31 is happy number\n",
      "32 is happy number\n",
      "44 is happy number\n",
      "49 is happy number\n",
      "68 is happy number\n",
      "70 is happy number\n",
      "79 is happy number\n",
      "82 is happy number\n",
      "86 is happy number\n",
      "91 is happy number\n",
      "94 is happy number\n",
      "97 is happy number\n",
      "100 is happy number\n"
     ]
    }
   ],
   "source": [
    "for i in range (0,101):\n",
    "    if is_Happy_num(i):\n",
    "        print(i , \"is happy number\")"
   ]
  },
  {
   "cell_type": "markdown",
   "id": "8b28d9e9",
   "metadata": {},
   "source": [
    "**5. Write a Python program to determine whether the given number is a Harshad Number?**"
   ]
  },
  {
   "cell_type": "code",
   "execution_count": 17,
   "id": "9cab493c",
   "metadata": {},
   "outputs": [
    {
     "name": "stdout",
     "output_type": "stream",
     "text": [
      "Enter integer number: 10\n",
      "10 is Harshad_Number\n"
     ]
    }
   ],
   "source": [
    "def Harshad_Number(N):\n",
    "    n = str(N)\n",
    "    sum_n = 0\n",
    "    for i in n:\n",
    "        sum_n += int(i)\n",
    "    if N%sum_n == 0:\n",
    "        return True\n",
    "    else:\n",
    "        return False\n",
    "N = int(input(\"Enter integer number: \"))\n",
    "if Harshad_Number(N):\n",
    "    print(f\"{N} is Harshad_Number\")\n",
    "else:\n",
    "    print(f\"{N} is not Harshad_Number\")"
   ]
  },
  {
   "cell_type": "markdown",
   "id": "91b6afbe",
   "metadata": {},
   "source": [
    "**6. Write a Python program to print all pronic numbers between 1 and 100?**"
   ]
  },
  {
   "cell_type": "code",
   "execution_count": 1,
   "id": "9efde90a",
   "metadata": {},
   "outputs": [
    {
     "name": "stdout",
     "output_type": "stream",
     "text": [
      "0 is Pronic\n",
      "2 is Pronic\n",
      "6 is Pronic\n",
      "12 is Pronic\n",
      "20 is Pronic\n",
      "30 is Pronic\n",
      "42 is Pronic\n",
      "56 is Pronic\n",
      "72 is Pronic\n",
      "90 is Pronic\n",
      "110 is Pronic\n",
      "132 is Pronic\n",
      "156 is Pronic\n",
      "182 is Pronic\n"
     ]
    }
   ],
   "source": [
    "\n",
    "import math\n",
    "def checkPronic (x) :\n",
    "    i = 0\n",
    "    while ( i <= (int)(math.sqrt(x)) ) :\n",
    "        if ( x == i * (i + 1)) :\n",
    "            return True\n",
    "        i = i + 1\n",
    " \n",
    "    return False\n",
    "i = 0\n",
    "while (i <= 200 ) :\n",
    "    if checkPronic(i) :\n",
    "        print(f'{i} is Pronic')\n",
    "    i = i + 1\n",
    " "
   ]
  }
 ],
 "metadata": {
  "kernelspec": {
   "display_name": "Python 3 (ipykernel)",
   "language": "python",
   "name": "python3"
  },
  "language_info": {
   "codemirror_mode": {
    "name": "ipython",
    "version": 3
   },
   "file_extension": ".py",
   "mimetype": "text/x-python",
   "name": "python",
   "nbconvert_exporter": "python",
   "pygments_lexer": "ipython3",
   "version": "3.9.13"
  }
 },
 "nbformat": 4,
 "nbformat_minor": 5
}
