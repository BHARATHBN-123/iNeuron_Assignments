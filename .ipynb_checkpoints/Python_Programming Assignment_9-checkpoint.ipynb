{
 "cells": [
  {
   "cell_type": "code",
   "execution_count": 6,
   "id": "f232a641",
   "metadata": {},
   "outputs": [
    {
     "name": "stdout",
     "output_type": "stream",
     "text": [
      "Object `Number` not found.\n"
     ]
    }
   ],
   "source": [
    "Disarium Number?"
   ]
  },
  {
   "cell_type": "code",
   "execution_count": 12,
   "id": "7867e55a",
   "metadata": {},
   "outputs": [
    {
     "name": "stdout",
     "output_type": "stream",
     "text": [
      "Enter The Number: 135\n",
      "['135']\n",
      "135 Number is not Disarium Number\n",
      "134\n"
     ]
    }
   ],
   "source": [
    "def Disarium_Number(N):\n",
    "    n = str(N).split()\n",
    "    N_sum = 0\n",
    "    for i in range(len(n)):\n",
    "        N_sum += int(n[i])^i+1\n",
    "    if N_sum == N:\n",
    "        print(f\"{N} Number is Disarium Number\" )\n",
    "    else:\n",
    "        print(f\"{N} Number is not Disarium Number\" )\n",
    "    print(N_sum)\n",
    "N = int(input(\"Enter The Number: \"))\n",
    "Disarium_Number(N)"
   ]
  }
 ],
 "metadata": {
  "kernelspec": {
   "display_name": "Python 3 (ipykernel)",
   "language": "python",
   "name": "python3"
  },
  "language_info": {
   "codemirror_mode": {
    "name": "ipython",
    "version": 3
   },
   "file_extension": ".py",
   "mimetype": "text/x-python",
   "name": "python",
   "nbconvert_exporter": "python",
   "pygments_lexer": "ipython3",
   "version": "3.9.13"
  }
 },
 "nbformat": 4,
 "nbformat_minor": 5
}
