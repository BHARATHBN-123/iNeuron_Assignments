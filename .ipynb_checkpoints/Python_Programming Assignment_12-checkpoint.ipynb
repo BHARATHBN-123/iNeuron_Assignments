{
 "cells": [
  {
   "cell_type": "code",
   "execution_count": null,
   "id": "4fcc5d92",
   "metadata": {},
   "outputs": [],
   "source": [
    "#1. Write a Python program to Extract Unique values dictionary values?"
   ]
  },
  {
   "cell_type": "code",
   "execution_count": 6,
   "id": "6c713311",
   "metadata": {},
   "outputs": [
    {
     "name": "stdout",
     "output_type": "stream",
     "text": [
      "The unique values in above dictionary is {0, 3, 5, 7, 8, 11, 12, 77, 45, 51, 22, 56, 89, 90, 31, 63}\n"
     ]
    }
   ],
   "source": [
    "my_dict = {'hi' : [5,3,8, 0],\n",
    "   'there' : [22, 51, 63, 77],\n",
    "   'how' : [7, 0, 22],\n",
    "   'are' : [12, 11, 45],\n",
    "   'you' : [56, 31, 89, 90]}\n",
    "\n",
    "unique_val = list(ele for ele in my_dict.values() for ele in ele)\n",
    "print(f\"The unique values in above dictionary is {set(unique_val)}\")"
   ]
  },
  {
   "cell_type": "code",
   "execution_count": 8,
   "id": "1eba3bb6",
   "metadata": {},
   "outputs": [
    {
     "name": "stdout",
     "output_type": "stream",
     "text": [
      "The sum of all values in above dictionary is 592\n"
     ]
    }
   ],
   "source": [
    "#2. Write a Python program to find the sum of all items in a dictionary?\n",
    "my_dict = {'hi' : [5,3,8, 0],\n",
    "   'there' : [22, 51, 63, 77],\n",
    "   'how' : [7, 0, 22],\n",
    "   'are' : [12, 11, 45],\n",
    "   'you' : [56, 31, 89, 90]}\n",
    "\n",
    "unique_val = list(ele for ele in my_dict.values() for ele in ele)\n",
    "print(f\"The sum of all values in above dictionary is {sum(unique_val)}\")"
   ]
  },
  {
   "cell_type": "code",
   "execution_count": 9,
   "id": "7d77e3ac",
   "metadata": {},
   "outputs": [],
   "source": [
    "#3. Write a Python program to Merging two Dictionaries?"
   ]
  },
  {
   "cell_type": "code",
   "execution_count": 24,
   "id": "49fe405a",
   "metadata": {},
   "outputs": [
    {
     "name": "stdout",
     "output_type": "stream",
     "text": [
      "after merging two dictionaries {'hi': [5, 3, 8, 0], 'there': [22, 51, 63, 77], 'how': [7, 0, 22], 'are': [12, 11, 45], 'you': [56, 31, 89, 90], 'i': [5, 3, 8, 0], 'here': [22, 51, 63, 77], 'ow': [7, 0, 22], 're': [12, 11, 45], 'ou': [56, 31, 89, 90]}\n"
     ]
    }
   ],
   "source": [
    "my_dict1 = {'hi' : [5,3,8, 0],\n",
    "   'there' : [22, 51, 63, 77],\n",
    "   'how' : [7, 0, 22],\n",
    "   'are' : [12, 11, 45],\n",
    "   'you' : [56, 31, 89, 90]}\n",
    "my_dict2 = {'i' : [5,3,8, 0],\n",
    "   'here' : [22, 51, 63, 77],\n",
    "   'ow' : [7, 0, 22],\n",
    "   're' : [12, 11, 45],\n",
    "   'ou' : [56, 31, 89, 90]}\n",
    "final_dict = my_dict1|my_dict2\n",
    "print(f\"after merging two dictionaries {final_dict}\")"
   ]
  },
  {
   "cell_type": "code",
   "execution_count": null,
   "id": "be92e6e4",
   "metadata": {},
   "outputs": [],
   "source": [
    "#4. Write a Python program to convert key-values list to flat dictionary?"
   ]
  },
  {
   "cell_type": "code",
   "execution_count": 32,
   "id": "257f12b7",
   "metadata": {},
   "outputs": [
    {
     "ename": "TypeError",
     "evalue": "unhashable type: 'list'",
     "output_type": "error",
     "traceback": [
      "\u001b[1;31m---------------------------------------------------------------------------\u001b[0m",
      "\u001b[1;31mTypeError\u001b[0m                                 Traceback (most recent call last)",
      "\u001b[1;32m~\\AppData\\Local\\Temp\\ipykernel_16956\\1565590846.py\u001b[0m in \u001b[0;36m<module>\u001b[1;34m\u001b[0m\n\u001b[1;32m----> 1\u001b[1;33m \u001b[0mx\u001b[0m \u001b[1;33m=\u001b[0m \u001b[0mdict\u001b[0m\u001b[1;33m(\u001b[0m\u001b[0mzip\u001b[0m\u001b[1;33m(\u001b[0m\u001b[0mmy_dict1\u001b[0m\u001b[1;33m.\u001b[0m\u001b[0mvalues\u001b[0m\u001b[1;33m(\u001b[0m\u001b[1;33m)\u001b[0m\u001b[1;33m,\u001b[0m\u001b[0mmy_dict2\u001b[0m\u001b[1;33m.\u001b[0m\u001b[0mvalues\u001b[0m\u001b[1;33m(\u001b[0m\u001b[1;33m)\u001b[0m\u001b[1;33m)\u001b[0m\u001b[1;33m)\u001b[0m\u001b[1;33m\u001b[0m\u001b[1;33m\u001b[0m\u001b[0m\n\u001b[0m",
      "\u001b[1;31mTypeError\u001b[0m: unhashable type: 'list'"
     ]
    }
   ],
   "source": [
    "my_dict = {'month_num' : [1, 2, 3, 4, 5, 6], 'name_of_month' : ['Jan', 'Feb', 'March', 'Apr', 'May', 'June']}\n",
    "\n"
   ]
  }
 ],
 "metadata": {
  "kernelspec": {
   "display_name": "Python 3 (ipykernel)",
   "language": "python",
   "name": "python3"
  },
  "language_info": {
   "codemirror_mode": {
    "name": "ipython",
    "version": 3
   },
   "file_extension": ".py",
   "mimetype": "text/x-python",
   "name": "python",
   "nbconvert_exporter": "python",
   "pygments_lexer": "ipython3",
   "version": "3.9.13"
  }
 },
 "nbformat": 4,
 "nbformat_minor": 5
}
