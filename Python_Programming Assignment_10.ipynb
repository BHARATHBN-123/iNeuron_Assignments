{
 "cells": [
  {
   "cell_type": "code",
   "execution_count": 1,
   "id": "2e12dcbc",
   "metadata": {},
   "outputs": [],
   "source": [
    "#1. Write a Python program to find sum of elements in list?"
   ]
  },
  {
   "cell_type": "code",
   "execution_count": 21,
   "id": "5bffd6fe",
   "metadata": {},
   "outputs": [
    {
     "name": "stdout",
     "output_type": "stream",
     "text": [
      "Enter the numbers: 123456\n",
      "The sum of list['1', '2', '3', '4', '5', '6'] is: 21\n"
     ]
    }
   ],
   "source": [
    "def list_sum(N):\n",
    "    sum = 0\n",
    "    for i in N:\n",
    "        sum += int(i)\n",
    "    return sum\n",
    "N  = list(input('Enter the numbers: '))\n",
    "type(N)\n",
    "try:\n",
    "    print(f\"The sum of list{N} is: {list_sum(N)}\")\n",
    "except TypeError as e:\n",
    "    print(f\"Error is {e}\")\n",
    "    print()\n",
    "    \n",
    "        "
   ]
  },
  {
   "cell_type": "code",
   "execution_count": 22,
   "id": "5bab73f7",
   "metadata": {},
   "outputs": [],
   "source": [
    "#2. Write a Python program to Multiply all numbers in the list?"
   ]
  },
  {
   "cell_type": "code",
   "execution_count": 27,
   "id": "080aad3e",
   "metadata": {},
   "outputs": [
    {
     "name": "stdout",
     "output_type": "stream",
     "text": [
      "Enter the numbers: 123\n",
      "The multiplication of list['1', '2', '3'] is: 6\n"
     ]
    }
   ],
   "source": [
    "def list_multiply(N):\n",
    "    sum = 1\n",
    "    for i in N:\n",
    "        sum *= int(i)\n",
    "    return sum\n",
    "N  = list(input('Enter the numbers: '))\n",
    "type(N)\n",
    "try:\n",
    "    print(f\"The multiplication of list{N} is: {list_multiply(N)}\")\n",
    "except TypeError as e:\n",
    "    print(f\"Error is {e}\")\n",
    "    print()"
   ]
  },
  {
   "cell_type": "code",
   "execution_count": 28,
   "id": "2e4df092",
   "metadata": {},
   "outputs": [],
   "source": [
    "#3. Write a Python program to find smallest number in a list?\n"
   ]
  },
  {
   "cell_type": "code",
   "execution_count": 10,
   "id": "cf1d6934",
   "metadata": {},
   "outputs": [
    {
     "name": "stdout",
     "output_type": "stream",
     "text": [
      "1\n",
      "1\n",
      "1\n",
      "1\n",
      "0\n"
     ]
    },
    {
     "data": {
      "text/plain": [
       "0"
      ]
     },
     "execution_count": 10,
     "metadata": {},
     "output_type": "execute_result"
    }
   ],
   "source": [
    "def small_num(N):\n",
    "    small_num = int(N[0])\n",
    "    for i in range(len(N)):\n",
    "        try :\n",
    "            if int(N[i]) <small_num:\n",
    "                small_num = N[i]\n",
    "        except IndexError:\n",
    "            pass\n",
    "    return small_num\n",
    "small_num([1,2,3,4,0])"
   ]
  },
  {
   "cell_type": "code",
   "execution_count": 2,
   "id": "7428c1bb",
   "metadata": {},
   "outputs": [],
   "source": [
    "#4. Write a Python program to find largest number in a list?"
   ]
  },
  {
   "cell_type": "code",
   "execution_count": 14,
   "id": "d7947ee2",
   "metadata": {},
   "outputs": [
    {
     "data": {
      "text/plain": [
       "100"
      ]
     },
     "execution_count": 14,
     "metadata": {},
     "output_type": "execute_result"
    }
   ],
   "source": [
    "def greater_num(N):\n",
    "    small_num = int(N[0])\n",
    "    for i in range(len(N)):\n",
    "        try :\n",
    "            if int(N[i]) >small_num:\n",
    "                small_num = N[i]\n",
    "        except IndexError:\n",
    "            pass\n",
    "    return small_num\n",
    "greater_num([100,1,2,3,4,0])\n"
   ]
  },
  {
   "cell_type": "code",
   "execution_count": 15,
   "id": "5ab1bcc9",
   "metadata": {},
   "outputs": [],
   "source": [
    "#5. Write a Python program to find second largest number in a list?"
   ]
  },
  {
   "cell_type": "code",
   "execution_count": null,
   "id": "fbecc7f2",
   "metadata": {},
   "outputs": [],
   "source": [
    "def greater_num(N):\n",
    "    sorted_list =[]\n",
    "    small_num = int(N[0])\n",
    "    for i in range(len(N)):\n",
    "        try :\n",
    "            if int(N[i]) >small_num:\n",
    "                small_num = N[i]\n",
    "        except IndexError:\n",
    "            pass\n",
    "    return small_num\n",
    "greater_num([100,1,2,3,4,0])"
   ]
  }
 ],
 "metadata": {
  "kernelspec": {
   "display_name": "Python 3 (ipykernel)",
   "language": "python",
   "name": "python3"
  },
  "language_info": {
   "codemirror_mode": {
    "name": "ipython",
    "version": 3
   },
   "file_extension": ".py",
   "mimetype": "text/x-python",
   "name": "python",
   "nbconvert_exporter": "python",
   "pygments_lexer": "ipython3",
   "version": "3.9.13"
  }
 },
 "nbformat": 4,
 "nbformat_minor": 5
}
