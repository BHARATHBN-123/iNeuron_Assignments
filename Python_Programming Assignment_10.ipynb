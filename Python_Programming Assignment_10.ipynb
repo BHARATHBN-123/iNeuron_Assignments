{
 "cells": [
  {
   "cell_type": "markdown",
   "id": "3294d2f2",
   "metadata": {},
   "source": [
    "**1. Write a Python program to find sum of elements in list?**"
   ]
  },
  {
   "cell_type": "code",
   "execution_count": 64,
   "id": "5bffd6fe",
   "metadata": {},
   "outputs": [
    {
     "name": "stdout",
     "output_type": "stream",
     "text": [
      "Enter the numbers: 123456789\n",
      "The sum of list['1', '2', '3', '4', '5', '6', '7', '8', '9'] is: 45\n"
     ]
    }
   ],
   "source": [
    "def list_sum(N):\n",
    "    sum = 0\n",
    "    for i in N:\n",
    "        sum += int(i)\n",
    "    return sum\n",
    "N  = list(input('Enter the numbers: '))\n",
    "type(N)\n",
    "try:\n",
    "    print(f\"The sum of list{N} is: {list_sum(N)}\")\n",
    "except TypeError as e:\n",
    "    print(f\"Error is {e}\")\n",
    "    print()\n",
    "    \n",
    "        "
   ]
  },
  {
   "cell_type": "markdown",
   "id": "fa94fd3e",
   "metadata": {},
   "source": [
    "**2. Write a Python program to Multiply all numbers in the list?**"
   ]
  },
  {
   "cell_type": "code",
   "execution_count": 27,
   "id": "080aad3e",
   "metadata": {},
   "outputs": [
    {
     "name": "stdout",
     "output_type": "stream",
     "text": [
      "Enter the numbers: 123\n",
      "The multiplication of list['1', '2', '3'] is: 6\n"
     ]
    }
   ],
   "source": [
    "def list_multiply(N):\n",
    "    sum = 1\n",
    "    for i in N:\n",
    "        sum *= int(i)\n",
    "    return sum\n",
    "N  = list(input('Enter the numbers: '))\n",
    "type(N)\n",
    "try:\n",
    "    print(f\"The multiplication of list{N} is: {list_multiply(N)}\")\n",
    "except TypeError as e:\n",
    "    print(f\"Error is {e}\")\n",
    "    print()"
   ]
  },
  {
   "cell_type": "markdown",
   "id": "2fb5c16a",
   "metadata": {},
   "source": [
    "**3. Write a Python program to find smallest number in a list?**\n"
   ]
  },
  {
   "cell_type": "code",
   "execution_count": 10,
   "id": "cf1d6934",
   "metadata": {},
   "outputs": [
    {
     "name": "stdout",
     "output_type": "stream",
     "text": [
      "1\n",
      "1\n",
      "1\n",
      "1\n",
      "0\n"
     ]
    },
    {
     "data": {
      "text/plain": [
       "0"
      ]
     },
     "execution_count": 10,
     "metadata": {},
     "output_type": "execute_result"
    }
   ],
   "source": [
    "def small_num(N):\n",
    "    small_num = int(N[0])\n",
    "    for i in range(len(N)):\n",
    "        try :\n",
    "            if int(N[i]) <small_num:\n",
    "                small_num = N[i]\n",
    "        except IndexError:\n",
    "            pass\n",
    "    return small_num\n",
    "small_num([1,2,3,4,0])"
   ]
  },
  {
   "cell_type": "markdown",
   "id": "c62f57e2",
   "metadata": {},
   "source": [
    "**4. Write a Python program to find largest number in a list?**"
   ]
  },
  {
   "cell_type": "code",
   "execution_count": 14,
   "id": "d7947ee2",
   "metadata": {},
   "outputs": [
    {
     "data": {
      "text/plain": [
       "100"
      ]
     },
     "execution_count": 14,
     "metadata": {},
     "output_type": "execute_result"
    }
   ],
   "source": [
    "def greater_num(N):\n",
    "    small_num = int(N[0])\n",
    "    for i in range(len(N)):\n",
    "        try :\n",
    "            if int(N[i]) >small_num:\n",
    "                small_num = N[i]\n",
    "        except IndexError:\n",
    "            pass\n",
    "    return small_num\n",
    "greater_num([100,1,2,3,4,0])\n"
   ]
  },
  {
   "cell_type": "markdown",
   "id": "21d8d2d0",
   "metadata": {},
   "source": [
    "**5. Write a Python program to find second largest number in a list?**"
   ]
  },
  {
   "cell_type": "code",
   "execution_count": 20,
   "id": "fbecc7f2",
   "metadata": {},
   "outputs": [
    {
     "name": "stdout",
     "output_type": "stream",
     "text": [
      "The second largest number of list [100, 7, 5, 3, 3, 2, 2, 2, 2, 2, 2, 2, 2, 1] is 7\n"
     ]
    }
   ],
   "source": [
    "def greater_num(l):\n",
    "    #for sorting list elements\n",
    "    for i in range(len(l)):\n",
    "        for j in range (len(l)):\n",
    "            if l[i]<l[j]:\n",
    "                l[i] = l[i]\n",
    "            elif l[j]<l[i]:\n",
    "                temp = l[i]\n",
    "                l[i] = l[j]\n",
    "                l[j] = temp\n",
    "#for removing duplicate elements in list\n",
    "    return l[1]\n",
    "l = [5,7,2,1,3,2,100,2,2,2,2,2,2,3]\n",
    "greater_num(l)\n",
    "print(f\"The second largest number of list {l} is {greater_num(l)}\")"
   ]
  },
  {
   "cell_type": "markdown",
   "id": "ee518576",
   "metadata": {},
   "source": [
    "**6. Write a Python program to find N largest elements from a list?**"
   ]
  },
  {
   "cell_type": "code",
   "execution_count": 7,
   "id": "3262498d",
   "metadata": {},
   "outputs": [
    {
     "name": "stdout",
     "output_type": "stream",
     "text": [
      "The  nlargest number of sorted list [5, 7, 2, 1, 3, 2, 100, 2, 2, 2, 2, 2, 2, 3] is [100, 7, 5, 3]\n"
     ]
    }
   ],
   "source": [
    "def n_largest(l,n):\n",
    "    #for sorting list elements\n",
    "    for i in range(len(l)):\n",
    "        for j in range (len(l)):\n",
    "            if l[i]<l[j]:\n",
    "                l[i] = l[i]\n",
    "            elif l[j]<l[i]:\n",
    "                temp = l[i]\n",
    "                l[i] = l[j]\n",
    "                l[j] = temp\n",
    "#for removing duplicate elements in list\n",
    "    return l[:n]\n",
    "n = 4\n",
    "l = [5,7,2,1,3,2,100,2,2,2,2,2,2,3]\n",
    "print(f\"The  nlargest number of sorted list {l} is {n_largest(l , n)}\")"
   ]
  },
  {
   "cell_type": "markdown",
   "id": "024b0bd2",
   "metadata": {},
   "source": [
    "**7. Write a Python program to print even numbers in a list?**"
   ]
  },
  {
   "cell_type": "code",
   "execution_count": 14,
   "id": "8fd08b7c",
   "metadata": {},
   "outputs": [
    {
     "name": "stdout",
     "output_type": "stream",
     "text": [
      "0 is even number\n",
      "2 is even number\n",
      "4 is even number\n",
      "6 is even number\n",
      "8 is even number\n",
      "10 is even number\n"
     ]
    }
   ],
   "source": [
    "l  = [1,0,2,3,4,5,6,7,8,9,10]\n",
    "def even_num(l):\n",
    "    for num   in l:\n",
    "        if num%2 == 0:\n",
    "            print(f\"{num} is even number\")\n",
    "even_num(l)\n",
    "        "
   ]
  },
  {
   "cell_type": "markdown",
   "id": "a9a78f74",
   "metadata": {},
   "source": [
    "**8. Write a Python program to print odd numbers in a list?**"
   ]
  },
  {
   "cell_type": "code",
   "execution_count": 46,
   "id": "338862e0",
   "metadata": {
    "scrolled": true
   },
   "outputs": [
    {
     "name": "stdout",
     "output_type": "stream",
     "text": [
      "1 is odd number\n",
      "3 is odd number\n",
      "5 is odd number\n",
      "7 is odd number\n",
      "9 is odd number\n"
     ]
    }
   ],
   "source": [
    "l  = [1,0,2,3,4,5,6,7,8,9,10]\n",
    "def odd_num(l):\n",
    "    for num   in l:\n",
    "        if num%2 != 0:\n",
    "            print(f\"{num} is odd number\")\n",
    "odd_num(l)"
   ]
  },
  {
   "cell_type": "markdown",
   "id": "d7f33884",
   "metadata": {},
   "source": [
    "**9. Write a Python program to Remove empty List from List?**"
   ]
  },
  {
   "cell_type": "code",
   "execution_count": 56,
   "id": "4f03c370",
   "metadata": {},
   "outputs": [
    {
     "name": "stdout",
     "output_type": "stream",
     "text": [
      "List after empty list removal : [[2, 3, 4], 2, 3]\n"
     ]
    }
   ],
   "source": [
    "l = [[],[2,3,4],[],2,[],3]\n",
    "final_list = [i for i in l if i!=[]]\n",
    "print(\"List after empty list removal : \" + str(final_list))"
   ]
  },
  {
   "cell_type": "markdown",
   "id": "d4e9c8ef",
   "metadata": {},
   "source": [
    "**10. Write a Python program to Cloning or Copying a list?**"
   ]
  },
  {
   "cell_type": "code",
   "execution_count": 61,
   "id": "7b3cbe98",
   "metadata": {},
   "outputs": [
    {
     "name": "stdout",
     "output_type": "stream",
     "text": [
      "The copy of original list [1, 0, 2, 3, 4, 5, 6, 7, 8, 9, 10] is [1, 0, 2, 3, 4, 5, 6, 7, 8, 9, 10]\n"
     ]
    }
   ],
   "source": [
    "original_list  = [1,0,2,3,4,5,6,7,8,9,10]\n",
    "copy_of_list = original_list.copy()\n",
    "print(f\"The copy of original list {original_list} is {copy_of_list}\")"
   ]
  },
  {
   "cell_type": "code",
   "execution_count": 62,
   "id": "ee6a9c42",
   "metadata": {},
   "outputs": [],
   "source": [
    "#11. Write a Python program to Count occurrences of an element in a list?"
   ]
  },
  {
   "cell_type": "code",
   "execution_count": 68,
   "id": "b293b1ba",
   "metadata": {},
   "outputs": [
    {
     "name": "stdout",
     "output_type": "stream",
     "text": [
      "5 occurs 1 times\n",
      "7 occurs 1 times\n",
      "2 occurs 8 times\n",
      "1 occurs 1 times\n",
      "3 occurs 2 times\n",
      "100 occurs 1 times\n"
     ]
    }
   ],
   "source": [
    "l = [5,7,2,1,3,2,100,2,2,2,2,2,2,3]\n",
    "occurrence = {item: l.count(item) for item in l}\n",
    "for k,v in occurrence.items():\n",
    "    print(f\"{k} occurs {v} times\")"
   ]
  }
 ],
 "metadata": {
  "kernelspec": {
   "display_name": "Python 3 (ipykernel)",
   "language": "python",
   "name": "python3"
  },
  "language_info": {
   "codemirror_mode": {
    "name": "ipython",
    "version": 3
   },
   "file_extension": ".py",
   "mimetype": "text/x-python",
   "name": "python",
   "nbconvert_exporter": "python",
   "pygments_lexer": "ipython3",
   "version": "3.11.1 (tags/v3.11.1:a7a450f, Dec  6 2022, 19:58:39) [MSC v.1934 64 bit (AMD64)]"
  },
  "vscode": {
   "interpreter": {
    "hash": "c7dd5e9e9b892ddd09ccbdb689c26c8a6a34b0d35fca4835298ca549258846be"
   }
  }
 },
 "nbformat": 4,
 "nbformat_minor": 5
}
