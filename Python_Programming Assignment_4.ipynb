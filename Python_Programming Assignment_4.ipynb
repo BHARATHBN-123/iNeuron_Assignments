{
 "cells": [
  {
   "cell_type": "markdown",
   "id": "b8940f5a",
   "metadata": {},
   "source": [
    "**1. Write a Python Program to Find the Factorial of a Number?**"
   ]
  },
  {
   "cell_type": "code",
   "execution_count": 6,
   "id": "31f4ddcd",
   "metadata": {},
   "outputs": [
    {
     "data": {
      "text/plain": [
       "'factorial of 5 is 120'"
      ]
     },
     "execution_count": 6,
     "metadata": {},
     "output_type": "execute_result"
    }
   ],
   "source": [
    "def factorial(num):\n",
    "    factorial=1\n",
    "    for i in range(1,num+1):\n",
    "        factorial*=i\n",
    "    return f\"factorial of {num} is {factorial}\"\n",
    "factorial(5)"
   ]
  },
  {
   "cell_type": "markdown",
   "id": "15902b06",
   "metadata": {},
   "source": [
    "**2. Write a Python Program to Display the multiplication Table?**"
   ]
  },
  {
   "cell_type": "code",
   "execution_count": null,
   "id": "c487e347",
   "metadata": {},
   "outputs": [],
   "source": [
    "def multiplication_table(multiplier , length):\n",
    "    for i in range(1 , length+1):\n",
    "        return f\"{multiplier} x {i} = {multiplier * i}\"\n",
    "multiplication_table(3 , len)"
   ]
  }
 ],
 "metadata": {
  "kernelspec": {
   "display_name": "Python 3 (ipykernel)",
   "language": "python",
   "name": "python3"
  },
  "language_info": {
   "codemirror_mode": {
    "name": "ipython",
    "version": 3
   },
   "file_extension": ".py",
   "mimetype": "text/x-python",
   "name": "python",
   "nbconvert_exporter": "python",
   "pygments_lexer": "ipython3",
   "version": "3.9.13"
  }
 },
 "nbformat": 4,
 "nbformat_minor": 5
}
