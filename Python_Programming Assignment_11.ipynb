{
 "cells": [
  {
   "cell_type": "code",
   "execution_count": 1,
   "id": "e99b787e",
   "metadata": {},
   "outputs": [],
   "source": [
    "#1. Write a Python program to find words which are greater than given length k?"
   ]
  },
  {
   "cell_type": "code",
   "execution_count": 2,
   "id": "86e8e7f4",
   "metadata": {},
   "outputs": [
    {
     "name": "stdout",
     "output_type": "stream",
     "text": [
      "Enter the value of K: 3\n",
      "Write\n",
      "Python\n",
      "program\n",
      "find\n",
      "words\n",
      "which\n",
      "greater\n",
      "than\n",
      "given\n",
      "length\n"
     ]
    }
   ],
   "source": [
    "def str_len(s):\n",
    "    count  = 0\n",
    "    for i in s:\n",
    "        count+=1\n",
    "    return int(count)\n",
    "#list of words\n",
    "k = int(input(\"Enter the value of K: \"))\n",
    "l = ['Write', 'a' ,'Python', 'program', 'to', 'find' ,'words' ,'which' ,'are' ,'greater' ,'than', 'given', 'length', 'k']\n",
    "for words in l:\n",
    "    if str_len(words)>k:\n",
    "        print(words)\n"
   ]
  },
  {
   "cell_type": "code",
   "execution_count": 4,
   "id": "bbbdd8e3",
   "metadata": {},
   "outputs": [],
   "source": [
    "#2. Write a Python program for removing i-th character from a string?"
   ]
  },
  {
   "cell_type": "code",
   "execution_count": 5,
   "id": "011dd509",
   "metadata": {},
   "outputs": [
    {
     "ename": "IndentationError",
     "evalue": "expected an indented block (3148879420.py, line 3)",
     "output_type": "error",
     "traceback": [
      "\u001b[1;36m  File \u001b[1;32m\"C:\\Users\\scii221001\\AppData\\Local\\Temp\\ipykernel_5800\\3148879420.py\"\u001b[1;36m, line \u001b[1;32m3\u001b[0m\n\u001b[1;33m    \u001b[0m\n\u001b[1;37m    ^\u001b[0m\n\u001b[1;31mIndentationError\u001b[0m\u001b[1;31m:\u001b[0m expected an indented block\n"
     ]
    }
   ],
   "source": [
    "def remove_ith_character(string , index):\n",
    "    pass\n",
    "    "
   ]
  },
  {
   "cell_type": "code",
   "execution_count": null,
   "id": "8c45a618",
   "metadata": {},
   "outputs": [],
   "source": [
    "a = 'program'\n",
    "a."
   ]
  }
 ],
 "metadata": {
  "kernelspec": {
   "display_name": "Python 3 (ipykernel)",
   "language": "python",
   "name": "python3"
  },
  "language_info": {
   "codemirror_mode": {
    "name": "ipython",
    "version": 3
   },
   "file_extension": ".py",
   "mimetype": "text/x-python",
   "name": "python",
   "nbconvert_exporter": "python",
   "pygments_lexer": "ipython3",
   "version": "3.9.13"
  }
 },
 "nbformat": 4,
 "nbformat_minor": 5
}
