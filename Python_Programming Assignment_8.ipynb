{
 "cells": [
  {
   "cell_type": "markdown",
   "id": "de65e6dd",
   "metadata": {},
   "source": [
    "**1. Write a Python Program to Add Two Matrices?**"
   ]
  },
  {
   "cell_type": "code",
   "execution_count": 1,
   "id": "95172a97",
   "metadata": {},
   "outputs": [
    {
     "data": {
      "text/plain": [
       "[[11, 15, 4], [10, -2, 9], [11, 13, 18]]"
      ]
     },
     "execution_count": 1,
     "metadata": {},
     "output_type": "execute_result"
    }
   ],
   "source": [
    "X = [[6,7,3],\n",
    "    [4 ,5,6],\n",
    "    [7 ,8,9]]\n",
    "\n",
    "Y = [[5,8,1],\n",
    "    [6,-7,3],\n",
    "    [4,5,9]]\n",
    "def Add_Matrix(X,Y):\n",
    "    res=[[X[i][j] + Y[i][j]  for j in range(len(X[0]))] for i in range(len(X))]\n",
    "    return res\n",
    "Add_Matrix(X,Y)"
   ]
  },
  {
   "cell_type": "markdown",
   "id": "40aa6b9b",
   "metadata": {},
   "source": [
    "**2. Write a Python Program to Multiply Two Matrices?**"
   ]
  },
  {
   "cell_type": "code",
   "execution_count": 2,
   "id": "161018f7",
   "metadata": {},
   "outputs": [
    {
     "name": "stdout",
     "output_type": "stream",
     "text": [
      "[114, 160, 60, 27]\n",
      "[74, 97, 73, 14]\n",
      "[119, 157, 112, 23]\n"
     ]
    }
   ],
   "source": [
    "\n",
    "# 3x3 matrix\n",
    "X = [[12,7,3],\n",
    "    [4 ,5,6],\n",
    "    [7 ,8,9]]\n",
    "# 3x4 matrix\n",
    "Y = [[5,8,1,2],\n",
    "    [6,7,3,0],\n",
    "    [4,5,9,1]]\n",
    "# result is 3x4\n",
    "result = [[0,0,0,0],\n",
    "         [0,0,0,0],\n",
    "         [0,0,0,0]]\n",
    "for i in range(len(X)):\n",
    "    for j in range(len(Y[0])):\n",
    "        for k in range(len(Y)):\n",
    "            result[i][j] += X[i][k] * Y[k][j]\n",
    "\n",
    "for r in result:\n",
    "    print(r)\n"
   ]
  },
  {
   "cell_type": "markdown",
   "id": "c01ca0bc",
   "metadata": {},
   "source": [
    "**3. Write a Python Program to Transpose a Matrix?**"
   ]
  },
  {
   "cell_type": "code",
   "execution_count": 18,
   "id": "0efe3d1f",
   "metadata": {},
   "outputs": [
    {
     "name": "stdout",
     "output_type": "stream",
     "text": [
      "Modified matrix is\n",
      "1  2  3  4  \n",
      "1  2  3  4  \n",
      "1  2  3  4  \n",
      "1  2  3  4  \n"
     ]
    }
   ],
   "source": [
    "N = 4\n",
    " \n",
    "def transpose(A):\n",
    "    for i in range(N):\n",
    "        for j in range(i+1, N):\n",
    "            A[i][j], A[j][i] = A[j][i], A[i][j]\n",
    "\n",
    "A = [ [1, 1, 1, 1],\n",
    " [2, 2, 2, 2],\n",
    " [3, 3, 3, 3],\n",
    " [4, 4, 4, 4]]\n",
    " \n",
    "transpose(A)\n",
    " \n",
    "print(\"Modified matrix is\")\n",
    "for i in range(N):\n",
    "    for j in range(N):\n",
    "        print(A[i][j], \" \", end='')\n",
    "    print()"
   ]
  },
  {
   "cell_type": "code",
   "execution_count": 19,
   "id": "ace04db9",
   "metadata": {},
   "outputs": [],
   "source": [
    "#4. Write a Python Program to Sort Words in Alphabetic Order?"
   ]
  },
  {
   "cell_type": "code",
   "execution_count": 26,
   "id": "9056f90b",
   "metadata": {},
   "outputs": [
    {
     "name": "stdout",
     "output_type": "stream",
     "text": [
      "Enter the sentence: Write a Python Program to Sort Words in Alphabetic Order?\n",
      "['a', 'alphabetic', 'in', 'order?', 'program', 'python', 'sort', 'to', 'words', 'write']\n"
     ]
    }
   ],
   "source": [
    "def sort_words(sentence):\n",
    "    W = sentence.split(\" \")\n",
    "    for i in range(len(W)):\n",
    "        W[i] = W[i].lower()\n",
    "    return sorted(W)    \n",
    "sentence = input(\"Enter the sentence: \")\n",
    "print(sort_words(sentence))"
   ]
  },
  {
   "cell_type": "code",
   "execution_count": null,
   "id": "fa17b002",
   "metadata": {},
   "outputs": [],
   "source": [
    "#5. Write a Python Program to Remove Punctuation From a String?"
   ]
  },
  {
   "cell_type": "code",
   "execution_count": 38,
   "id": "c2213532",
   "metadata": {},
   "outputs": [
    {
     "name": "stdout",
     "output_type": "stream",
     "text": [
      "The original string is :  5. Write : a Python , Program to \" Remove Punctuation From > a String?\n",
      "String after removing : 5 Write  a Python  Program to  Remove Punctuation From  a String\n"
     ]
    }
   ],
   "source": [
    "import string\n",
    " \n",
    "string_test = '5. Write : a Python , Program to \" Remove Punctuation From > a String?'\n",
    "print(\"The original string is : \",string_test)\n",
    "punc = '''!()-[]{};:'\"\\,<>./?@#$%^&*_~'''\n",
    "for ele in string_test:\n",
    "    if ele in punc:\n",
    "        string_test = string_test.replace(ele, \"\")\n",
    "print(\"String after removing :\" ,string_test)"
   ]
  }
 ],
 "metadata": {
  "kernelspec": {
   "display_name": "Python 3 (ipykernel)",
   "language": "python",
   "name": "python3"
  },
  "language_info": {
   "codemirror_mode": {
    "name": "ipython",
    "version": 3
   },
   "file_extension": ".py",
   "mimetype": "text/x-python",
   "name": "python",
   "nbconvert_exporter": "python",
   "pygments_lexer": "ipython3",
   "version": "3.9.13"
  }
 },
 "nbformat": 4,
 "nbformat_minor": 5
}
