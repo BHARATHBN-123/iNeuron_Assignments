{
 "cells": [
  {
   "cell_type": "code",
   "execution_count": null,
   "id": "3505d67a",
   "metadata": {},
   "outputs": [],
   "source": [
    "#1. Write a Python program to Extract Unique values dictionary values?"
   ]
  },
  {
   "cell_type": "code",
   "execution_count": 6,
   "id": "c81e788c",
   "metadata": {},
   "outputs": [
    {
     "name": "stdout",
     "output_type": "stream",
     "text": [
      "The unique values in above dictionary is {0, 3, 5, 7, 8, 11, 12, 77, 45, 51, 22, 56, 89, 90, 31, 63}\n"
     ]
    }
   ],
   "source": [
    "my_dict = {'hi' : [5,3,8, 0],\n",
    "   'there' : [22, 51, 63, 77],\n",
    "   'how' : [7, 0, 22],\n",
    "   'are' : [12, 11, 45],\n",
    "   'you' : [56, 31, 89, 90]}\n",
    "\n",
    "unique_val = list(ele for ele in my_dict.values() for ele in ele)\n",
    "print(f\"The unique values in above dictionary is {set(unique_val)}\")"
   ]
  },
  {
   "cell_type": "code",
   "execution_count": 8,
   "id": "e09b580f",
   "metadata": {},
   "outputs": [
    {
     "name": "stdout",
     "output_type": "stream",
     "text": [
      "The sum of all values in above dictionary is 592\n"
     ]
    }
   ],
   "source": [
    "#2. Write a Python program to find the sum of all items in a dictionary?\n",
    "my_dict = {'hi' : [5,3,8, 0],\n",
    "   'there' : [22, 51, 63, 77],\n",
    "   'how' : [7, 0, 22],\n",
    "   'are' : [12, 11, 45],\n",
    "   'you' : [56, 31, 89, 90]}\n",
    "\n",
    "unique_val = list(ele for ele in my_dict.values() for ele in ele)\n",
    "print(f\"The sum of all values in above dictionary is {sum(unique_val)}\")"
   ]
  },
  {
   "cell_type": "code",
   "execution_count": 9,
   "id": "8c62890b",
   "metadata": {},
   "outputs": [],
   "source": [
    "#3. Write a Python program to Merging two Dictionaries?"
   ]
  },
  {
   "cell_type": "code",
   "execution_count": 24,
   "id": "b3176b67",
   "metadata": {},
   "outputs": [
    {
     "name": "stdout",
     "output_type": "stream",
     "text": [
      "after merging two dictionaries {'hi': [5, 3, 8, 0], 'there': [22, 51, 63, 77], 'how': [7, 0, 22], 'are': [12, 11, 45], 'you': [56, 31, 89, 90], 'i': [5, 3, 8, 0], 'here': [22, 51, 63, 77], 'ow': [7, 0, 22], 're': [12, 11, 45], 'ou': [56, 31, 89, 90]}\n"
     ]
    }
   ],
   "source": [
    "my_dict1 = {'hi' : [5,3,8, 0],\n",
    "   'there' : [22, 51, 63, 77],\n",
    "   'how' : [7, 0, 22],\n",
    "   'are' : [12, 11, 45],\n",
    "   'you' : [56, 31, 89, 90]}\n",
    "my_dict2 = {'i' : [5,3,8, 0],\n",
    "   'here' : [22, 51, 63, 77],\n",
    "   'ow' : [7, 0, 22],\n",
    "   're' : [12, 11, 45],\n",
    "   'ou' : [56, 31, 89, 90]}\n",
    "final_dict = my_dict1|my_dict2\n",
    "print(f\"after merging two dictionaries {final_dict}\")"
   ]
  },
  {
   "cell_type": "code",
   "execution_count": null,
   "id": "183a8c60",
   "metadata": {},
   "outputs": [],
   "source": [
    "#4. Write a Python program to convert key-values list to flat dictionary?"
   ]
  },
  {
   "cell_type": "code",
   "execution_count": 36,
   "id": "6a3a4c85",
   "metadata": {},
   "outputs": [
    {
     "data": {
      "text/plain": [
       "\"The flatend dictionary is {'Jan': 1, 'Feb': 2, 'March': 3, 'Apr': 4, 'May': 5, 'June': 6}\""
      ]
     },
     "execution_count": 36,
     "metadata": {},
     "output_type": "execute_result"
    }
   ],
   "source": [
    "my_dict = {'month_num' : [1, 2, 3, 4, 5, 6], 'name_of_month' : ['Jan', 'Feb', 'March', 'Apr', 'May', 'June']}\n",
    "\n",
    "(f\"The flatend dictionary is {dict(zip(my_dict['name_of_month'],my_dict['month_num']))}\")"
   ]
  },
  {
   "cell_type": "code",
   "execution_count": 37,
   "id": "2e050894",
   "metadata": {},
   "outputs": [],
   "source": [
    "#5. Write a Python program to insertion at the beginning in OrderedDict?"
   ]
  },
  {
   "cell_type": "code",
   "execution_count": 51,
   "id": "e66b6714",
   "metadata": {},
   "outputs": [
    {
     "name": "stdout",
     "output_type": "stream",
     "text": [
      "order dic before sending 'python' to front OrderedDict([('ML', '1'), ('DL', '2'), ('stats', '3'), ('python', '4')])\n",
      "order dic after sending 'python' to front OrderedDict([('python', '4'), ('ML', '1'), ('DL', '2'), ('stats', '3')])\n"
     ]
    }
   ],
   "source": [
    "from collections import OrderedDict\n",
    "\n",
    "ordic = OrderedDict()\n",
    "ordic['ML'] = '1'\n",
    "ordic['DL'] = '2'\n",
    "ordic['stats'] = '3'\n",
    "\n",
    "ordic.update({'python':'4'})\n",
    "print(f\"order dic before sending 'python' to front {ordic}\" )\n",
    "ordic.move_to_end('python' ,last=False)\n",
    "print(f\"order dic after sending 'python' to front {ordic}\" )"
   ]
  },
  {
   "cell_type": "code",
   "execution_count": 52,
   "id": "0c7c825e",
   "metadata": {},
   "outputs": [],
   "source": [
    "#6. Write a Python program to check order of character in string using OrderedDict()?"
   ]
  },
  {
   "cell_type": "code",
   "execution_count": null,
   "id": "faaeb5fe",
   "metadata": {},
   "outputs": [],
   "source": [
    "from collections import OrderedDict\n",
    "od = OrderedDict.fromkeys(input)\n",
    "\n",
    "def check_order(input , pattern):\n",
    "    "
   ]
  }
 ],
 "metadata": {
  "kernelspec": {
   "display_name": "Python 3 (ipykernel)",
   "language": "python",
   "name": "python3"
  },
  "language_info": {
   "codemirror_mode": {
    "name": "ipython",
    "version": 3
   },
   "file_extension": ".py",
   "mimetype": "text/x-python",
   "name": "python",
   "nbconvert_exporter": "python",
   "pygments_lexer": "ipython3",
   "version": "3.9.13"
  }
 },
 "nbformat": 4,
 "nbformat_minor": 5
}
