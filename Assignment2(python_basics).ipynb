{
  "nbformat": 4,
  "nbformat_minor": 0,
  "metadata": {
    "colab": {
      "provenance": [],
      "mount_file_id": "1EgEaSd7vipZi7h-OatcQeKnJ23U0WCaw",
      "authorship_tag": "ABX9TyMVQcnkEaPiwZgdCT2iMJbv",
      "include_colab_link": true
    },
    "kernelspec": {
      "name": "python3",
      "display_name": "Python 3"
    },
    "language_info": {
      "name": "python"
    }
  },
  "cells": [
    {
      "cell_type": "markdown",
      "metadata": {
        "id": "view-in-github",
        "colab_type": "text"
      },
      "source": [
        "<a href=\"https://colab.research.google.com/github/BHARATHBN-123/iNeuron_Assignments/blob/main/Assignment2(python_basics).ipynb\" target=\"_parent\"><img src=\"https://colab.research.google.com/assets/colab-badge.svg\" alt=\"Open In Colab\"/></a>"
      ]
    },
    {
      "cell_type": "markdown",
      "source": [
        "1.What are the two values of the Boolean data type? How do you write them?\n",
        "\n",
        "ANSWER : true and false "
      ],
      "metadata": {
        "id": "_aVW9dNNswNl"
      }
    },
    {
      "cell_type": "markdown",
      "source": [
        "2. What are the three different types of Boolean operators?\n",
        "\n",
        "ANSWER: AND, OR,and NOT\n"
      ],
      "metadata": {
        "id": "UUtQ80p8s9zR"
      }
    },
    {
      "cell_type": "markdown",
      "source": [
        "3. Make a list of each Boolean operator  truth tables (i.e. every possible combination of Boolean\n",
        "values for the operator and what it evaluate ).\n",
        "\n",
        "ANSWER : "
      ],
      "metadata": {
        "id": "XtQ36qCttK1A"
      }
    }
  ]
}